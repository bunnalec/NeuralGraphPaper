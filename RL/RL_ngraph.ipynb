{
 "cells": [
  {
   "cell_type": "code",
   "execution_count": 1,
   "metadata": {},
   "outputs": [
    {
     "name": "stderr",
     "output_type": "stream",
     "text": [
      "C:\\Users\\Alec\\AppData\\Local\\Temp\\ipykernel_23956\\599906760.py:8: TqdmExperimentalWarning: Using `tqdm.autonotebook.tqdm` in notebook mode. Use `tqdm.tqdm` instead to force console mode (e.g. in jupyter console)\n",
      "  from tqdm.autonotebook import tqdm\n"
     ]
    }
   ],
   "source": [
    "from batchedCartpole import CartPole\n",
    "import sys\n",
    "sys.path.append(\"../ES\")\n",
    "from ES_NeuralGraph import NeuralGraph\n",
    "import torch\n",
    "import numpy as np\n",
    "import matplotlib.pyplot as plt\n",
    "from tqdm.autonotebook import tqdm"
   ]
  },
  {
   "cell_type": "code",
   "execution_count": 7,
   "metadata": {},
   "outputs": [],
   "source": [
    "n_inp = 4\n",
    "n_out = 3\n",
    "n_hid = 8\n",
    "n_reward = 1\n",
    "\n",
    "n_nodes = n_inp + n_out + n_hid + n_reward\n",
    "\n",
    "connections = torch.Tensor([[i, j] for i in range(n_nodes) for j in range(n_nodes)]).long()\n",
    "\n",
    "graph = NeuralGraph(n_nodes, n_inp + n_reward, n_out, connections, ch_n=4, ch_e=4, clamp_mode=\"hard\", max_value=5, init_mode=\"trainable\", set_nodes=True, aggregation=\"mean\", \n",
    "                     use_label=False, n_models=1)\n",
    "\n",
    "env = CartPole()\n",
    "\n",
    "optimizer = torch.optim.Adam(graph.parameters(), lr=1e-3)"
   ]
  },
  {
   "cell_type": "code",
   "execution_count": 9,
   "metadata": {},
   "outputs": [
    {
     "data": {
      "application/vnd.jupyter.widget-view+json": {
       "model_id": "b18b23a2598c417f8e51c589fad60559",
       "version_major": 2,
       "version_minor": 0
      },
      "text/plain": [
       "  0%|          | 0/10000 [00:00<?, ?it/s]"
      ]
     },
     "metadata": {},
     "output_type": "display_data"
    }
   ],
   "source": [
    "EPOCHS = 10_000\n",
    "STEPS = 200\n",
    "\n",
    "BATCH_SIZE = 64\n",
    "TIME = 1\n",
    "DT = .5\n",
    "\n",
    "bar = tqdm(range(EPOCHS))\n",
    "\n",
    "for _ in bar:\n",
    "    with torch.no_grad():\n",
    "        graph.init_vals(nodes=True, edges=True, batch_size=BATCH_SIZE)\n",
    "        graph.generate_epsilons(BATCH_SIZE)\n",
    "        state = env.initialize(BATCH_SIZE)\n",
    "        reward = torch.zeros(BATCH_SIZE)\n",
    "        optimizer.zero_grad()\n",
    "\n",
    "        regret = torch.zeros(BATCH_SIZE)\n",
    "\n",
    "        for _ in range(STEPS):\n",
    "            action = graph.forward(torch.cat([state, reward.unsqueeze(-1)], axis=-1), TIME, DT, apply_once=False, nodes=True, edges=True).argmax(-1)\n",
    "            reward = env.step(action)\n",
    "            regret -= reward\n",
    "\n",
    "        graph.estimate_grads(regret)\n",
    "\n",
    "        optimizer.step()\n",
    "\n",
    "        bar.set_postfix({f\"Avg. Regret:\":regret.mean().item()})"
   ]
  },
  {
   "cell_type": "code",
   "execution_count": null,
   "metadata": {},
   "outputs": [],
   "source": []
  }
 ],
 "metadata": {
  "kernelspec": {
   "display_name": "base",
   "language": "python",
   "name": "python3"
  },
  "language_info": {
   "codemirror_mode": {
    "name": "ipython",
    "version": 3
   },
   "file_extension": ".py",
   "mimetype": "text/x-python",
   "name": "python",
   "nbconvert_exporter": "python",
   "pygments_lexer": "ipython3",
   "version": "3.11.3"
  }
 },
 "nbformat": 4,
 "nbformat_minor": 2
}
