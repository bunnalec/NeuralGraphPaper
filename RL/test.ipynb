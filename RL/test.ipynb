{
 "cells": [
  {
   "cell_type": "code",
   "execution_count": 1,
   "metadata": {},
   "outputs": [],
   "source": [
    "from batchedCartpole import CartPole\n",
    "import torch"
   ]
  },
  {
   "cell_type": "code",
   "execution_count": 2,
   "metadata": {},
   "outputs": [],
   "source": [
    "env = CartPole()"
   ]
  },
  {
   "cell_type": "code",
   "execution_count": 7,
   "metadata": {},
   "outputs": [
    {
     "name": "stdout",
     "output_type": "stream",
     "text": [
      "1.19677734375\n",
      "0.17903995513916016\n"
     ]
    }
   ],
   "source": [
    "import time\n",
    "\n",
    "STEPS = 200\n",
    "\n",
    "env.initialize(512)\n",
    "\n",
    "regret = torch.zeros(512)\n",
    "\n",
    "t0 = time.time()\n",
    "for i in range(STEPS):\n",
    "    reward = env.step(torch.ones(512) * 2) # torch.ones(512) * 2\n",
    "    regret -= reward\n",
    "\n",
    "print(regret.mean().item() / STEPS)\n",
    "\n",
    "print(time.time() - t0)"
   ]
  },
  {
   "cell_type": "code",
   "execution_count": null,
   "metadata": {},
   "outputs": [],
   "source": []
  }
 ],
 "metadata": {
  "kernelspec": {
   "display_name": "Python 3",
   "language": "python",
   "name": "python3"
  },
  "language_info": {
   "codemirror_mode": {
    "name": "ipython",
    "version": 3
   },
   "file_extension": ".py",
   "mimetype": "text/x-python",
   "name": "python",
   "nbconvert_exporter": "python",
   "pygments_lexer": "ipython3",
   "version": "3.9.6"
  }
 },
 "nbformat": 4,
 "nbformat_minor": 2
}
