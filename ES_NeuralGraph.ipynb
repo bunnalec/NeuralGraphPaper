{
 "cells": [
  {
   "cell_type": "code",
   "execution_count": 1,
   "metadata": {},
   "outputs": [
    {
     "name": "stderr",
     "output_type": "stream",
     "text": [
      "C:\\Users\\Alec\\AppData\\Local\\Temp\\ipykernel_11896\\1838974486.py:8: TqdmExperimentalWarning: Using `tqdm.autonotebook.tqdm` in notebook mode. Use `tqdm.tqdm` instead to force console mode (e.g. in jupyter console)\n",
      "  from tqdm.autonotebook import tqdm\n"
     ]
    }
   ],
   "source": [
    "import importlib\n",
    "import torch\n",
    "import torch.nn as nn\n",
    "\n",
    "import tensorflow as tf\n",
    "\n",
    "import matplotlib.pyplot as plt\n",
    "from tqdm.autonotebook import tqdm\n",
    "import numpy as np\n",
    "import cv2\n",
    "import pandas as pd\n",
    "\n",
    "import random\n",
    "\n",
    "from NeuralGraph import NeuralGraph"
   ]
  },
  {
   "cell_type": "code",
   "execution_count": 2,
   "metadata": {},
   "outputs": [
    {
     "data": {
      "text/plain": [
       "<torch._C.Generator at 0x1f35018f950>"
      ]
     },
     "execution_count": 2,
     "metadata": {},
     "output_type": "execute_result"
    }
   ],
   "source": [
    "np.random.seed(42)\n",
    "random.seed(42)\n",
    "torch.manual_seed(42)"
   ]
  },
  {
   "cell_type": "code",
   "execution_count": 3,
   "metadata": {},
   "outputs": [],
   "source": [
    "def split_dataset(x, y, valid_split=.2, test_split=.2):\n",
    "    classes = np.unique(y)\n",
    "    train_valid_split = round(len(classes)*(1-(valid_split+test_split)))\n",
    "    valid_test_split = round(len(classes)*(1-test_split))\n",
    "\n",
    "    train_classes = set(classes[:train_valid_split])\n",
    "    valid_classes = set(classes[train_valid_split:valid_test_split])\n",
    "    test_classes = set(classes[valid_test_split:])\n",
    "\n",
    "    train = {i:[] for i in train_classes}\n",
    "    valid = {i:[] for i in valid_classes}\n",
    "    test = {i:[] for i in test_classes}\n",
    "\n",
    "    for data, class_ in zip(x, y):\n",
    "        if class_ in train_classes:\n",
    "            train[class_].append(data)\n",
    "        \n",
    "        elif class_ in valid_classes:\n",
    "            valid[class_].append(data)\n",
    "\n",
    "        else:\n",
    "            test[class_].append(data)\n",
    "\n",
    "    for class_ in train_classes:\n",
    "        train[class_] = np.stack(train[class_])\n",
    "\n",
    "    for class_ in valid_classes:\n",
    "        valid[class_] = np.stack(valid[class_])\n",
    "\n",
    "    for class_ in test_classes:\n",
    "        test[class_] = np.stack(test[class_])\n",
    "\n",
    "    return train, valid, test"
   ]
  },
  {
   "cell_type": "code",
   "execution_count": 4,
   "metadata": {},
   "outputs": [],
   "source": [
    "SIZE = 7\n",
    "\n",
    "(x, y), (_, _) = tf.keras.datasets.mnist.load_data()\n",
    "x = np.stack([cv2.resize(img/255.0, dsize=[SIZE, SIZE]) for img in x]).reshape(-1, SIZE**2)\n",
    "\n",
    "_, mnist_valid, mnist_test = split_dataset(x, y, valid_split=.5, test_split=.5)\n",
    "\n",
    "(x, y), (_, _) = tf.keras.datasets.fashion_mnist.load_data()\n",
    "x = np.stack([cv2.resize(img/255.0, dsize=[SIZE, SIZE]) for img in x]).reshape(-1, SIZE**2)\n",
    "\n",
    "_, fashion_valid, fashion_test = split_dataset(x, y, valid_split=.5, test_split=.5)\n",
    "\n",
    "emnist = pd.read_csv(\"emnist-letters-train.csv\").values\n",
    "x, y = emnist[:, 1:], emnist[:, 0]\n",
    "x = np.stack([cv2.resize(cv2.flip(cv2.rotate(img.reshape(28, 28)/255.0, cv2.ROTATE_90_CLOCKWISE), 1), dsize=[SIZE, SIZE]) for img in x]).reshape(-1, SIZE**2)\n",
    "\n",
    "emnist_train, emnist_valid, emnist_test = split_dataset(x, y)"
   ]
  },
  {
   "cell_type": "code",
   "execution_count": 5,
   "metadata": {},
   "outputs": [],
   "source": [
    "train = [emnist_train]\n",
    "valid = [mnist_valid, fashion_valid, emnist_valid]"
   ]
  },
  {
   "cell_type": "code",
   "execution_count": 6,
   "metadata": {},
   "outputs": [],
   "source": [
    "# BATCH_SIZE = 128\n",
    "# TIME = 1\n",
    "# DT = .25\n",
    "\n",
    "# n_classes = 2\n",
    "# device = \"cuda\" if torch.cuda.is_available() else \"cpu\"\n",
    "\n",
    "\n",
    "# shape = [SIZE**2, 8, n_classes]\n",
    "# n_nodes = sum(shape)\n",
    "# connections = [(sum(shape[:i])+x, sum(shape[:i+1])+y) for i in range(len(shape)-1) for x in range(shape[i]) for y in range(shape[i+1])]\n",
    "\n",
    "# print(len(connections))\n",
    "\n",
    "# graph = NeuralGraph(n_nodes, SIZE**2, n_classes, connections,\n",
    "#     ch_n=4, ch_e=4, value_init=\"random\", init_value_std=.05, \n",
    "#     aggregation=\"mean\", use_label=True, clamp_mode=\"soft\", max_value=1e5, \n",
    "#     device=device)\n",
    "\n",
    "# log = []"
   ]
  },
  {
   "cell_type": "code",
   "execution_count": 7,
   "metadata": {},
   "outputs": [],
   "source": [
    "# graph.inp_int = ES.ES_MLP(nn.Sequential(ES.ES_Linear(5, 4))).to(device)\n",
    "# graph.label_int = ES.ES_MLP(nn.Sequential(ES.ES_Linear(5, 4))).to(device)\n",
    "# graph.out_int = ES.ES_MLP(nn.Sequential(ES.ES_Linear(4, 1))).to(device)\n",
    "# graph.messages = nn.ModuleList([ES.ES_MLP(nn.Sequential(\n",
    "#     ES.ES_Linear(12, 16),\n",
    "#     nn.ReLU(),\n",
    "#     ES.ES_Linear(16, 12)\n",
    "# ))]).to(device)\n",
    "# graph.updates = nn.ModuleList([ES.ES_MLP(nn.Sequential(\n",
    "#     ES.ES_Linear(12, 32),\n",
    "#     nn.ReLU(),\n",
    "#     ES.ES_Linear(32, 4)\n",
    "# ))]).to(device)\n",
    "\n",
    "# ruleset = [\n",
    "#     graph.inp_int,\n",
    "#     graph.label_int,\n",
    "#     graph.out_int,\n",
    "#     graph.messages[0],\n",
    "#     graph.updates[0],\n",
    "# ]\n",
    "# # for model in ruleset:\n",
    "# #     model.generate_epsilons(BATCH_SIZE)"
   ]
  },
  {
   "cell_type": "code",
   "execution_count": 47,
   "metadata": {},
   "outputs": [
    {
     "data": {
      "text/plain": [
       "<module 'ES.ES_NeuralGraph' from 'c:\\\\Users\\\\Alec\\\\Documents\\\\GitHub\\\\NeuralGraphPaper\\\\ES\\\\ES_NeuralGraph.py'>"
      ]
     },
     "execution_count": 47,
     "metadata": {},
     "output_type": "execute_result"
    }
   ],
   "source": [
    "import ES.ES_NeuralGraph\n",
    "importlib.reload(ES.ES_NeuralGraph)"
   ]
  },
  {
   "cell_type": "code",
   "execution_count": 48,
   "metadata": {},
   "outputs": [
    {
     "name": "stdout",
     "output_type": "stream",
     "text": [
      "408\n"
     ]
    }
   ],
   "source": [
    "BATCH_SIZE = 16\n",
    "TIME = 1\n",
    "DT = .25\n",
    "\n",
    "n_classes = 2\n",
    "device = \"cuda\" if torch.cuda.is_available() else \"cpu\"\n",
    "\n",
    "\n",
    "shape = [SIZE**2, 8, n_classes]\n",
    "n_nodes = sum(shape)\n",
    "connections = torch.Tensor([[sum(shape[:i])+x, sum(shape[:i+1])+y] for i in range(len(shape)-1) for x in range(shape[i]) for y in range(shape[i+1])])\n",
    "\n",
    "print(len(connections))\n",
    "\n",
    "graph = ES.ES_NeuralGraph.NeuralGraph(n_nodes, SIZE**2, n_classes, connections,\n",
    "    ch_n=4, ch_e=4, init_mode=\"random\", init_std=.05, \n",
    "    aggregation=\"mean\", use_label=True, clamp_mode=\"soft\", max_value=1e5).to(device)\n",
    "\n",
    "log = []"
   ]
  },
  {
   "cell_type": "code",
   "execution_count": 49,
   "metadata": {},
   "outputs": [],
   "source": [
    "TRAIN_EXAMPLES = 10\n",
    "TEST_EXAMPLES = 5\n",
    "# Reset optimizer\n",
    "# optimizer = torch.optim.Adam(graph.parameters(), lr=1e-3)\n",
    "optimizer = torch.optim.SGD(graph.parameters(), lr=1e-2)\n",
    "criterion = nn.MSELoss()\n",
    "\n",
    "STEPS = 10_000\n",
    "\n",
    "log = []"
   ]
  },
  {
   "cell_type": "code",
   "execution_count": 50,
   "metadata": {},
   "outputs": [],
   "source": [
    "def shuffle_along_axis(a, axis):\n",
    "    idx = np.random.rand(*a.shape).argsort(axis=axis)\n",
    "    return np.take_along_axis(a,idx,axis=axis)\n",
    "\n",
    "def get_batch_data(dataset=train, batch_size=BATCH_SIZE, train_examples=TRAIN_EXAMPLES, test_examples=TEST_EXAMPLES):\n",
    "    if type(dataset) != list:\n",
    "        dataset = [dataset]\n",
    "    set_ = np.random.randint(len(dataset), size=(batch_size))\n",
    "\n",
    "    classes = np.stack([np.random.choice(list(dataset[i].keys()), size=(n_classes), replace=False) for i in set_])\n",
    "    \n",
    "    # This gets completely random examples\n",
    "    # y_train = np.random.randint(n_classes, size=(batch_size, train_examples))\n",
    "    # y_test = np.random.randint(n_classes, size=(batch_size, TEST_EXAMPLES))\n",
    "\n",
    "    # This gets balanced random examples\n",
    "    \n",
    "    y_train = np.repeat(np.expand_dims(np.round(np.linspace(0, n_classes-1, train_examples)), axis=0), batch_size, axis=0).astype(np.int32)\n",
    "    y_test = np.repeat(np.expand_dims(np.round(np.linspace(0, n_classes-1, test_examples)), axis=0), batch_size, axis=0).astype(np.int32)\n",
    "\n",
    "    y_train = shuffle_along_axis(y_train, axis=1)\n",
    "    y_test = shuffle_along_axis(y_test, axis=1)\n",
    "\n",
    "\n",
    "    x_train = []\n",
    "    for batch_classes, y, i in zip(classes, y_train, set_):\n",
    "        x_train.append([])\n",
    "        for class_ in batch_classes[y]:\n",
    "            x_train[-1].append(random.choice(dataset[i][class_]))\n",
    "        x_train[-1] = np.stack(x_train[-1])\n",
    "    x_train = np.stack(x_train)\n",
    "\n",
    "    x_test = []\n",
    "    for batch_classes, y, i in zip(classes, y_test, set_):\n",
    "        x_test.append([])\n",
    "        for class_ in batch_classes[y]:\n",
    "            x_test[-1].append(random.choice(dataset[i][class_]))\n",
    "        x_test[-1] = np.stack(x_test[-1])\n",
    "    x_test = np.stack(x_test)\n",
    "    \n",
    "    return torch.Tensor(x_train).to(device), torch.Tensor(y_train).long().to(device), torch.Tensor(x_test).to(device), torch.Tensor(y_test).long().to(device), classes"
   ]
  },
  {
   "cell_type": "code",
   "execution_count": 53,
   "metadata": {},
   "outputs": [
    {
     "data": {
      "application/vnd.jupyter.widget-view+json": {
       "model_id": "52e7554da8654f939edabd6d09df1d02",
       "version_major": 2,
       "version_minor": 0
      },
      "text/plain": [
       "  0%|          | 0/10000 [00:00<?, ?it/s]"
      ]
     },
     "metadata": {},
     "output_type": "display_data"
    },
    {
     "ename": "KeyboardInterrupt",
     "evalue": "",
     "output_type": "error",
     "traceback": [
      "\u001b[1;31m---------------------------------------------------------------------------\u001b[0m",
      "\u001b[1;31mKeyboardInterrupt\u001b[0m                         Traceback (most recent call last)",
      "\u001b[1;32mc:\\Users\\Alec\\Documents\\GitHub\\NeuralGraphPaper\\ES_NeuralGraph.ipynb Cell 12\u001b[0m line \u001b[0;36m3\n\u001b[0;32m     <a href='vscode-notebook-cell:/c%3A/Users/Alec/Documents/GitHub/NeuralGraphPaper/ES_NeuralGraph.ipynb#X12sZmlsZQ%3D%3D?line=34'>35</a>\u001b[0m graph\u001b[39m.\u001b[39minit_vals(nodes\u001b[39m=\u001b[39m\u001b[39mTrue\u001b[39;00m, edges\u001b[39m=\u001b[39m\u001b[39mTrue\u001b[39;00m, batch_size\u001b[39m=\u001b[39mBATCH_SIZE)\n\u001b[0;32m     <a href='vscode-notebook-cell:/c%3A/Users/Alec/Documents/GitHub/NeuralGraphPaper/ES_NeuralGraph.ipynb#X12sZmlsZQ%3D%3D?line=36'>37</a>\u001b[0m graph\u001b[39m.\u001b[39mlearn(x_train, y_input, time\u001b[39m=\u001b[39mTIME, dt\u001b[39m=\u001b[39mDT, apply_once\u001b[39m=\u001b[39m\u001b[39mTrue\u001b[39;00m, reset_nodes\u001b[39m=\u001b[39m\u001b[39mTrue\u001b[39;00m, edges\u001b[39m=\u001b[39m\u001b[39mFalse\u001b[39;00m, edges_at_end\u001b[39m=\u001b[39m\u001b[39mTrue\u001b[39;00m)\n\u001b[1;32m---> <a href='vscode-notebook-cell:/c%3A/Users/Alec/Documents/GitHub/NeuralGraphPaper/ES_NeuralGraph.ipynb#X12sZmlsZQ%3D%3D?line=37'>38</a>\u001b[0m pred \u001b[39m=\u001b[39m graph\u001b[39m.\u001b[39;49mpredict(x_test, time\u001b[39m=\u001b[39;49mTIME, dt\u001b[39m=\u001b[39;49mDT, apply_once\u001b[39m=\u001b[39;49m\u001b[39mTrue\u001b[39;49;00m, reset_nodes\u001b[39m=\u001b[39;49m\u001b[39mTrue\u001b[39;49;00m, edges\u001b[39m=\u001b[39;49m\u001b[39mFalse\u001b[39;49;00m)\n\u001b[0;32m     <a href='vscode-notebook-cell:/c%3A/Users/Alec/Documents/GitHub/NeuralGraphPaper/ES_NeuralGraph.ipynb#X12sZmlsZQ%3D%3D?line=39'>40</a>\u001b[0m valid_acc \u001b[39m=\u001b[39m (pred\u001b[39m.\u001b[39margmax(\u001b[39m2\u001b[39m) \u001b[39m==\u001b[39m y_test)\u001b[39m.\u001b[39mfloat()\u001b[39m.\u001b[39mmean()\n\u001b[0;32m     <a href='vscode-notebook-cell:/c%3A/Users/Alec/Documents/GitHub/NeuralGraphPaper/ES_NeuralGraph.ipynb#X12sZmlsZQ%3D%3D?line=40'>41</a>\u001b[0m valid_loss \u001b[39m=\u001b[39m criterion(pred, y_label)\n",
      "File \u001b[1;32mc:\\Users\\Alec\\Documents\\GitHub\\NeuralGraphPaper\\ES\\ES_NeuralGraph.py:393\u001b[0m, in \u001b[0;36mNeuralGraph.predict\u001b[1;34m(self, X, time, dt, reset_nodes, **kwargs)\u001b[0m\n\u001b[0;32m    390\u001b[0m     \u001b[39mif\u001b[39;00m reset_nodes:\n\u001b[0;32m    391\u001b[0m         \u001b[39mself\u001b[39m\u001b[39m.\u001b[39minit_vals(X\u001b[39m.\u001b[39mshape[\u001b[39m0\u001b[39m], nodes\u001b[39m=\u001b[39m\u001b[39mTrue\u001b[39;00m, edges\u001b[39m=\u001b[39m\u001b[39mFalse\u001b[39;00m)\n\u001b[1;32m--> 393\u001b[0m     preds\u001b[39m.\u001b[39mappend(\u001b[39mself\u001b[39;49m\u001b[39m.\u001b[39;49mforward(X[:, i], dt\u001b[39m=\u001b[39;49mdt, time\u001b[39m=\u001b[39;49mtime, \u001b[39m*\u001b[39;49m\u001b[39m*\u001b[39;49mkwargs))\n\u001b[0;32m    394\u001b[0m \u001b[39mreturn\u001b[39;00m torch\u001b[39m.\u001b[39mstack(preds, axis\u001b[39m=\u001b[39m\u001b[39m1\u001b[39m)\n",
      "File \u001b[1;32mc:\\Users\\Alec\\Documents\\GitHub\\NeuralGraphPaper\\ES\\ES_NeuralGraph.py:347\u001b[0m, in \u001b[0;36mNeuralGraph.forward\u001b[1;34m(self, x, time, dt, apply_once, nodes, edges, **kwargs)\u001b[0m\n\u001b[0;32m    345\u001b[0m     \u001b[39mif\u001b[39;00m \u001b[39mnot\u001b[39;00m apply_once:\n\u001b[0;32m    346\u001b[0m         \u001b[39mself\u001b[39m\u001b[39m.\u001b[39mapply_vals(x)\n\u001b[1;32m--> 347\u001b[0m     \u001b[39mself\u001b[39;49m\u001b[39m.\u001b[39;49mtimestep(step_nodes\u001b[39m=\u001b[39;49mnodes, step_edges\u001b[39m=\u001b[39;49medges, dt\u001b[39m=\u001b[39;49mdt, t\u001b[39m=\u001b[39;49mt)\n\u001b[0;32m    348\u001b[0m \u001b[39mreturn\u001b[39;00m \u001b[39mself\u001b[39m\u001b[39m.\u001b[39mread_outputs()\n",
      "File \u001b[1;32mc:\\Users\\Alec\\Documents\\GitHub\\NeuralGraphPaper\\ES\\ES_NeuralGraph.py:172\u001b[0m, in \u001b[0;36mNeuralGraph.timestep\u001b[1;34m(self, dt, step_nodes, step_edges, t)\u001b[0m\n\u001b[0;32m    167\u001b[0m \u001b[39m# nodes = self.nodes.clone() if (self.pool is None) else self.nodes[self.pool]\u001b[39;00m\n\u001b[0;32m    168\u001b[0m \u001b[39m# edges = self.edges.clone() if (self.pool is None) else self.edges[self.pool]\u001b[39;00m\n\u001b[0;32m    169\u001b[0m \n\u001b[0;32m    170\u001b[0m \u001b[39m# Get messages\u001b[39;00m\n\u001b[0;32m    171\u001b[0m m_x \u001b[39m=\u001b[39m torch\u001b[39m.\u001b[39mcat([\u001b[39mself\u001b[39m\u001b[39m.\u001b[39mnodes[:, \u001b[39mself\u001b[39m\u001b[39m.\u001b[39msources], \u001b[39mself\u001b[39m\u001b[39m.\u001b[39mnodes[:, \u001b[39mself\u001b[39m\u001b[39m.\u001b[39mtargets], \u001b[39mself\u001b[39m\u001b[39m.\u001b[39medges], dim\u001b[39m=\u001b[39m\u001b[39m2\u001b[39m)\n\u001b[1;32m--> 172\u001b[0m m \u001b[39m=\u001b[39m \u001b[39mself\u001b[39;49m\u001b[39m.\u001b[39;49mmessages[t \u001b[39m%\u001b[39;49m \u001b[39mself\u001b[39;49m\u001b[39m.\u001b[39;49mn_models](m_x)\n\u001b[0;32m    174\u001b[0m m_a, m_b, m_ab \u001b[39m=\u001b[39m torch\u001b[39m.\u001b[39mtensor_split(m, [\u001b[39mself\u001b[39m\u001b[39m.\u001b[39mch_n\u001b[39m-\u001b[39m\u001b[39mself\u001b[39m\u001b[39m.\u001b[39mch_n_const, (\u001b[39mself\u001b[39m\u001b[39m.\u001b[39mch_n\u001b[39m-\u001b[39m\u001b[39mself\u001b[39m\u001b[39m.\u001b[39mch_n_const)\u001b[39m*\u001b[39m\u001b[39m2\u001b[39m], \u001b[39m2\u001b[39m)\n\u001b[0;32m    176\u001b[0m \u001b[39mif\u001b[39;00m \u001b[39mself\u001b[39m\u001b[39m.\u001b[39maggregation \u001b[39m==\u001b[39m \u001b[39m\"\u001b[39m\u001b[39mattention\u001b[39m\u001b[39m\"\u001b[39m:\n",
      "File \u001b[1;32mc:\\Users\\Alec\\anaconda3\\Lib\\site-packages\\torch\\nn\\modules\\module.py:1501\u001b[0m, in \u001b[0;36mModule._call_impl\u001b[1;34m(self, *args, **kwargs)\u001b[0m\n\u001b[0;32m   1496\u001b[0m \u001b[39m# If we don't have any hooks, we want to skip the rest of the logic in\u001b[39;00m\n\u001b[0;32m   1497\u001b[0m \u001b[39m# this function, and just call forward.\u001b[39;00m\n\u001b[0;32m   1498\u001b[0m \u001b[39mif\u001b[39;00m \u001b[39mnot\u001b[39;00m (\u001b[39mself\u001b[39m\u001b[39m.\u001b[39m_backward_hooks \u001b[39mor\u001b[39;00m \u001b[39mself\u001b[39m\u001b[39m.\u001b[39m_backward_pre_hooks \u001b[39mor\u001b[39;00m \u001b[39mself\u001b[39m\u001b[39m.\u001b[39m_forward_hooks \u001b[39mor\u001b[39;00m \u001b[39mself\u001b[39m\u001b[39m.\u001b[39m_forward_pre_hooks\n\u001b[0;32m   1499\u001b[0m         \u001b[39mor\u001b[39;00m _global_backward_pre_hooks \u001b[39mor\u001b[39;00m _global_backward_hooks\n\u001b[0;32m   1500\u001b[0m         \u001b[39mor\u001b[39;00m _global_forward_hooks \u001b[39mor\u001b[39;00m _global_forward_pre_hooks):\n\u001b[1;32m-> 1501\u001b[0m     \u001b[39mreturn\u001b[39;00m forward_call(\u001b[39m*\u001b[39;49margs, \u001b[39m*\u001b[39;49m\u001b[39m*\u001b[39;49mkwargs)\n\u001b[0;32m   1502\u001b[0m \u001b[39m# Do not call functions when jit is used\u001b[39;00m\n\u001b[0;32m   1503\u001b[0m full_backward_hooks, non_full_backward_hooks \u001b[39m=\u001b[39m [], []\n",
      "File \u001b[1;32mc:\\Users\\Alec\\Documents\\GitHub\\NeuralGraphPaper\\ES\\ES_classes.py:86\u001b[0m, in \u001b[0;36mES_MLP.forward\u001b[1;34m(self, x)\u001b[0m\n\u001b[0;32m     83\u001b[0m \u001b[39mdef\u001b[39;00m \u001b[39mforward\u001b[39m(\u001b[39mself\u001b[39m, x):\n\u001b[0;32m     84\u001b[0m     \u001b[39m# Whatever we do its without explicit grad calcs\u001b[39;00m\n\u001b[0;32m     85\u001b[0m     \u001b[39mwith\u001b[39;00m torch\u001b[39m.\u001b[39mno_grad():\n\u001b[1;32m---> 86\u001b[0m         \u001b[39mreturn\u001b[39;00m \u001b[39mself\u001b[39;49m\u001b[39m.\u001b[39;49msequential(x)\n",
      "File \u001b[1;32mc:\\Users\\Alec\\anaconda3\\Lib\\site-packages\\torch\\nn\\modules\\module.py:1501\u001b[0m, in \u001b[0;36mModule._call_impl\u001b[1;34m(self, *args, **kwargs)\u001b[0m\n\u001b[0;32m   1496\u001b[0m \u001b[39m# If we don't have any hooks, we want to skip the rest of the logic in\u001b[39;00m\n\u001b[0;32m   1497\u001b[0m \u001b[39m# this function, and just call forward.\u001b[39;00m\n\u001b[0;32m   1498\u001b[0m \u001b[39mif\u001b[39;00m \u001b[39mnot\u001b[39;00m (\u001b[39mself\u001b[39m\u001b[39m.\u001b[39m_backward_hooks \u001b[39mor\u001b[39;00m \u001b[39mself\u001b[39m\u001b[39m.\u001b[39m_backward_pre_hooks \u001b[39mor\u001b[39;00m \u001b[39mself\u001b[39m\u001b[39m.\u001b[39m_forward_hooks \u001b[39mor\u001b[39;00m \u001b[39mself\u001b[39m\u001b[39m.\u001b[39m_forward_pre_hooks\n\u001b[0;32m   1499\u001b[0m         \u001b[39mor\u001b[39;00m _global_backward_pre_hooks \u001b[39mor\u001b[39;00m _global_backward_hooks\n\u001b[0;32m   1500\u001b[0m         \u001b[39mor\u001b[39;00m _global_forward_hooks \u001b[39mor\u001b[39;00m _global_forward_pre_hooks):\n\u001b[1;32m-> 1501\u001b[0m     \u001b[39mreturn\u001b[39;00m forward_call(\u001b[39m*\u001b[39;49margs, \u001b[39m*\u001b[39;49m\u001b[39m*\u001b[39;49mkwargs)\n\u001b[0;32m   1502\u001b[0m \u001b[39m# Do not call functions when jit is used\u001b[39;00m\n\u001b[0;32m   1503\u001b[0m full_backward_hooks, non_full_backward_hooks \u001b[39m=\u001b[39m [], []\n",
      "File \u001b[1;32mc:\\Users\\Alec\\anaconda3\\Lib\\site-packages\\torch\\nn\\modules\\container.py:217\u001b[0m, in \u001b[0;36mSequential.forward\u001b[1;34m(self, input)\u001b[0m\n\u001b[0;32m    215\u001b[0m \u001b[39mdef\u001b[39;00m \u001b[39mforward\u001b[39m(\u001b[39mself\u001b[39m, \u001b[39minput\u001b[39m):\n\u001b[0;32m    216\u001b[0m     \u001b[39mfor\u001b[39;00m module \u001b[39min\u001b[39;00m \u001b[39mself\u001b[39m:\n\u001b[1;32m--> 217\u001b[0m         \u001b[39minput\u001b[39m \u001b[39m=\u001b[39m module(\u001b[39minput\u001b[39;49m)\n\u001b[0;32m    218\u001b[0m     \u001b[39mreturn\u001b[39;00m \u001b[39minput\u001b[39m\n",
      "File \u001b[1;32mc:\\Users\\Alec\\anaconda3\\Lib\\site-packages\\torch\\nn\\modules\\module.py:1501\u001b[0m, in \u001b[0;36mModule._call_impl\u001b[1;34m(self, *args, **kwargs)\u001b[0m\n\u001b[0;32m   1496\u001b[0m \u001b[39m# If we don't have any hooks, we want to skip the rest of the logic in\u001b[39;00m\n\u001b[0;32m   1497\u001b[0m \u001b[39m# this function, and just call forward.\u001b[39;00m\n\u001b[0;32m   1498\u001b[0m \u001b[39mif\u001b[39;00m \u001b[39mnot\u001b[39;00m (\u001b[39mself\u001b[39m\u001b[39m.\u001b[39m_backward_hooks \u001b[39mor\u001b[39;00m \u001b[39mself\u001b[39m\u001b[39m.\u001b[39m_backward_pre_hooks \u001b[39mor\u001b[39;00m \u001b[39mself\u001b[39m\u001b[39m.\u001b[39m_forward_hooks \u001b[39mor\u001b[39;00m \u001b[39mself\u001b[39m\u001b[39m.\u001b[39m_forward_pre_hooks\n\u001b[0;32m   1499\u001b[0m         \u001b[39mor\u001b[39;00m _global_backward_pre_hooks \u001b[39mor\u001b[39;00m _global_backward_hooks\n\u001b[0;32m   1500\u001b[0m         \u001b[39mor\u001b[39;00m _global_forward_hooks \u001b[39mor\u001b[39;00m _global_forward_pre_hooks):\n\u001b[1;32m-> 1501\u001b[0m     \u001b[39mreturn\u001b[39;00m forward_call(\u001b[39m*\u001b[39;49margs, \u001b[39m*\u001b[39;49m\u001b[39m*\u001b[39;49mkwargs)\n\u001b[0;32m   1502\u001b[0m \u001b[39m# Do not call functions when jit is used\u001b[39;00m\n\u001b[0;32m   1503\u001b[0m full_backward_hooks, non_full_backward_hooks \u001b[39m=\u001b[39m [], []\n",
      "\u001b[1;31mKeyboardInterrupt\u001b[0m: "
     ]
    }
   ],
   "source": [
    "with torch.no_grad():\n",
    "    bar = tqdm(range(1, STEPS+1))\n",
    "    for step in bar:\n",
    "\n",
    "        # Train step\n",
    "        x_train, y_train, x_test, y_test, classes = get_batch_data(dataset=train)\n",
    "        y_input = nn.functional.one_hot(y_train, n_classes).float()\n",
    "        y_label = nn.functional.one_hot(y_test, n_classes).float()\n",
    "\n",
    "        graph.generate_epsilons(BATCH_SIZE)\n",
    "        graph.init_vals(nodes=True, edges=True, batch_size=BATCH_SIZE)\n",
    "\n",
    "        graph.learn(x_train, y_input, time=TIME, dt=DT, apply_once=True, reset_nodes=True, edges=False, edges_at_end=True)\n",
    "        pred = graph.predict(x_test, time=TIME, dt=DT, apply_once=True, reset_nodes=True, edges=False)\n",
    "\n",
    "        acc = (pred.argmax(2) == y_test).float().mean()\n",
    "\n",
    "        task_losses = torch.square(pred - y_label).mean(-1).mean(-1)\n",
    "        graph.estimate_grads(task_losses)\n",
    "        \n",
    "        # print(task_losses)\n",
    "        # assert False\n",
    "\n",
    "        task_loss = task_losses.mean()\n",
    "        overflow = graph.overflow()\n",
    "        \n",
    "        loss = task_loss + overflow\n",
    "        optimizer.step()\n",
    "\n",
    "        # Valid step (currently just validating with perturbations but could change to do not train_mode)\n",
    "        x_train, y_train, x_test, y_test, classes = get_batch_data(dataset=valid)\n",
    "        y_input = nn.functional.one_hot(y_train, n_classes).float()\n",
    "        y_label = nn.functional.one_hot(y_test, n_classes).float()\n",
    "\n",
    "        graph.init_vals(nodes=True, edges=True, batch_size=BATCH_SIZE)\n",
    "\n",
    "        graph.learn(x_train, y_input, time=TIME, dt=DT, apply_once=True, reset_nodes=True, edges=False, edges_at_end=True)\n",
    "        pred = graph.predict(x_test, time=TIME, dt=DT, apply_once=True, reset_nodes=True, edges=False)\n",
    "\n",
    "        valid_acc = (pred.argmax(2) == y_test).float().mean()\n",
    "        valid_loss = criterion(pred, y_label)\n",
    "\n",
    "\n",
    "        # Save\n",
    "        # if step % 500 == 0 and step != 0:\n",
    "        #     graph.save(f\"models/generalize_{step}.pt\")\n",
    "\n",
    "        entry = {'valid_loss':valid_loss.item(), 'valid_acc':valid_acc.item(), 'loss': task_loss.item(), 'acc': acc.item(), \"overflow\": overflow.item()}\n",
    "        log.append(entry)\n",
    "        bar.set_postfix({\"valid_loss\":np.mean([e[\"valid_loss\"] for e in log[-10:]]), \"valid_acc\":np.mean([e[\"valid_acc\"] for e in log[-10:]]), \"loss\":np.mean([e[\"loss\"] for e in log[-10:]]), \"acc\":np.mean([e[\"acc\"] for e in log[-10:]]), \"overflow\":entry[\"overflow\"]})"
   ]
  },
  {
   "cell_type": "code",
   "execution_count": 61,
   "metadata": {},
   "outputs": [
    {
     "data": {
      "text/plain": [
       "[<matplotlib.lines.Line2D at 0x26904ceac10>]"
      ]
     },
     "execution_count": 61,
     "metadata": {},
     "output_type": "execute_result"
    },
    {
     "data": {
      "image/png": "[encoded data removed]",
      "text/plain": [
       "<Figure size 640x480 with 1 Axes>"
      ]
     },
     "metadata": {},
     "output_type": "display_data"
    }
   ],
   "source": [
    "plt.plot([e[\"loss\"] for e in log])"
   ]
  },
  {
   "cell_type": "code",
   "execution_count": 64,
   "metadata": {},
   "outputs": [
    {
     "name": "stdout",
     "output_type": "stream",
     "text": [
      "Original Tensor: tensor([4.2000, 1.8000, 7.5000, 2.3000, 5.1000])\n",
      "Rank-normalized Tensor: tensor([0.4000, 0.8000, 0.0000, 0.6000, 0.2000])\n"
     ]
    }
   ],
   "source": []
  },
  {
   "cell_type": "code",
   "execution_count": null,
   "metadata": {},
   "outputs": [],
   "source": []
  }
 ],
 "metadata": {
  "kernelspec": {
   "display_name": "Python 3",
   "language": "python",
   "name": "python3"
  },
  "language_info": {
   "codemirror_mode": {
    "name": "ipython",
    "version": 3
   },
   "file_extension": ".py",
   "mimetype": "text/x-python",
   "name": "python",
   "nbconvert_exporter": "python",
   "pygments_lexer": "ipython3",
   "version": "3.11.3"
  }
 },
 "nbformat": 4,
 "nbformat_minor": 2
}
