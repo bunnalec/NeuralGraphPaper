{
 "cells": [
  {
   "cell_type": "code",
   "execution_count": 1,
   "metadata": {},
   "outputs": [],
   "source": [
    "from NeuralGraph import NeuralGraph\n",
    "import torch\n",
    "from torch import nn\n",
    "import numpy as np\n",
    "from tqdm.autonotebook import tqdm\n",
    "import matplotlib.pyplot as plt"
   ]
  },
  {
   "cell_type": "code",
   "execution_count": 2,
   "metadata": {},
   "outputs": [],
   "source": [
    "# Ordered shit\n",
    "\n",
    "# o[0] = n[0]\n",
    "\n",
    "# i[0] = inp[0] - n[0]\n",
    "\n",
    "# l[2] = 2 * (n[0] - lbl) * (0 if n[0] <= 0 else 1) - n[2]\n",
    "# l[3] = 1 - n[3]\n",
    "\n",
    "# m_a[2] = e[0] * n_b[2]\n",
    "# m_a[3] = n_b[3]\n",
    "# m_b[0] = n_a[0] * e[0]\n",
    "# m_b[1] = (1-n_a[3]) * n_b[3]\n",
    "# m_e[0] = -lr * n_a[0] * n_b[2] * (1-n_a[3]) * n_b[3]\n",
    "\n",
    "# u[0] = ReLU(agg_m_b[0] + n[1]) - n[0]\n",
    "# u[1] = (-lr*n[2] if agg_m_b[1] > 0 else 0)\n",
    "# u[2] = agg_m_a[2] * (0 if n[0] <= 0 else 1) - n[2]\n",
    "# u[3] = (1 if agg_m_a[3] > 0 else 0) - n[3]\n",
    "\n",
    "lr=.01\n",
    "ch_n = 4\n",
    "ch_e = 1\n",
    "\n",
    "def desired_inp(x):\n",
    "    i = torch.zeros(*x.shape[:-1], ch_n).to(\"cuda\")\n",
    "    i[..., 0] = x[..., 0] - x[..., 1]\n",
    "    return i\n",
    "\n",
    "def desired_out(x):\n",
    "    return x[..., :1]\n",
    "\n",
    "def desired_lbl(x):\n",
    "    lbl, n = torch.tensor_split(x, [1], -1)\n",
    "    l = torch.zeros(*x.shape[:-1], ch_n).to(\"cuda\")\n",
    "    l[..., 2] = (n[..., 0] - lbl[..., 0]) * torch.where(n[..., 0] <= 0, 0, 1) - n[..., 2]\n",
    "    l[..., 3] = 1 - n[..., 3]\n",
    "    return l\n",
    "\n",
    "def desired_message(x):\n",
    "    n_a, n_b, e = torch.tensor_split(x, [ch_n, ch_n*2], -1)\n",
    "    m_a, m_b, m_e = torch.zeros(*x.shape[:-1], ch_n).to(\"cuda\"), torch.zeros(*x.shape[:-1], ch_n).to(\"cuda\"), torch.zeros(*x.shape[:-1], ch_e).to(\"cuda\")\n",
    "\n",
    "    m_a[..., 2] = e[..., 0] * n_b[..., 2]\n",
    "    m_a[..., 3] = n_b[..., 3]\n",
    "    m_b[..., 0] = n_a[..., 0] * e[..., 0]\n",
    "    m_b[..., 1] = (1-n_a[..., 3]) * n_b[..., 3]\n",
    "    m_e[..., 0] = -lr * n_a[..., 0] * n_b[..., 2] * (1-n_a[..., 3]) * n_b[..., 3] # Could I do this in 2 timesteps w/ two additional channels????\n",
    "\n",
    "    # print(m_a.shape, m_b.shape, m_e.shape)\n",
    "\n",
    "    return torch.cat([m_a, m_b, m_e], axis=-1)\n",
    "\n",
    "def ReLU(x):\n",
    "    return torch.where(x > 0, x, 0)\n",
    "\n",
    "def desired_update(x):\n",
    "    agg_m_a, agg_m_b, n = torch.tensor_split(x, [ch_n, ch_n*2], -1)\n",
    "    u = torch.zeros(*x.shape[:-1], ch_n).to(\"cuda\")\n",
    "\n",
    "    u[..., 0] = ReLU(agg_m_b[..., 0] + n[..., 1]) - n[..., 0]\n",
    "    u[..., 1] = torch.where(agg_m_b[..., 1] > 0, -lr*n[..., 2], 0)\n",
    "    u[..., 2] = agg_m_a[..., 2] * torch.where(n[..., 0] <= 0, 0, 1) - n[..., 2]\n",
    "    u[..., 3] = torch.where(agg_m_a[..., 3] > 0, 1, 0) - n[..., 3]\n",
    "\n",
    "    return u"
   ]
  },
  {
   "cell_type": "code",
   "execution_count": 4,
   "metadata": {},
   "outputs": [],
   "source": [
    "class Hard_Func(nn.Module): # Wrap them as modules so torch doesn't get angry\n",
    "    def __init__(self, func):\n",
    "        super().__init__()\n",
    "        self.func = func\n",
    "    def forward(self, x):\n",
    "        return self.func(x)"
   ]
  },
  {
   "cell_type": "code",
   "execution_count": 5,
   "metadata": {},
   "outputs": [
    {
     "name": "stdout",
     "output_type": "stream",
     "text": [
      "816\n"
     ]
    }
   ],
   "source": [
    "size = 7\n",
    "\n",
    "shape = [size**2, 16, 2]\n",
    "\n",
    "connections = [(i, j) for k in range(len(shape)-1) for i in range(sum(shape[:k]), sum(shape[:k+1])) for j in range(sum(shape[:k+1]), sum(shape[:k+2]))]\n",
    "print(len(connections))\n",
    "\n",
    "graph = NeuralGraph(sum(shape), shape[0], shape[-1], connections, ch_n=4, ch_e=1, clamp_mode=\"none\", value_init=\"zeros\", aggregation=\"sum\", use_label=True, device=\"cuda\")\n",
    "\n",
    "graph.inp_int = Hard_Func(desired_inp)# inp_enc.to(\"cuda\")\n",
    "graph.out_int = Hard_Func(desired_out)# out_enc.to(\"cuda\")\n",
    "graph.label_int = Hard_Func(desired_lbl)# label_enc.to(\"cuda\")\n",
    "graph.messages = nn.ModuleList([Hard_Func(desired_message)])# nn.ModuleList([message.to(\"cuda\")])\n",
    "graph.updates = nn.ModuleList([Hard_Func(desired_update)])# nn.ModuleList([update.to(\"cuda\")])"
   ]
  },
  {
   "cell_type": "code",
   "execution_count": 6,
   "metadata": {},
   "outputs": [],
   "source": [
    "class Test_MLP(nn.Module):\n",
    "    def __init__(self, shape):\n",
    "        super().__init__()\n",
    "\n",
    "        modules = []\n",
    "        for i in range(len(shape)-1):\n",
    "            modules.append(nn.Linear(shape[i], shape[i+1]))\n",
    "            modules.append(nn.ReLU())\n",
    "\n",
    "        self.main = nn.Sequential(*modules)\n",
    "    \n",
    "    def forward(self, x):\n",
    "        return self.main(x)"
   ]
  },
  {
   "cell_type": "code",
   "execution_count": 7,
   "metadata": {},
   "outputs": [],
   "source": [
    "copycat = Test_MLP(shape).to(\"cuda\")"
   ]
  },
  {
   "cell_type": "code",
   "execution_count": 13,
   "metadata": {},
   "outputs": [],
   "source": [
    "# Copy copycat vals to graph\n",
    "def init_vals(copycat, batch_size=1):\n",
    "    edge_states = []\n",
    "    bias_states = []\n",
    "\n",
    "    for layer in copycat.main[::2]:\n",
    "        # split_bias = torch.repeat_interleave(layer.bias.clone().unsqueeze(-1), layer.weight.shape[1], axis=-1) / layer.weight.shape[1]\n",
    "        \n",
    "        edge_states.append(layer.weight.clone().T.reshape(-1, 1))\n",
    "        bias_states.append(layer.bias.clone())\n",
    "\n",
    "    edge_states = torch.cat(edge_states, axis=0)\n",
    "    bias_states = torch.cat([torch.zeros(shape[0]).to(\"cuda\"), *bias_states], axis=0)\n",
    "\n",
    "    graph.init_vals(batch_size=batch_size)\n",
    "    graph.edges = edge_states.clone().unsqueeze(0)\n",
    "    graph.nodes[:, :, 1] = bias_states\n",
    "\n",
    "def get_grads(copycat):\n",
    "    edge_grads = []\n",
    "    bias_grads = []\n",
    "\n",
    "    for layer in copycat.main[::2]:\n",
    "        # split_bias = torch.repeat_interleave(layer.bias.clone().unsqueeze(-1), layer.weight.shape[1], axis=-1) / layer.weight.shape[1]\n",
    "        \n",
    "        edge_grads.append(layer.weight.grad.clone().T.reshape(-1))\n",
    "        bias_grads.append(layer.bias.grad.clone())\n",
    "\n",
    "    edge_grads = torch.cat(edge_grads, axis=0)\n",
    "    bias_grads = torch.cat([torch.zeros(shape[0]).to(\"cuda\"), *bias_grads], axis=0)\n",
    "    return edge_grads, bias_grads"
   ]
  },
  {
   "cell_type": "code",
   "execution_count": 16,
   "metadata": {},
   "outputs": [
    {
     "name": "stdout",
     "output_type": "stream",
     "text": [
      "tensor([[0.1079, 0.7500]], device='cuda:0', grad_fn=<ReluBackward0>)\n",
      "tensor([[0.1079, 0.7500]], device='cuda:0', grad_fn=<SqueezeBackward1>)\n"
     ]
    }
   ],
   "source": [
    "init_vals(copycat)\n",
    "\n",
    "dummy_inp = torch.randn(1, 49).to(\"cuda\")\n",
    "dummy_label = torch.randn(1, 2).to(\"cuda\")\n",
    "\n",
    "print(copycat(dummy_inp))\n",
    "print(graph.forward(dummy_inp))"
   ]
  },
  {
   "cell_type": "code",
   "execution_count": 17,
   "metadata": {},
   "outputs": [
    {
     "name": "stdout",
     "output_type": "stream",
     "text": [
      "torch.Size([816]) torch.Size([67])\n"
     ]
    }
   ],
   "source": [
    "copycat.zero_grad()\n",
    "\n",
    "out = copycat(dummy_inp)\n",
    "loss = torch.square(dummy_label - out).mean()\n",
    "\n",
    "loss.backward()\n",
    "\n",
    "w_grad, b_grad = get_grads(copycat)\n",
    "\n",
    "print(w_grad.shape, b_grad.shape)"
   ]
  },
  {
   "cell_type": "code",
   "execution_count": 26,
   "metadata": {},
   "outputs": [],
   "source": [
    "init_vals(copycat)\n",
    "\n",
    "old_w = graph.edges.clone().flatten()\n",
    "old_b = graph.nodes[..., 1].clone().flatten()\n",
    "graph.forward(dummy_inp, edges=True)\n",
    "graph.backward(dummy_inp, dummy_label, edges=True)\n",
    "\n",
    "# The negative lr has already been mult. so divide out\n",
    "delta_w = (graph.edges.flatten() - old_w.flatten()) / -lr\n",
    "\n",
    "delta_b = (graph.nodes[..., 1].flatten() - old_b.flatten()) / -lr"
   ]
  },
  {
   "cell_type": "code",
   "execution_count": 27,
   "metadata": {},
   "outputs": [
    {
     "data": {
      "image/png": "[encoded data removed]",
      "text/plain": [
       "<Figure size 640x480 with 1 Axes>"
      ]
     },
     "metadata": {},
     "output_type": "display_data"
    },
    {
     "data": {
      "image/png": "[encoded data removed]",
      "text/plain": [
       "<Figure size 640x480 with 1 Axes>"
      ]
     },
     "metadata": {},
     "output_type": "display_data"
    }
   ],
   "source": [
    "plt.plot(delta_w.detach().cpu(), w_grad.detach().cpu())\n",
    "plt.show()\n",
    "\n",
    "plt.plot(delta_b.detach().cpu(), b_grad.detach().cpu())\n",
    "plt.show()"
   ]
  },
  {
   "cell_type": "markdown",
   "metadata": {},
   "source": [
    "### New set of equivalent eqns. that are implementable in ANNs"
   ]
  },
  {
   "cell_type": "code",
   "execution_count": 79,
   "metadata": {},
   "outputs": [],
   "source": [
    "# Now that we have confirmed our functions work perfectly, we will hand implement them in ANNs bc I have no life :)\n",
    "\n",
    "# To approx. f(x) = 1 if x > 0 else 0 we will use the following:\n",
    "# ReLU(ax)-ReLU(ax - 1) which for large a is essentially what we want\n",
    "# To pass a value through a ReLU we will use f(x) = ReLU(x) - ReLU(-x)\n",
    "\n",
    "# n[0] is activation\n",
    "# n[1] is bias\n",
    "# n[2] is dL/dz (pre activation grad)\n",
    "# n[3] is haslbl\n",
    "# n[4] is da/dz (ReLU gradient = 1 if a > 0 else 0)\n",
    "# n[5] is apply_b_grad?\n",
    "\n",
    "# e[0] is weight\n",
    "# e[1] is -lr * gradient\n",
    "# e[2] is apply_w_grad?\n",
    "\n",
    "\n",
    "\n",
    "# Output: 1 layer MLP\n",
    "# Easy\n",
    "# o[0] = n[0]\n",
    "\n",
    "# Input\n",
    "# Easy w/ 1 layer MLP\n",
    "# i[0] = inp[0] - n[0]\n",
    "\n",
    "# Label: 1 layer MultMLP\n",
    "# Create another ch_n: n[4] which simply keeps track of (1 if n[0] > 0 else 0), than have this be a multiplication MLP\n",
    "# Also for some reason the copycat didn't multiply by 2 here.  Maybe MSE is .5(error-lbl)^2?\n",
    "# l[2] = n[0] * n[4] - lbl[0] * n[4] - n[2] # Have distributed this now so multiplications happen first\n",
    "# Easy\n",
    "# l[3] = 1 - n[3]\n",
    "\n",
    "# Message: 1 layer MultMLP\n",
    "# Will have to be a mult net\n",
    "# Easy for a mult net\n",
    "# m_a[2] = e[0] * n_b[2]\n",
    "# Easy\n",
    "# m_a[3] = n_b[3]\n",
    "# Easy for mult net\n",
    "# m_b[0] = n_a[0] * e[0]\n",
    "# Easy for mult net\n",
    "# m_b[1] = n_b[3] - n_a[3] * n_b[3] # Have distributed again\n",
    "# This has been broken into two steps: e[1] and e[2] will calculate -lr * n_a[0] * n_b[2] and n_b[3] - n_a[3] * n_b[3] respectively and then next iter they will be combined into e[0]\n",
    "# m_e[0] = e[1] * e[2]\n",
    "# m_e[1] = -lr * n_a[0] * n_b[2] - e[1]\n",
    "# m_e[2] = n_b[3] - n_a[3] * n_b[3] - e[2]\n",
    "\n",
    "# Update: 2 layer MultMLP\n",
    "# Has to pass through n[0]\n",
    "# u[0] = ReLU(agg_m_b[0] + n[1]) - n[0]\n",
    "# Broke down into intermediate step in n[5], will haev to pass through\n",
    "# u[1] = -lr * n[2] * n[5]\n",
    "# Will have to pass through\n",
    "# u[2] = agg_m_a[2] * n[4] - n[2]\n",
    "# Use approx. if\n",
    "# u[3] = (1 if agg_m_a[3] > 0 else 0) - n[3]\n",
    "# u[4] = (1 if n[0] > 0 else 0) - n[4]\n",
    "# u[5] = (1 if agg_m_b[1] > 0 else 0) - n[5]"
   ]
  },
  {
   "cell_type": "code",
   "execution_count": 95,
   "metadata": {},
   "outputs": [],
   "source": [
    "lr=.01\n",
    "ch_n = 6\n",
    "ch_e = 3\n",
    "\n",
    "def ReLU(x):\n",
    "    return torch.where(x > 0, x, 0)\n",
    "\n",
    "def desired_inp(x):\n",
    "    i = torch.zeros(*x.shape[:-1], ch_n).to(\"cuda\")\n",
    "    i[..., 0] = x[..., 0] - x[..., 1]\n",
    "    return i\n",
    "\n",
    "def desired_out(x):\n",
    "    return x[..., :1]\n",
    "\n",
    "def desired_lbl(x):\n",
    "    lbl, n = torch.tensor_split(x, [1], -1)\n",
    "    l = torch.zeros(*x.shape[:-1], ch_n).to(\"cuda\")\n",
    "\n",
    "    # l[2] = n[0] * n[4] - lbl[0] * n[4] - n[2]\n",
    "    # l[3] = 1 - n[3]\n",
    "\n",
    "    l[..., 2] = n[..., 0] * n[..., 4] - lbl[..., 0] * n[..., 4] - n[..., 2]# (n[..., 0] - lbl[..., 0]) * torch.where(n[..., 0] <= 0, 0, 1) - n[..., 2]\n",
    "    l[..., 3] = 1 - n[..., 3]\n",
    "    return l\n",
    "\n",
    "def desired_message(x):\n",
    "    n_a, n_b, e = torch.tensor_split(x, [ch_n, ch_n*2], -1)\n",
    "    m_a, m_b, m_e = torch.zeros(*x.shape[:-1], ch_n).to(\"cuda\"), torch.zeros(*x.shape[:-1], ch_n).to(\"cuda\"), torch.zeros(*x.shape[:-1], ch_e).to(\"cuda\")\n",
    "\n",
    "    # m_a[2] = e[0] * n_b[2]\n",
    "    # m_a[3] = n_b[3]\n",
    "    # m_b[0] = n_a[0] * e[0]\n",
    "    # m_b[1] = n_b[3] - n_a[3] * n_b[3]\n",
    "    # m_e[0] = e[1] * e[2]\n",
    "    # m_e[1] = -lr * n_a[0] * n_b[2] - e[1]\n",
    "    # m_e[2] = n_b[3] - n_a[3] * n_b[3] - e[2]\n",
    "\n",
    "    m_a[..., 2] = e[..., 0] * n_b[..., 2]\n",
    "    m_a[..., 3] = n_b[..., 3]\n",
    "    m_b[..., 0] = n_a[..., 0] * e[..., 0]\n",
    "    m_b[..., 1] = n_b[..., 3] - n_a[..., 3] * n_b[..., 3]\n",
    "    m_e[..., 0] = e[..., 1] * e[..., 2]\n",
    "    m_e[..., 1] = -lr * n_a[..., 0] * n_b[..., 2] - e[..., 1]\n",
    "    m_e[..., 2] = n_b[..., 3] - n_a[..., 3] * n_b[..., 3] - e[..., 2]\n",
    "\n",
    "    return torch.cat([m_a, m_b, m_e], axis=-1)\n",
    "\n",
    "def desired_update(x):\n",
    "    agg_m_a, agg_m_b, n = torch.tensor_split(x, [ch_n, ch_n*2], -1)\n",
    "    u = torch.zeros(*x.shape[:-1], ch_n).to(\"cuda\")\n",
    "\n",
    "    # u[0] = ReLU(agg_m_b[0] + n[1]) - n[0]\n",
    "    # u[1] = -lr * n[2] * n[5]\n",
    "    # u[2] = agg_m_a[2] * n[4] - n[2]\n",
    "    # u[3] = (1 if agg_m_a[3] > 0 else 0) - n[3]\n",
    "    # u[4] = (1 if n[0] > 0 else 0) - n[4]\n",
    "    # u[5] = (1 if agg_m_b[1] > 0 else 0) - n[5]\n",
    "\n",
    "    u[..., 0] = ReLU(agg_m_b[..., 0] + n[..., 1]) - n[..., 0]\n",
    "    u[..., 1] = -lr * n[..., 2] * n[..., 5]\n",
    "    u[..., 2] = agg_m_a[..., 2] * n[..., 4] - n[..., 2]\n",
    "    u[..., 3] = torch.where(agg_m_a[..., 3] > 0, 1, 0) - n[..., 3]\n",
    "    u[..., 4] = torch.where(n[..., 0] > 0, 1, 0) - n[..., 4]\n",
    "    u[..., 5] = torch.where(agg_m_b[..., 1] > 0, 1, 0) - n[..., 5]\n",
    "\n",
    "    return u"
   ]
  },
  {
   "cell_type": "code",
   "execution_count": 96,
   "metadata": {},
   "outputs": [],
   "source": [
    "class Hard_Func(nn.Module): # Wrap them as modules so torch doesn't get angry\n",
    "    def __init__(self, func):\n",
    "        super().__init__()\n",
    "        self.func = func\n",
    "    def forward(self, x):\n",
    "        return self.func(x)"
   ]
  },
  {
   "cell_type": "code",
   "execution_count": 97,
   "metadata": {},
   "outputs": [
    {
     "name": "stdout",
     "output_type": "stream",
     "text": [
      "816\n"
     ]
    }
   ],
   "source": [
    "size = 7\n",
    "\n",
    "shape = [size**2, 16, 2]\n",
    "\n",
    "connections = [(i, j) for k in range(len(shape)-1) for i in range(sum(shape[:k]), sum(shape[:k+1])) for j in range(sum(shape[:k+1]), sum(shape[:k+2]))]\n",
    "print(len(connections))\n",
    "\n",
    "graph = NeuralGraph(sum(shape), shape[0], shape[-1], connections, ch_n=ch_n, ch_e=ch_e, clamp_mode=\"none\", value_init=\"zeros\", aggregation=\"sum\", use_label=True, device=\"cuda\")\n",
    "\n",
    "graph.inp_int = Hard_Func(desired_inp)# inp_enc.to(\"cuda\")\n",
    "graph.out_int = Hard_Func(desired_out)# out_enc.to(\"cuda\")\n",
    "graph.label_int = Hard_Func(desired_lbl)# label_enc.to(\"cuda\")\n",
    "graph.messages = nn.ModuleList([Hard_Func(desired_message)])# nn.ModuleList([message.to(\"cuda\")])\n",
    "graph.updates = nn.ModuleList([Hard_Func(desired_update)])# nn.ModuleList([update.to(\"cuda\")])"
   ]
  },
  {
   "cell_type": "code",
   "execution_count": 98,
   "metadata": {},
   "outputs": [],
   "source": [
    "class Test_MLP(nn.Module):\n",
    "    def __init__(self, shape):\n",
    "        super().__init__()\n",
    "\n",
    "        modules = []\n",
    "        for i in range(len(shape)-1):\n",
    "            modules.append(nn.Linear(shape[i], shape[i+1]))\n",
    "            modules.append(nn.ReLU())\n",
    "\n",
    "        self.main = nn.Sequential(*modules)\n",
    "    \n",
    "    def forward(self, x):\n",
    "        return self.main(x)"
   ]
  },
  {
   "cell_type": "code",
   "execution_count": 99,
   "metadata": {},
   "outputs": [],
   "source": [
    "copycat = Test_MLP(shape).to(\"cuda\")"
   ]
  },
  {
   "cell_type": "code",
   "execution_count": 100,
   "metadata": {},
   "outputs": [],
   "source": [
    "# Copy copycat vals to graph\n",
    "def init_vals(copycat, batch_size=1):\n",
    "    edge_states = []\n",
    "    bias_states = []\n",
    "\n",
    "    for layer in copycat.main[::2]:\n",
    "        # split_bias = torch.repeat_interleave(layer.bias.clone().unsqueeze(-1), layer.weight.shape[1], axis=-1) / layer.weight.shape[1]\n",
    "        \n",
    "        edge_states.append(layer.weight.clone().T.reshape(-1))\n",
    "        bias_states.append(layer.bias.clone())\n",
    "\n",
    "    edge_states = torch.cat(edge_states, axis=0)\n",
    "    bias_states = torch.cat([torch.zeros(shape[0]).to(\"cuda\"), *bias_states], axis=0)\n",
    "\n",
    "    graph.init_vals(batch_size=batch_size)\n",
    "    graph.edges[:, :, 0] = edge_states.clone().unsqueeze(0)\n",
    "    graph.nodes[:, :, 1] = bias_states\n",
    "\n",
    "def get_grads(copycat):\n",
    "    edge_grads = []\n",
    "    bias_grads = []\n",
    "\n",
    "    for layer in copycat.main[::2]:\n",
    "        # split_bias = torch.repeat_interleave(layer.bias.clone().unsqueeze(-1), layer.weight.shape[1], axis=-1) / layer.weight.shape[1]\n",
    "        \n",
    "        edge_grads.append(layer.weight.grad.clone().T.reshape(-1))\n",
    "        bias_grads.append(layer.bias.grad.clone())\n",
    "\n",
    "    edge_grads = torch.cat(edge_grads, axis=0)\n",
    "    bias_grads = torch.cat([torch.zeros(shape[0]).to(\"cuda\"), *bias_grads], axis=0)\n",
    "    return edge_grads, bias_grads"
   ]
  },
  {
   "cell_type": "code",
   "execution_count": 101,
   "metadata": {},
   "outputs": [
    {
     "name": "stdout",
     "output_type": "stream",
     "text": [
      "tensor([[0.0556, 0.0000]], device='cuda:0', grad_fn=<ReluBackward0>)\n",
      "tensor([[0.0556, 0.0000]], device='cuda:0', grad_fn=<SqueezeBackward1>)\n"
     ]
    }
   ],
   "source": [
    "init_vals(copycat)\n",
    "\n",
    "dummy_inp = torch.randn(1, 49).to(\"cuda\")\n",
    "dummy_label = torch.randn(1, 2).to(\"cuda\")\n",
    "\n",
    "print(copycat(dummy_inp))\n",
    "print(graph.forward(dummy_inp))"
   ]
  },
  {
   "cell_type": "code",
   "execution_count": 102,
   "metadata": {},
   "outputs": [
    {
     "name": "stdout",
     "output_type": "stream",
     "text": [
      "torch.Size([816]) torch.Size([67])\n"
     ]
    }
   ],
   "source": [
    "copycat.zero_grad()\n",
    "\n",
    "out = copycat(dummy_inp)\n",
    "loss = torch.square(dummy_label - out).mean()\n",
    "\n",
    "loss.backward()\n",
    "\n",
    "w_grad, b_grad = get_grads(copycat)\n",
    "\n",
    "print(w_grad.shape, b_grad.shape)"
   ]
  },
  {
   "cell_type": "code",
   "execution_count": 103,
   "metadata": {},
   "outputs": [],
   "source": [
    "init_vals(copycat)\n",
    "\n",
    "old_w = graph.edges[..., 0].clone().flatten()\n",
    "old_b = graph.nodes[..., 1].clone().flatten()\n",
    "graph.forward(dummy_inp, edges=True)\n",
    "graph.backward(dummy_inp, dummy_label, edges=True)\n",
    "\n",
    "# The negative lr has already been mult. so divide out\n",
    "delta_w = (graph.edges[..., 0].flatten() - old_w.flatten()) / -lr\n",
    "\n",
    "delta_b = (graph.nodes[..., 1].flatten() - old_b.flatten()) / -lr"
   ]
  },
  {
   "cell_type": "code",
   "execution_count": 104,
   "metadata": {},
   "outputs": [
    {
     "data": {
      "image/png": "[encoded data removed]",
      "text/plain": [
       "<Figure size 640x480 with 1 Axes>"
      ]
     },
     "metadata": {},
     "output_type": "display_data"
    },
    {
     "data": {
      "image/png": "[encoded data removed]",
      "text/plain": [
       "<Figure size 640x480 with 1 Axes>"
      ]
     },
     "metadata": {},
     "output_type": "display_data"
    }
   ],
   "source": [
    "plt.plot(delta_w.detach().cpu(), w_grad.detach().cpu())\n",
    "plt.show()\n",
    "\n",
    "plt.plot(delta_b.detach().cpu(), b_grad.detach().cpu())\n",
    "plt.show()"
   ]
  },
  {
   "cell_type": "code",
   "execution_count": 299,
   "metadata": {},
   "outputs": [],
   "source": [
    "a = 100000\n",
    "\n",
    "# Now that we have confirmed our functions work perfectly, we will hand implement them in ANNs bc I have no life :)\n",
    "\n",
    "# To approx. f(x) = 1 if x > 0 else 0 we will use the following:\n",
    "# ReLU(ax)-ReLU(ax - 1) which for large a is essentially what we want\n",
    "# To pass a value through a ReLU we will use f(x) = ReLU(x) - ReLU(-x)\n",
    "\n",
    "# ch_n = 6\n",
    "# ch_e = 3\n",
    "\n",
    "# n[0] is activation\n",
    "# n[1] is bias\n",
    "# n[2] is dL/dz (pre activation grad)\n",
    "# n[3] is haslbl\n",
    "# n[4] is da/dz (ReLU gradient = 1 if a > 0 else 0)\n",
    "# n[5] is apply_b_grad?\n",
    "\n",
    "# e[0] is weight\n",
    "# e[1] is -lr * gradient\n",
    "# e[2] is apply_w_grad?\n",
    "\n",
    "\n",
    "\n",
    "# Output: 1 layer MLP\n",
    "# Easy\n",
    "# o[0] = n[0]\n",
    "\n",
    "# Input\n",
    "# Easy w/ 1 layer MLP\n",
    "# i[0] = inp[0] - n[0]\n",
    "\n",
    "# Label: 1 layer MultMLP\n",
    "# Create another ch_n: n[4] which simply keeps track of (1 if n[0] > 0 else 0), than have this be a multiplication MLP\n",
    "# l[2] = 2 * n[0] * n[4] - 2 * lbl[0] * n[4] - n[2] # Have distributed this now so multiplications happen first\n",
    "# Easy\n",
    "# l[3] = 1 - n[3]\n",
    "\n",
    "# Message: 1 layer MultMLP\n",
    "# Will have to be a mult net\n",
    "# Easy for a mult net\n",
    "# m_a[2] = e[0] * n_b[2]\n",
    "# Easy\n",
    "# m_a[3] = n_b[3]\n",
    "# Easy for mult net\n",
    "# m_b[0] = n_a[0] * e[0]\n",
    "# Easy for mult net\n",
    "# m_b[1] = n_b[3] - n_a[3] * n_b[3] # Have distributed again\n",
    "# This has been broken into two steps: e[1] and e[2] will calculate -lr * n_a[0] * n_b[2] and n_b[3] - n_a[3] * n_b[3] respectively and then next iter they will be combined into e[0]\n",
    "# m_e[0] = e[1] * e[2]\n",
    "# m_e[1] = -lr * n_a[0] * n_b[2] - e[1]\n",
    "# m_e[2] = n_b[3] - n_a[3] * n_b[3] - e[2]\n",
    "\n",
    "# Update: 2 layer MultMLP\n",
    "# Has to pass through n[0]\n",
    "# u[0] = ReLU(agg_m_b[0] + n[1]) - n[0]\n",
    "# Broke down into intermediate step in n[5], will haev to pass through\n",
    "# u[1] = -lr * n[2] * n[5]\n",
    "# Will have to pass through\n",
    "# u[2] = agg_m_a[2] * n[4] - n[2]\n",
    "# Use approx. if\n",
    "# u[3] = (1 if agg_m_a[3] > 0 else 0) - n[3]\n",
    "# u[4] = (1 if n[0] > 0 else 0) - n[4]\n",
    "# u[5] = (1 if agg_m_b[1] > 0 else 0) - n[5]"
   ]
  },
  {
   "cell_type": "code",
   "execution_count": 300,
   "metadata": {},
   "outputs": [
    {
     "name": "stdout",
     "output_type": "stream",
     "text": [
      "{18: (0, 1), 19: (0, 2), 20: (0, 3), 21: (0, 4), 22: (0, 5), 23: (0, 6), 24: (0, 7), 25: (0, 8), 26: (0, 9), 27: (0, 10), 28: (0, 11), 29: (0, 12), 30: (0, 13), 31: (0, 14), 32: (0, 15), 33: (0, 16), 34: (0, 17), 35: (1, 2), 36: (1, 3), 37: (1, 4), 38: (1, 5), 39: (1, 6), 40: (1, 7), 41: (1, 8), 42: (1, 9), 43: (1, 10), 44: (1, 11), 45: (1, 12), 46: (1, 13), 47: (1, 14), 48: (1, 15), 49: (1, 16), 50: (1, 17), 51: (2, 3), 52: (2, 4), 53: (2, 5), 54: (2, 6), 55: (2, 7), 56: (2, 8), 57: (2, 9), 58: (2, 10), 59: (2, 11), 60: (2, 12), 61: (2, 13), 62: (2, 14), 63: (2, 15), 64: (2, 16), 65: (2, 17), 66: (3, 4), 67: (3, 5), 68: (3, 6), 69: (3, 7), 70: (3, 8), 71: (3, 9), 72: (3, 10), 73: (3, 11), 74: (3, 12), 75: (3, 13), 76: (3, 14), 77: (3, 15), 78: (3, 16), 79: (3, 17), 80: (4, 5), 81: (4, 6), 82: (4, 7), 83: (4, 8), 84: (4, 9), 85: (4, 10), 86: (4, 11), 87: (4, 12), 88: (4, 13), 89: (4, 14), 90: (4, 15), 91: (4, 16), 92: (4, 17), 93: (5, 6), 94: (5, 7), 95: (5, 8), 96: (5, 9), 97: (5, 10), 98: (5, 11), 99: (5, 12), 100: (5, 13), 101: (5, 14), 102: (5, 15), 103: (5, 16), 104: (5, 17), 105: (6, 7), 106: (6, 8), 107: (6, 9), 108: (6, 10), 109: (6, 11), 110: (6, 12), 111: (6, 13), 112: (6, 14), 113: (6, 15), 114: (6, 16), 115: (6, 17), 116: (7, 8), 117: (7, 9), 118: (7, 10), 119: (7, 11), 120: (7, 12), 121: (7, 13), 122: (7, 14), 123: (7, 15), 124: (7, 16), 125: (7, 17), 126: (8, 9), 127: (8, 10), 128: (8, 11), 129: (8, 12), 130: (8, 13), 131: (8, 14), 132: (8, 15), 133: (8, 16), 134: (8, 17), 135: (9, 10), 136: (9, 11), 137: (9, 12), 138: (9, 13), 139: (9, 14), 140: (9, 15), 141: (9, 16), 142: (9, 17), 143: (10, 11), 144: (10, 12), 145: (10, 13), 146: (10, 14), 147: (10, 15), 148: (10, 16), 149: (10, 17), 150: (11, 12), 151: (11, 13), 152: (11, 14), 153: (11, 15), 154: (11, 16), 155: (11, 17), 156: (12, 13), 157: (12, 14), 158: (12, 15), 159: (12, 16), 160: (12, 17), 161: (13, 14), 162: (13, 15), 163: (13, 16), 164: (13, 17), 165: (14, 15), 166: (14, 16), 167: (14, 17), 168: (15, 16), 169: (15, 17), 170: (16, 17)}\n"
     ]
    }
   ],
   "source": [
    "# Scratch work for figuring out indices\n",
    "print({i+18:conn for i, conn in enumerate([(i, j) for i in range(18) for j in range(i+1, 18)])})"
   ]
  },
  {
   "cell_type": "code",
   "execution_count": 301,
   "metadata": {},
   "outputs": [],
   "source": [
    "class Inp_Enc(nn.Module):\n",
    "    def __init__(self, ch_inp, ch_n, *args, **kwargs):\n",
    "        super().__init__()\n",
    "\n",
    "        # 1 layer MLP\n",
    "        self.main = nn.Linear(ch_inp+ch_n, ch_n)\n",
    "\n",
    "        with torch.no_grad():\n",
    "            self.main.weight.fill_(0)\n",
    "            self.main.bias.fill_(0)\n",
    "            \n",
    "            # i[0] = inp[0] - n[0]\n",
    "            self.main.weight[0, 0] = 1\n",
    "            self.main.weight[0, 1] = 1\n",
    "\n",
    "    def forward(self, x):\n",
    "        return self.main(x)\n",
    "\n",
    "class Label_Enc(nn.Module):\n",
    "    def __init__(self, ch_out, ch_n, *args, **kwargs):\n",
    "        super().__init__()\n",
    "\n",
    "        # 1 layer MultMLP\n",
    "        inps = ch_out+ch_n\n",
    "        self.main = nn.Linear(inps + int((inps-1)*inps/2), 6)\n",
    "\n",
    "        with torch.no_grad():\n",
    "            self.main.weight.fill_(0)\n",
    "            self.main.bias.fill_(0)\n",
    "\n",
    "            # l[2] = 2 * n[0] * n[4] - 2 * lbl[0] * n[4] - n[2]\n",
    "            self.main.weight[2, 16] = 2\n",
    "            self.main.weight[2, 11] = -2\n",
    "            self.main.weight[2, 3] = -1\n",
    "            # l[3] = 1 - n[3]\n",
    "            self.main.bias[3] = 1\n",
    "            self.main.weight[3, 4] = -1\n",
    "            pass\n",
    "\n",
    "    def forward(self, x):\n",
    "        mult_x = torch.cat([x, *[x[..., i:i+1] * x[..., j:j+1] for i in range(x.shape[-1]) for j in range(i+1, x.shape[-1])]], axis=-1)\n",
    "        return self.main(mult_x)\n",
    "\n",
    "class Out_Dec(nn.Module):\n",
    "    def __init__(self, ch_out, ch_n, *args, **kwargs):\n",
    "        super().__init__()\n",
    "\n",
    "        self.main = nn.Linear(ch_n, ch_out)\n",
    "\n",
    "        with torch.no_grad():\n",
    "            self.main.weight.fill_(0)\n",
    "            self.main.bias.fill_(0)\n",
    "\n",
    "            # o[0] = n[0]\n",
    "            self.main.weight[0, 0] = 1\n",
    "\n",
    "    def forward(self, x):\n",
    "        return self.main(x)\n",
    "\n",
    "\n",
    "class Message(nn.Module):\n",
    "    def __init__(self, ch_n, ch_e, *args, **kwargs):\n",
    "        super().__init__()\n",
    "\n",
    "        self.ch_n = ch_n\n",
    "        self.ch_e = ch_e\n",
    "\n",
    "        inp = 2*ch_n + ch_e\n",
    "\n",
    "        self.main = nn.Linear(inp + int((inp-1)*inp/2), 2*ch_n + ch_e)\n",
    "\n",
    "        with torch.no_grad():\n",
    "            self.main.weight.fill_(0)\n",
    "            self.main.bias.fill_(0)\n",
    "\n",
    "            # m_a[2] = e[0] * n_b[2] # (8, 12)\n",
    "            self.main.weight[2, 102] = 1\n",
    "            # m_a[3] = n_b[3]\n",
    "            self.main.weight[3, 9] = 1\n",
    "            # m_b[0] = n_a[0] * e[0] # (0, 12)\n",
    "            self.main.weight[6, 26] = 1\n",
    "            # m_b[1] = n_b[3] - n_a[3] * n_b[3] # (3, 9)\n",
    "            self.main.weight[7, 9] = 1\n",
    "            self.main.weight[7, 59] = -1\n",
    "            # m_e[0] = e[1] * e[2] # (13, 14)\n",
    "            self.main.weight[12, 119] = 1\n",
    "            # m_e[1] = -lr * n_a[0] * n_b[2] - e[1] # (0, 8)\n",
    "            self.main.weight[13, 22] = -lr\n",
    "            self.main.weight[13, 13] = -1\n",
    "            # m_e[2] = n_b[3] - n_a[3] * n_b[3] - e[2] # (3, 9)\n",
    "            self.main.weight[14, 9] = 1\n",
    "            self.main.weight[14, 59] = -1\n",
    "            self.main.weight[14, 14] = -1\n",
    "            \n",
    "    def forward(self, x):\n",
    "        mult_x = torch.cat([x, *[x[..., i:i+1] * x[..., j:j+1] for i in range(x.shape[-1]) for j in range(i+1, x.shape[-1])]], axis=-1)\n",
    "        return self.main(mult_x)\n",
    "    \n",
    "class Update(nn.Module):\n",
    "    def __init__(self, ch_n, *args, **kwargs):\n",
    "        super().__init__()\n",
    "\n",
    "        inp = 3*ch_n\n",
    "\n",
    "        self.main = nn.Sequential(\n",
    "            nn.Linear(inp + int((inp-1)*inp/2), 20),\n",
    "            nn.ReLU(),\n",
    "            nn.Linear(20, ch_n),\n",
    "        )\n",
    "\n",
    "        with torch.no_grad():\n",
    "            self.main[0].weight.fill_(0)\n",
    "            self.main[0].bias.fill_(0)\n",
    "            self.main[2].weight.fill_(0)\n",
    "            self.main[2].bias.fill_(0)\n",
    "\n",
    "            # u[0] = ReLU(agg_m_b[0] + n[1]) - n[0] # first part in h[0] and pass -n[0] through in h[1] and h[2] and reconstructed\n",
    "            self.main[0].weight[0, 6] = 1\n",
    "            self.main[0].weight[0, 13] = 1\n",
    "            self.main[0].weight[1, 12] = -1\n",
    "            self.main[0].weight[2, 12] = 1\n",
    "            self.main[2].weight[0, 0] = 1\n",
    "            self.main[2].weight[0, 1] = 1\n",
    "            self.main[2].weight[0, 2] = -1\n",
    "            # u[1] = -lr * n[2] * n[5] # (14, 17) pass through h[3] and h[4]\n",
    "            self.main[0].weight[3, 167] = -lr\n",
    "            self.main[0].weight[4, 167] = lr\n",
    "            self.main[2].weight[1, 3] = 1\n",
    "            self.main[2].weight[1, 4] = -1\n",
    "            # u[2] = agg_m_a[2] * n[4] - n[2] # (2, 16) pass through h[5] and h[6]\n",
    "            self.main[0].weight[5, 64] = 1\n",
    "            self.main[0].weight[5, 14] = -1\n",
    "            self.main[0].weight[6, 64] = -1\n",
    "            self.main[0].weight[6, 14] = 1\n",
    "            self.main[2].weight[2, 5] = 1\n",
    "            self.main[2].weight[2, 6] = -1\n",
    "            # u[3] = (1 if agg_m_a[3] > 0 else 0) - n[3] # Do the if thing in h[7] and h[8] and pass through -n[3] in h[9] and h[10]\n",
    "            # ReLU(ax)-ReLU(ax - 1)\n",
    "            self.main[0].weight[7, 3] = a\n",
    "            self.main[0].weight[8, 3] = a\n",
    "            self.main[0].bias[8] = -1\n",
    "            self.main[2].weight[3, 7] = 1\n",
    "            self.main[2].weight[3, 8] = -1\n",
    "            # Pass through -n[3]\n",
    "            self.main[0].weight[9, 15] = -1\n",
    "            self.main[0].weight[10, 15] = 1\n",
    "            self.main[2].weight[3, 9] = 1\n",
    "            self.main[2].weight[3, 10] = -1\n",
    "            # u[4] = (1 if n[0] > 0 else 0) - n[4] # Same as last with minor tweaks (using h[11], h[12], h[13], h[14])\n",
    "            # ReLU(ax)-ReLU(ax - 1)\n",
    "            self.main[0].weight[11, 12] = a\n",
    "            self.main[0].weight[12, 12] = a\n",
    "            self.main[0].bias[12] = -1\n",
    "            self.main[2].weight[4, 11] = 1\n",
    "            self.main[2].weight[4, 12] = -1\n",
    "            # Pass through -n[4]\n",
    "            self.main[0].weight[13, 16] = -1\n",
    "            self.main[0].weight[14, 16] = 1\n",
    "            self.main[2].weight[4, 13] = 1\n",
    "            self.main[2].weight[4, 14] = -1\n",
    "            # u[5] = (1 if agg_m_b[1] > 0 else 0) - n[5] # Same as last with minor tweaks (using h[15], h[16], h[17], h[18])\n",
    "            # ReLU(ax)-ReLU(ax - 1)\n",
    "            self.main[0].weight[15, 7] = a\n",
    "            self.main[0].weight[16, 7] = a\n",
    "            self.main[0].bias[16] = -1\n",
    "            self.main[2].weight[5, 15] = 1\n",
    "            self.main[2].weight[5, 16] = -1\n",
    "            # Pass through -n[5]\n",
    "            self.main[0].weight[17, 17] = -1\n",
    "            self.main[0].weight[18, 17] = 1\n",
    "            self.main[2].weight[5, 17] = 1\n",
    "            self.main[2].weight[5, 18] = -1\n",
    "    \n",
    "    def forward(self, x):\n",
    "        mult_x = torch.cat([x, *[x[..., i:i+1] * x[..., j:j+1] for i in range(x.shape[-1]) for j in range(i+1, x.shape[-1])]], axis=-1)\n",
    "        return self.main(mult_x)"
   ]
  },
  {
   "cell_type": "code",
   "execution_count": 310,
   "metadata": {},
   "outputs": [
    {
     "name": "stdout",
     "output_type": "stream",
     "text": [
      "944\n"
     ]
    }
   ],
   "source": [
    "size = 7\n",
    "\n",
    "shape = [size**2, 16, 10]\n",
    "\n",
    "connections = [(i, j) for k in range(len(shape)-1) for i in range(sum(shape[:k]), sum(shape[:k+1])) for j in range(sum(shape[:k+1]), sum(shape[:k+2]))]\n",
    "print(len(connections))\n",
    "\n",
    "graph = NeuralGraph(sum(shape), shape[0], shape[-1], connections, ch_n=ch_n, ch_e=ch_e, clamp_mode=\"none\", value_init=\"zeros\", aggregation=\"sum\", use_label=True, device=\"cuda\",\n",
    "                     message_generator=Message, update_generator=Update, inp_int_generator=Inp_Enc, label_int_generator=Label_Enc, out_int_generator=Out_Dec)"
   ]
  },
  {
   "cell_type": "code",
   "execution_count": 311,
   "metadata": {},
   "outputs": [],
   "source": [
    "class Test_MLP(nn.Module):\n",
    "    def __init__(self, shape):\n",
    "        super().__init__()\n",
    "\n",
    "        modules = []\n",
    "        for i in range(len(shape)-1):\n",
    "            modules.append(nn.Linear(shape[i], shape[i+1]))\n",
    "            modules.append(nn.ReLU())\n",
    "\n",
    "        self.main = nn.Sequential(*modules)\n",
    "    \n",
    "    def forward(self, x):\n",
    "        return self.main(x)"
   ]
  },
  {
   "cell_type": "code",
   "execution_count": 312,
   "metadata": {},
   "outputs": [],
   "source": [
    "copycat = Test_MLP(shape).to(\"cuda\")"
   ]
  },
  {
   "cell_type": "code",
   "execution_count": 368,
   "metadata": {},
   "outputs": [],
   "source": [
    "def get_states(copycat):\n",
    "    edge_states = []\n",
    "    bias_states = []\n",
    "\n",
    "    for layer in copycat.main[::2]:\n",
    "        # split_bias = torch.repeat_interleave(layer.bias.clone().unsqueeze(-1), layer.weight.shape[1], axis=-1) / layer.weight.shape[1]\n",
    "        \n",
    "        edge_states.append(layer.weight.clone().T.reshape(-1))\n",
    "        bias_states.append(layer.bias.clone())\n",
    "\n",
    "    edge_states = torch.cat(edge_states, axis=0)\n",
    "    bias_states = torch.cat([torch.zeros(shape[0]).to(\"cuda\"), *bias_states], axis=0)\n",
    "    return edge_states.clone().detach(), bias_states.clone().detach()\n",
    "\n",
    "# Copy copycat vals to graph\n",
    "def init_vals(copycat, batch_size=1):\n",
    "    edge_states, bias_states = get_states(copycat)\n",
    "\n",
    "    graph.init_vals(batch_size=batch_size)\n",
    "    graph.edges[:, :, 0] = edge_states.detach().clone()\n",
    "    graph.nodes[:, :, 1] = bias_states.detach().clone()\n",
    "\n",
    "def get_grads(copycat):\n",
    "    edge_grads = []\n",
    "    bias_grads = []\n",
    "\n",
    "    for layer in copycat.main[::2]:\n",
    "        # split_bias = torch.repeat_interleave(layer.bias.clone().unsqueeze(-1), layer.weight.shape[1], axis=-1) / layer.weight.shape[1]\n",
    "        \n",
    "        edge_grads.append(layer.weight.grad.clone().T.reshape(-1))\n",
    "        bias_grads.append(layer.bias.grad.clone())\n",
    "\n",
    "    edge_grads = torch.cat(edge_grads, axis=0)\n",
    "    bias_grads = torch.cat([torch.zeros(shape[0]).to(\"cuda\"), *bias_grads], axis=0)\n",
    "    return edge_grads, bias_grads"
   ]
  },
  {
   "cell_type": "code",
   "execution_count": 369,
   "metadata": {},
   "outputs": [
    {
     "name": "stdout",
     "output_type": "stream",
     "text": [
      "tensor([[0.1220, 0.0000, 0.0000, 0.0000, 0.0000, 0.2027, 0.1999, 0.2245, 0.2553,\n",
      "         0.2773]], device='cuda:0', grad_fn=<ReluBackward0>)\n",
      "tensor([[0.1220, 0.0000, 0.0000, 0.0000, 0.0000, 0.2027, 0.1999, 0.2245, 0.2553,\n",
      "         0.2773]], device='cuda:0', grad_fn=<SqueezeBackward1>)\n"
     ]
    }
   ],
   "source": [
    "init_vals(copycat)\n",
    "\n",
    "dummy_inp = torch.randn(1, 49).to(\"cuda\")\n",
    "dummy_label = torch.randn(1, 10).to(\"cuda\")\n",
    "\n",
    "print(copycat(dummy_inp))\n",
    "print(graph.forward(dummy_inp))"
   ]
  },
  {
   "cell_type": "code",
   "execution_count": 370,
   "metadata": {},
   "outputs": [],
   "source": [
    "copycat = Test_MLP(shape).to(\"cuda\")\n",
    "optimizer = torch.optim.SGD(copycat.parameters(), lr=.01)"
   ]
  },
  {
   "cell_type": "code",
   "execution_count": 381,
   "metadata": {},
   "outputs": [
    {
     "name": "stdout",
     "output_type": "stream",
     "text": [
      "tensor([[0.0000, 0.0000, 0.0000, 1.1726, 0.0000, 0.0000, 0.4142, 0.1438, 0.0000,\n",
      "         0.0000]], device='cuda:0', grad_fn=<ReluBackward0>) tensor([[0.0000, 0.0000, 0.0000, 1.1726, 0.0000, 0.0000, 0.4142, 0.1438, 0.0000,\n",
      "         0.0000]], device='cuda:0')\n"
     ]
    }
   ],
   "source": [
    "init_vals(copycat)\n",
    "\n",
    "\n",
    "old_w, old_b = get_states(copycat)\n",
    "\n",
    "graph_old_w = graph.edges[..., 0].clone().flatten()\n",
    "graph_old_b = graph.nodes[..., 1].clone().flatten()\n",
    "\n",
    "\n",
    "for _ in range(100):\n",
    "\n",
    "    optimizer.zero_grad()\n",
    "\n",
    "    FFN_out = copycat(dummy_inp)\n",
    "    loss = torch.square(dummy_label - FFN_out).sum(-1).mean()\n",
    "    loss.backward()\n",
    "\n",
    "    optimizer.step()\n",
    "\n",
    "    with torch.no_grad():\n",
    "\n",
    "        graph_out = graph.forward(dummy_inp, edges=True)\n",
    "        graph.backward(dummy_inp, dummy_label, edges=True)\n",
    "\n",
    "\n",
    "\n",
    "w, b = get_states(copycat)\n",
    "FFN_delta_w, FFN_delta_b = w - old_w, b - old_b\n",
    "# The negative lr has already been mult. so divide out\n",
    "delta_w = (graph.edges[..., 0].flatten() - graph_old_w.flatten())\n",
    "delta_b = (graph.nodes[..., 1].flatten() - graph_old_b.flatten())\n",
    "\n",
    "\n",
    "print(FFN_out, graph_out)"
   ]
  },
  {
   "cell_type": "code",
   "execution_count": null,
   "metadata": {},
   "outputs": [],
   "source": []
  },
  {
   "cell_type": "code",
   "execution_count": 382,
   "metadata": {},
   "outputs": [
    {
     "data": {
      "image/png": "[encoded data removed]",
      "text/plain": [
       "<Figure size 640x480 with 2 Axes>"
      ]
     },
     "metadata": {},
     "output_type": "display_data"
    }
   ],
   "source": [
    "plt.subplot(2, 1, 1)\n",
    "\n",
    "plt.title(\"Graph gradient descent weights\")\n",
    "plt.ylabel(\"Actual w gradient\")\n",
    "plt.xlabel(\"Graph Change in w\")\n",
    "plt.scatter(FFN_delta_w.detach().cpu(), delta_w.detach().cpu())\n",
    "\n",
    "plt.subplot(2, 1, 2)\n",
    "\n",
    "plt.title(\"Graph gradient descent biases\")\n",
    "plt.ylabel(\"Actual b gradient\")\n",
    "plt.xlabel(\"Graph Change in b\")\n",
    "plt.scatter(FFN_delta_b.detach().cpu(), delta_b.detach().cpu())\n",
    "\n",
    "plt.tight_layout()\n",
    "\n",
    "plt.show()"
   ]
  },
  {
   "cell_type": "code",
   "execution_count": 383,
   "metadata": {},
   "outputs": [],
   "source": [
    "import tensorflow as tf\n",
    "import cv2"
   ]
  },
  {
   "cell_type": "code",
   "execution_count": 384,
   "metadata": {},
   "outputs": [],
   "source": [
    "SIZE = 7\n",
    "\n",
    "(x_train, y_train), (_, _) = tf.keras.datasets.mnist.load_data()\n",
    "x_train = np.stack([cv2.resize(img/255.0, dsize=[SIZE, SIZE]) for img in x_train]).reshape(-1, SIZE**2)\n",
    "\n",
    "x_train = torch.Tensor(x_train).to(\"cuda\")\n",
    "y_train = nn.functional.one_hot(torch.Tensor(y_train).to(\"cuda\").long(), 10)"
   ]
  },
  {
   "cell_type": "code",
   "execution_count": 385,
   "metadata": {},
   "outputs": [
    {
     "name": "stdout",
     "output_type": "stream",
     "text": [
      "1200\n"
     ]
    }
   ],
   "source": [
    "shape = [SIZE**2, 16, 16, 10]\n",
    "\n",
    "connections = [(i, j) for k in range(len(shape)-1) for i in range(sum(shape[:k]), sum(shape[:k+1])) for j in range(sum(shape[:k+1]), sum(shape[:k+2]))]\n",
    "print(len(connections))\n",
    "\n",
    "graph = NeuralGraph(sum(shape), shape[0], shape[-1], connections, ch_n=ch_n, ch_e=ch_e, clamp_mode=\"none\", value_init=\"zeros\", aggregation=\"sum\", use_label=True, device=\"cuda\",\n",
    "                     message_generator=Message, update_generator=Update, inp_int_generator=Inp_Enc, label_int_generator=Label_Enc, out_int_generator=Out_Dec)"
   ]
  },
  {
   "cell_type": "code",
   "execution_count": 386,
   "metadata": {},
   "outputs": [],
   "source": [
    "# graph.edges[..., 0] = torch.randn_like(graph.edges[..., 0])"
   ]
  },
  {
   "cell_type": "code",
   "execution_count": 387,
   "metadata": {},
   "outputs": [
    {
     "name": "stdout",
     "output_type": "stream",
     "text": [
      "torch.Size([60000, 49]) torch.Size([60000, 10])\n"
     ]
    }
   ],
   "source": [
    "print(x_train.shape, y_train.shape)"
   ]
  },
  {
   "cell_type": "code",
   "execution_count": 388,
   "metadata": {},
   "outputs": [],
   "source": [
    "criterion = nn.MSELoss()"
   ]
  },
  {
   "cell_type": "code",
   "execution_count": 397,
   "metadata": {},
   "outputs": [],
   "source": [
    "# Copy copycat vals to graph\n",
    "def init_vals(copycat, batch_size=1):\n",
    "    edge_states = []\n",
    "    bias_states = []\n",
    "\n",
    "    for layer in copycat.main[::2]:\n",
    "        # split_bias = torch.repeat_interleave(layer.bias.clone().unsqueeze(-1), layer.weight.shape[1], axis=-1) / layer.weight.shape[1]\n",
    "        \n",
    "        edge_states.append(layer.weight.clone().T.reshape(-1))\n",
    "        bias_states.append(layer.bias.clone())\n",
    "\n",
    "    edge_states = torch.cat(edge_states, axis=0)\n",
    "    bias_states = torch.cat([torch.zeros(shape[0]).to(\"cuda\"), *bias_states], axis=0)\n",
    "\n",
    "    graph.init_vals(batch_size=batch_size)\n",
    "    graph.edges[:, :, 0] = edge_states.clone().unsqueeze(0)\n",
    "    graph.nodes[:, :, 1] = bias_states\n",
    "\n",
    "def get_grads(copycat):\n",
    "    edge_grads = []\n",
    "    bias_grads = []\n",
    "\n",
    "    for layer in copycat.main[::2]:\n",
    "        # split_bias = torch.repeat_interleave(layer.bias.clone().unsqueeze(-1), layer.weight.shape[1], axis=-1) / layer.weight.shape[1]\n",
    "        \n",
    "        edge_grads.append(layer.weight.grad.clone().T.reshape(-1))\n",
    "        bias_grads.append(layer.bias.grad.clone())\n",
    "\n",
    "    edge_grads = torch.cat(edge_grads, axis=0)\n",
    "    bias_grads = torch.cat([torch.zeros(shape[0]).to(\"cuda\"), *bias_grads], axis=0)\n",
    "    return edge_grads, bias_grads"
   ]
  },
  {
   "cell_type": "code",
   "execution_count": 398,
   "metadata": {},
   "outputs": [],
   "source": [
    "copycat = Test_MLP(shape).to(\"cuda\")"
   ]
  },
  {
   "cell_type": "code",
   "execution_count": 399,
   "metadata": {},
   "outputs": [],
   "source": [
    "optimizer = torch.optim.SGD(copycat.parameters(), lr=.01)"
   ]
  },
  {
   "cell_type": "code",
   "execution_count": 400,
   "metadata": {},
   "outputs": [
    {
     "name": "stderr",
     "output_type": "stream",
     "text": [
      "  1%|          | 457/60000 [01:06<2:24:08,  6.88it/s, graph_loss=0.908, ANN_loss=0.917, diff=0.00955] \n"
     ]
    },
    {
     "ename": "KeyboardInterrupt",
     "evalue": "",
     "output_type": "error",
     "traceback": [
      "\u001b[1;31m---------------------------------------------------------------------------\u001b[0m",
      "\u001b[1;31mKeyboardInterrupt\u001b[0m                         Traceback (most recent call last)",
      "\u001b[1;32mc:\\Users\\bunna\\Documents\\GitHub\\NeuralGraphPaper\\backprop_mimic.ipynb Cell 45\u001b[0m line \u001b[0;36m1\n\u001b[0;32m     <a href='vscode-notebook-cell:/c%3A/Users/bunna/Documents/GitHub/NeuralGraphPaper/backprop_mimic.ipynb#Y146sZmlsZQ%3D%3D?line=9'>10</a>\u001b[0m y \u001b[39m=\u001b[39m y\u001b[39m.\u001b[39mreshape(\u001b[39m1\u001b[39m, \u001b[39m-\u001b[39m\u001b[39m1\u001b[39m)\n\u001b[0;32m     <a href='vscode-notebook-cell:/c%3A/Users/bunna/Documents/GitHub/NeuralGraphPaper/backprop_mimic.ipynb#Y146sZmlsZQ%3D%3D?line=11'>12</a>\u001b[0m y_pred \u001b[39m=\u001b[39m graph\u001b[39m.\u001b[39mforward(x)\n\u001b[1;32m---> <a href='vscode-notebook-cell:/c%3A/Users/bunna/Documents/GitHub/NeuralGraphPaper/backprop_mimic.ipynb#Y146sZmlsZQ%3D%3D?line=12'>13</a>\u001b[0m graph\u001b[39m.\u001b[39;49mbackward(x, y)\n\u001b[0;32m     <a href='vscode-notebook-cell:/c%3A/Users/bunna/Documents/GitHub/NeuralGraphPaper/backprop_mimic.ipynb#Y146sZmlsZQ%3D%3D?line=14'>15</a>\u001b[0m optimizer\u001b[39m.\u001b[39mzero_grad()\n\u001b[0;32m     <a href='vscode-notebook-cell:/c%3A/Users/bunna/Documents/GitHub/NeuralGraphPaper/backprop_mimic.ipynb#Y146sZmlsZQ%3D%3D?line=15'>16</a>\u001b[0m out \u001b[39m=\u001b[39m copycat(x)\n",
      "File \u001b[1;32mc:\\Users\\bunna\\Documents\\GitHub\\NeuralGraphPaper\\NeuralGraph.py:586\u001b[0m, in \u001b[0;36mNeuralGraph.backward\u001b[1;34m(self, x, y, time, dt, apply_once, nodes, edges, edges_at_end)\u001b[0m\n\u001b[0;32m    580\u001b[0m         checkpoint(\n\u001b[0;32m    581\u001b[0m             \u001b[39mself\u001b[39m\u001b[39m.\u001b[39mtimestep,\n\u001b[0;32m    582\u001b[0m             use_reentrant\u001b[39m=\u001b[39m\u001b[39mFalse\u001b[39;00m,\n\u001b[0;32m    583\u001b[0m             step_nodes\u001b[39m=\u001b[39mnodes, step_edges\u001b[39m=\u001b[39medges, dt\u001b[39m=\u001b[39mdt, t\u001b[39m=\u001b[39mt\n\u001b[0;32m    584\u001b[0m         )\n\u001b[0;32m    585\u001b[0m     \u001b[39melse\u001b[39;00m:\n\u001b[1;32m--> 586\u001b[0m         \u001b[39mself\u001b[39;49m\u001b[39m.\u001b[39;49mtimestep(step_nodes\u001b[39m=\u001b[39;49mnodes, step_edges\u001b[39m=\u001b[39;49medges, dt\u001b[39m=\u001b[39;49mdt, t\u001b[39m=\u001b[39;49mt)\n\u001b[0;32m    588\u001b[0m \u001b[39mif\u001b[39;00m \u001b[39mself\u001b[39m\u001b[39m.\u001b[39muse_checkpoints \u001b[39mand\u001b[39;00m t \u001b[39m%\u001b[39m \u001b[39mself\u001b[39m\u001b[39m.\u001b[39mcheckpoint_every \u001b[39m==\u001b[39m \u001b[39m0\u001b[39m:\n\u001b[0;32m    589\u001b[0m     checkpoint(\n\u001b[0;32m    590\u001b[0m         \u001b[39mself\u001b[39m\u001b[39m.\u001b[39mtimestep,\n\u001b[0;32m    591\u001b[0m         use_reentrant\u001b[39m=\u001b[39m\u001b[39mFalse\u001b[39;00m,\n\u001b[0;32m    592\u001b[0m         step_nodes\u001b[39m=\u001b[39mnodes, step_edges\u001b[39m=\u001b[39medges \u001b[39mor\u001b[39;00m edges_at_end, dt\u001b[39m=\u001b[39mdt, t\u001b[39m=\u001b[39mt\n\u001b[0;32m    593\u001b[0m     )\n",
      "File \u001b[1;32mc:\\Users\\bunna\\Documents\\GitHub\\NeuralGraphPaper\\NeuralGraph.py:249\u001b[0m, in \u001b[0;36mNeuralGraph.timestep\u001b[1;34m(self, dt, step_nodes, step_edges, t)\u001b[0m\n\u001b[0;32m    245\u001b[0m m_x \u001b[39m=\u001b[39m torch\u001b[39m.\u001b[39mcat([nodes[:, \u001b[39mself\u001b[39m\u001b[39m.\u001b[39mconn_a], nodes[:, \u001b[39mself\u001b[39m\u001b[39m.\u001b[39mconn_b], edges], dim\u001b[39m=\u001b[39m\u001b[39m2\u001b[39m)\n\u001b[0;32m    246\u001b[0m \u001b[39m# a = torch.stack([self.conn_a, self.conn_b, self.conn_b], dim=-1)\u001b[39;00m\n\u001b[0;32m    247\u001b[0m \u001b[39m# m_x = nodes[:, a].flatten(2)\u001b[39;00m\n\u001b[0;32m    248\u001b[0m \u001b[39m# m_x[:, :, self.ch_n*2:] = edges\u001b[39;00m\n\u001b[1;32m--> 249\u001b[0m m \u001b[39m=\u001b[39m \u001b[39mself\u001b[39;49m\u001b[39m.\u001b[39;49mmessages[t \u001b[39m%\u001b[39;49m \u001b[39mself\u001b[39;49m\u001b[39m.\u001b[39;49mn_models](m_x)\n\u001b[0;32m    251\u001b[0m \u001b[39m# m_a, m_b, m_ab = torch.split(m, [self.ch_n, self.ch_n, self.ch_e], 2)\u001b[39;00m\n\u001b[0;32m    252\u001b[0m m_a, m_b, m_ab \u001b[39m=\u001b[39m torch\u001b[39m.\u001b[39mtensor_split(m, [\u001b[39mself\u001b[39m\u001b[39m.\u001b[39mch_n\u001b[39m-\u001b[39m\u001b[39mself\u001b[39m\u001b[39m.\u001b[39mch_n_const, (\u001b[39mself\u001b[39m\u001b[39m.\u001b[39mch_n\u001b[39m-\u001b[39m\u001b[39mself\u001b[39m\u001b[39m.\u001b[39mch_n_const)\u001b[39m*\u001b[39m\u001b[39m2\u001b[39m], \u001b[39m2\u001b[39m)\n",
      "File \u001b[1;32mc:\\Users\\bunna\\AppData\\Local\\Programs\\Python\\Python39\\lib\\site-packages\\torch\\nn\\modules\\module.py:1501\u001b[0m, in \u001b[0;36mModule._call_impl\u001b[1;34m(self, *args, **kwargs)\u001b[0m\n\u001b[0;32m   1496\u001b[0m \u001b[39m# If we don't have any hooks, we want to skip the rest of the logic in\u001b[39;00m\n\u001b[0;32m   1497\u001b[0m \u001b[39m# this function, and just call forward.\u001b[39;00m\n\u001b[0;32m   1498\u001b[0m \u001b[39mif\u001b[39;00m \u001b[39mnot\u001b[39;00m (\u001b[39mself\u001b[39m\u001b[39m.\u001b[39m_backward_hooks \u001b[39mor\u001b[39;00m \u001b[39mself\u001b[39m\u001b[39m.\u001b[39m_backward_pre_hooks \u001b[39mor\u001b[39;00m \u001b[39mself\u001b[39m\u001b[39m.\u001b[39m_forward_hooks \u001b[39mor\u001b[39;00m \u001b[39mself\u001b[39m\u001b[39m.\u001b[39m_forward_pre_hooks\n\u001b[0;32m   1499\u001b[0m         \u001b[39mor\u001b[39;00m _global_backward_pre_hooks \u001b[39mor\u001b[39;00m _global_backward_hooks\n\u001b[0;32m   1500\u001b[0m         \u001b[39mor\u001b[39;00m _global_forward_hooks \u001b[39mor\u001b[39;00m _global_forward_pre_hooks):\n\u001b[1;32m-> 1501\u001b[0m     \u001b[39mreturn\u001b[39;00m forward_call(\u001b[39m*\u001b[39margs, \u001b[39m*\u001b[39m\u001b[39m*\u001b[39mkwargs)\n\u001b[0;32m   1502\u001b[0m \u001b[39m# Do not call functions when jit is used\u001b[39;00m\n\u001b[0;32m   1503\u001b[0m full_backward_hooks, non_full_backward_hooks \u001b[39m=\u001b[39m [], []\n",
      "\u001b[1;32mc:\\Users\\bunna\\Documents\\GitHub\\NeuralGraphPaper\\backprop_mimic.ipynb Cell 45\u001b[0m line \u001b[0;36m9\n\u001b[0;32m     <a href='vscode-notebook-cell:/c%3A/Users/bunna/Documents/GitHub/NeuralGraphPaper/backprop_mimic.ipynb#Y146sZmlsZQ%3D%3D?line=94'>95</a>\u001b[0m \u001b[39mdef\u001b[39;00m \u001b[39mforward\u001b[39m(\u001b[39mself\u001b[39m, x):\n\u001b[1;32m---> <a href='vscode-notebook-cell:/c%3A/Users/bunna/Documents/GitHub/NeuralGraphPaper/backprop_mimic.ipynb#Y146sZmlsZQ%3D%3D?line=95'>96</a>\u001b[0m     mult_x \u001b[39m=\u001b[39m torch\u001b[39m.\u001b[39mcat([x, \u001b[39m*\u001b[39m[x[\u001b[39m.\u001b[39m\u001b[39m.\u001b[39m\u001b[39m.\u001b[39m, i:i\u001b[39m+\u001b[39m\u001b[39m1\u001b[39m] \u001b[39m*\u001b[39m x[\u001b[39m.\u001b[39m\u001b[39m.\u001b[39m\u001b[39m.\u001b[39m, j:j\u001b[39m+\u001b[39m\u001b[39m1\u001b[39m] \u001b[39mfor\u001b[39;00m i \u001b[39min\u001b[39;00m \u001b[39mrange\u001b[39m(x\u001b[39m.\u001b[39mshape[\u001b[39m-\u001b[39m\u001b[39m1\u001b[39m]) \u001b[39mfor\u001b[39;00m j \u001b[39min\u001b[39;00m \u001b[39mrange\u001b[39m(i\u001b[39m+\u001b[39m\u001b[39m1\u001b[39m, x\u001b[39m.\u001b[39mshape[\u001b[39m-\u001b[39m\u001b[39m1\u001b[39m])]], axis\u001b[39m=\u001b[39m\u001b[39m-\u001b[39m\u001b[39m1\u001b[39m)\n\u001b[0;32m     <a href='vscode-notebook-cell:/c%3A/Users/bunna/Documents/GitHub/NeuralGraphPaper/backprop_mimic.ipynb#Y146sZmlsZQ%3D%3D?line=96'>97</a>\u001b[0m     \u001b[39mreturn\u001b[39;00m \u001b[39mself\u001b[39m\u001b[39m.\u001b[39mmain(mult_x)\n",
      "\u001b[1;32mc:\\Users\\bunna\\Documents\\GitHub\\NeuralGraphPaper\\backprop_mimic.ipynb Cell 45\u001b[0m line \u001b[0;36m9\n\u001b[0;32m     <a href='vscode-notebook-cell:/c%3A/Users/bunna/Documents/GitHub/NeuralGraphPaper/backprop_mimic.ipynb#Y146sZmlsZQ%3D%3D?line=94'>95</a>\u001b[0m \u001b[39mdef\u001b[39;00m \u001b[39mforward\u001b[39m(\u001b[39mself\u001b[39m, x):\n\u001b[1;32m---> <a href='vscode-notebook-cell:/c%3A/Users/bunna/Documents/GitHub/NeuralGraphPaper/backprop_mimic.ipynb#Y146sZmlsZQ%3D%3D?line=95'>96</a>\u001b[0m     mult_x \u001b[39m=\u001b[39m torch\u001b[39m.\u001b[39mcat([x, \u001b[39m*\u001b[39m[x[\u001b[39m.\u001b[39;49m\u001b[39m.\u001b[39;49m\u001b[39m.\u001b[39;49m, i:i\u001b[39m+\u001b[39;49m\u001b[39m1\u001b[39;49m] \u001b[39m*\u001b[39;49m x[\u001b[39m.\u001b[39;49m\u001b[39m.\u001b[39;49m\u001b[39m.\u001b[39;49m, j:j\u001b[39m+\u001b[39;49m\u001b[39m1\u001b[39;49m] \u001b[39mfor\u001b[39;00m i \u001b[39min\u001b[39;00m \u001b[39mrange\u001b[39m(x\u001b[39m.\u001b[39mshape[\u001b[39m-\u001b[39m\u001b[39m1\u001b[39m]) \u001b[39mfor\u001b[39;00m j \u001b[39min\u001b[39;00m \u001b[39mrange\u001b[39m(i\u001b[39m+\u001b[39m\u001b[39m1\u001b[39m, x\u001b[39m.\u001b[39mshape[\u001b[39m-\u001b[39m\u001b[39m1\u001b[39m])]], axis\u001b[39m=\u001b[39m\u001b[39m-\u001b[39m\u001b[39m1\u001b[39m)\n\u001b[0;32m     <a href='vscode-notebook-cell:/c%3A/Users/bunna/Documents/GitHub/NeuralGraphPaper/backprop_mimic.ipynb#Y146sZmlsZQ%3D%3D?line=96'>97</a>\u001b[0m     \u001b[39mreturn\u001b[39;00m \u001b[39mself\u001b[39m\u001b[39m.\u001b[39mmain(mult_x)\n",
      "\u001b[1;31mKeyboardInterrupt\u001b[0m: "
     ]
    }
   ],
   "source": [
    "init_vals(copycat)\n",
    "\n",
    "graph_losses = []\n",
    "ANN_losses = []\n",
    "diffs = []\n",
    "\n",
    "bar = tqdm(zip(x_train, y_train), total=len(x_train))\n",
    "for x, y in bar:\n",
    "    x = x.reshape(1, -1)\n",
    "    y = y.reshape(1, -1)\n",
    "\n",
    "    y_pred = graph.forward(x)\n",
    "    graph.backward(x, y)\n",
    "\n",
    "    optimizer.zero_grad()\n",
    "    out = copycat(x)\n",
    "    ANN_loss = torch.square(y - out).sum(-1).mean()\n",
    "    ANN_loss.backward()\n",
    "    optimizer.step()\n",
    "\n",
    "    loss = torch.square(y - y_pred).sum(-1).mean()# criterion(y.flatten(), y_pred.flatten()) * 10\n",
    "    \n",
    "    graph_losses.append(loss.item())\n",
    "    ANN_losses.append(ANN_loss.item())\n",
    "    diffs.append(abs(loss.item()-ANN_loss.item()))\n",
    "\n",
    "    bar.set_postfix({\"graph_loss\":loss.item(), \"ANN_loss\":ANN_loss.item(), \"diff\":abs(loss.item()-ANN_loss.item())})"
   ]
  },
  {
   "cell_type": "code",
   "execution_count": 401,
   "metadata": {},
   "outputs": [
    {
     "data": {
      "text/plain": [
       "[<matplotlib.lines.Line2D at 0x25cbaf3e400>]"
      ]
     },
     "execution_count": 401,
     "metadata": {},
     "output_type": "execute_result"
    },
    {
     "data": {
      "image/png": "[encoded data removed]",
      "text/plain": [
       "<Figure size 640x480 with 1 Axes>"
      ]
     },
     "metadata": {},
     "output_type": "display_data"
    }
   ],
   "source": [
    "plt.plot(diffs[:10])"
   ]
  },
  {
   "cell_type": "code",
   "execution_count": 402,
   "metadata": {},
   "outputs": [
    {
     "data": {
      "image/png": "[encoded data removed]",
      "text/plain": [
       "<Figure size 640x480 with 1 Axes>"
      ]
     },
     "metadata": {},
     "output_type": "display_data"
    },
    {
     "data": {
      "image/png": "[encoded data removed]",
      "text/plain": [
       "<Figure size 640x480 with 1 Axes>"
      ]
     },
     "metadata": {},
     "output_type": "display_data"
    }
   ],
   "source": [
    "plt.plot(graph_losses, label=\"graph loss\")\n",
    "plt.plot(ANN_losses, label=\"FFN loss\")\n",
    "plt.xlabel(\"Steps\")\n",
    "plt.ylabel(\"Loss\")\n",
    "plt.legend()\n",
    "plt.show()\n",
    "plt.scatter(graph_losses, ANN_losses)\n",
    "plt.plot([np.min(graph_losses), np.max(graph_losses)], [np.min(graph_losses), np.max(graph_losses)], c=\"red\")\n",
    "plt.xlabel(\"graph losses\")\n",
    "plt.ylabel(\"FFN losses\")\n",
    "plt.show()\n",
    "# plt.ylim(0, 1)\n",
    "# plt.show()"
   ]
  },
  {
   "cell_type": "code",
   "execution_count": null,
   "metadata": {},
   "outputs": [],
   "source": []
  },
  {
   "cell_type": "code",
   "execution_count": null,
   "metadata": {},
   "outputs": [],
   "source": []
  },
  {
   "cell_type": "code",
   "execution_count": null,
   "metadata": {},
   "outputs": [],
   "source": []
  },
  {
   "cell_type": "code",
   "execution_count": null,
   "metadata": {},
   "outputs": [],
   "source": []
  },
  {
   "cell_type": "code",
   "execution_count": null,
   "metadata": {},
   "outputs": [],
   "source": []
  },
  {
   "cell_type": "code",
   "execution_count": null,
   "metadata": {},
   "outputs": [],
   "source": []
  },
  {
   "cell_type": "code",
   "execution_count": 285,
   "metadata": {},
   "outputs": [],
   "source": [
    "# Value for approx. funcs.\n",
    "a = .01\n",
    "\n",
    "lr = .01"
   ]
  },
  {
   "cell_type": "code",
   "execution_count": 287,
   "metadata": {},
   "outputs": [
    {
     "name": "stdout",
     "output_type": "stream",
     "text": [
      "[array([0, 1, 2, 3]), (0, 1), (0, 2), (0, 3), (1, 2), (1, 3), (2, 3)]\n"
     ]
    }
   ],
   "source": [
    "# out1 = np.arange(4)\n",
    "# print([out1, *[(i, j) for i in range(out1.shape[-1]) for j in range(i+1, out1.shape[-1])]])"
   ]
  },
  {
   "cell_type": "code",
   "execution_count": 288,
   "metadata": {},
   "outputs": [],
   "source": [
    "class Inp_Enc(nn.Module):\n",
    "    def __init__(self, ch_inp, ch_n, *args, **kwargs):\n",
    "        super().__init__()\n",
    "\n",
    "        self.main = nn.Linear(ch_inp+ch_n, ch_n)\n",
    "\n",
    "        with torch.no_grad():\n",
    "            self.main.weight.fill_(0)\n",
    "            self.main.bias.fill_(0)\n",
    "\n",
    "            # Channel n[0] should be inp - prev n[0]\n",
    "            self.main.weight[0, 0] = 1\n",
    "            self.main.weight[0, 1] = 1\n",
    "\n",
    "    def forward(self, x):\n",
    "        return self.main(x)\n",
    "    \n",
    "class Label_Enc(nn.Module):\n",
    "    def __init__(self, ch_out, ch_n, *args, **kwargs):\n",
    "        super().__init__()\n",
    "\n",
    "        self.l1 = nn.Sequential(\n",
    "            nn.Linear(ch_out+ch_n, 6),\n",
    "            nn.ReLU(),\n",
    "            nn.Linear(6, 4), # Ends up with [n[3] update, dL/dn[0], dn[0]/dz, prev. n[2]]\n",
    "        )\n",
    "        # Have to do a multiplication between these two layers\n",
    "        # Takes as inp: [0, 1, 2, 3, 0*1, 0*2, 0*3, 1*2, 1*3, 2*3]\n",
    "        self.l2 = nn.Linear(4+int(4*(4-1)/2), ch_n)\n",
    "\n",
    "        with torch.no_grad():\n",
    "            self.l1[0].weight.fill_(0)\n",
    "            self.l1[0].bias.fill_(0)\n",
    "            self.l1[2].weight.fill_(0)\n",
    "            self.l1[2].bias.fill_(0)\n",
    "            self.l2.weight.fill_(0)\n",
    "            self.l2.bias.fill_(0)\n",
    "\n",
    "            # Set n[3] = 1 (and subtract out last val)\n",
    "            self.l1[0].weight[0, ch_out+ch_n-1] = -1\n",
    "            self.l1[0].bias[0] = 1\n",
    "\n",
    "            self.l1[2].weight[0, 0] = 1\n",
    "            self.l2.weight[ch_n-1, 0] = 1\n",
    "\n",
    "\n",
    "\n",
    "            # Get dL/dn[0] = 2*(n[0] - lbl) (keep neg val for ReLU trick)\n",
    "            self.l1[0].weight[1, ch_out] = 2\n",
    "            self.l1[0].weight[1, 0] = -2\n",
    "            # neg version\n",
    "            self.l1[0].weight[2, ch_out] = -2\n",
    "            self.l1[0].weight[2, 0] = 2\n",
    "            # Combine the two\n",
    "            self.l1[2].weight[1, 1] = 1\n",
    "            self.l1[2].weight[1, 2] = -1\n",
    "\n",
    "            # Now calc. approx. of dReLU(z)/dz using 1-(1/a) * ReLU(-n[0]+a) (since n[0] is already ReLU(z) this will approx dReLU(z)/dz when a is small)\n",
    "            self.l1[0].weight[3, ch_out] = -1\n",
    "            self.l1[0].bias[3] = a\n",
    "            self.l1[2].weight[2, 3] = -1/a\n",
    "            self.l1[2].bias[2] = 1\n",
    "\n",
    "            # Also keep prev value around to subtract at the end\n",
    "            self.l1[0].weight[4, ch_out+2] = 1\n",
    "            self.l1[0].weight[5, ch_out+2] = -1\n",
    "            self.l1[2].weight[3, 4] = 1\n",
    "            self.l1[2].weight[3, 5] = -1\n",
    "\n",
    "            # Now get mult. of dReLU(z)/dz and dL/dn[0] which should be dL/dz and subtract prev. value\n",
    "            self.l2.weight[2, 7] = 1 # 7 is where dReLU(z)/dz * dL/dn[0] is located\n",
    "            self.l2.weight[2, 3] = -1\n",
    "\n",
    "        \n",
    "            \n",
    "\n",
    "\n",
    "    def forward(self, x):\n",
    "        out1 = self.l1(x)\n",
    "        # Gets multiplications of layers\n",
    "        x2 = torch.cat([out1, *[out1[..., i:i+1] * out1[..., j:j+1] for i in range(out1.shape[-1]) for j in range(i+1, out1.shape[-1])]], axis=-1)\n",
    "        print(x2)\n",
    "        return self.l2(x2)\n",
    "\n",
    "class Out_Dec(nn.Module):\n",
    "    def __init__(self, ch_out, ch_n, *args, **kwargs):\n",
    "        super().__init__()\n",
    "\n",
    "        self.main = nn.Linear(ch_n, ch_out)\n",
    "\n",
    "        with torch.no_grad():\n",
    "            self.main.weight.fill_(0)\n",
    "            self.main.bias.fill_(0)\n",
    "\n",
    "            # Output is just n[0]\n",
    "            self.main.weight[0, 0] = 1\n",
    "\n",
    "    def forward(self, x):\n",
    "        return self.main(x)\n",
    "\n",
    "\n",
    "class Message(nn.Module):\n",
    "    def __init__(self, ch_n, ch_e, *args, **kwargs):\n",
    "        super().__init__()\n",
    "\n",
    "        self.ch_n = ch_n\n",
    "        self.ch_e = ch_e\n",
    "\n",
    "        self.main = nn.Linear(3*ch_n + 3*ch_e, 2*ch_n + ch_e)\n",
    "\n",
    "        with torch.no_grad():\n",
    "            self.main.weight.fill_(0)\n",
    "            self.main.bias.fill_(0)\n",
    "\n",
    "            # f_m[0] is n_a[0] x e[0]\n",
    "            self.main.weight[ch_n, 3*ch_n+ch_e] = 1\n",
    "\n",
    "            # has label propagate backwards\n",
    "            self.main.weight[ch_n-1, 2*ch_n-1] = 1\n",
    "\n",
    "            # Given dL/dz_b we need to calc. dL/dn_a[0] (at least across this connection).  dz_b/dn_a[0] = w so do w * n_b[2]\n",
    "            self.main.weight[2, 3*ch_n+2*ch_e] = 1\n",
    "            \n",
    "    def forward(self, x):\n",
    "\n",
    "        n_a, n_b, e = torch.tensor_split(x, [self.ch_n, self.ch_n*2], -1)\n",
    "        new_x = torch.cat([n_a, n_b, e, n_a * n_b, n_a[..., :self.ch_e] * e, n_b[..., :self.ch_e] * e], axis=-1)\n",
    "\n",
    "        return self.main(new_x)\n",
    "    \n",
    "class Update(nn.Module):\n",
    "    def __init__(self, ch_n, *args, **kwargs):\n",
    "        super().__init__()\n",
    "\n",
    "        self.main = nn.Sequential(\n",
    "            nn.Linear(3*ch_n, 5),\n",
    "            nn.ReLU(),\n",
    "            nn.Linear(5, ch_n),\n",
    "        )\n",
    "\n",
    "        with torch.no_grad():\n",
    "            self.main[0].weight.fill_(0)\n",
    "            self.main[0].bias.fill_(0)\n",
    "            self.main[2].weight.fill_(0)\n",
    "            self.main[2].bias.fill_(0)\n",
    "\n",
    "            # Get aggregated f_m[0] and activate it plus bias\n",
    "            self.main[0].weight[0, ch_n] = 1\n",
    "            self.main[0].weight[0, 2*ch_n+1] = 1\n",
    "\n",
    "            # Keep the current value to subtract (+ and - version to get past ReLU)\n",
    "            self.main[0].weight[1, 2*ch_n] = 1\n",
    "            self.main[0].weight[2, 2*ch_n] = -1\n",
    "\n",
    "            # The update to n[0] is act - prev. n[0]\n",
    "            self.main[2].weight[0, 0] = 1\n",
    "            self.main[2].weight[0, 1] = -1 # These two combined recreate the prev. activation\n",
    "            self.main[2].weight[0, 2] = 1\n",
    "\n",
    "            # If aggregated haslabel > 1 set this has label to 1.  Do this with 1 - ReLU(1 - m_b[2]).  Subtract out prev. value\n",
    "            self.main[0].bias[3] = 1\n",
    "            self.main[0].weight[3, ch_n-1] = -1\n",
    "            self.main[0].weight[4, 3*ch_n-1] = 1 # Store prev val in node 4 (don't need the ReLU +/- trick since its always nonneg)\n",
    "\n",
    "            # Finalize update\n",
    "            self.main[2].bias[ch_n-1] = 1\n",
    "            self.main[2].weight[ch_n-1, 3] = -1\n",
    "            self.main[2].weight[ch_n-1, 4] = -1\n",
    "    \n",
    "    def forward(self, x):\n",
    "        return self.main(x)"
   ]
  },
  {
   "cell_type": "code",
   "execution_count": 289,
   "metadata": {},
   "outputs": [
    {
     "name": "stdout",
     "output_type": "stream",
     "text": [
      "816\n"
     ]
    }
   ],
   "source": [
    "# n[0] is act, n[1] is bias, n[2] is dact/dloss, n[3] is haslbl\n",
    "# e[0] is weight\n",
    "\n",
    "size = 7\n",
    "\n",
    "shape = [size**2, 16, 2]\n",
    "\n",
    "connections = [(i, j) for k in range(len(shape)-1) for i in range(sum(shape[:k]), sum(shape[:k+1])) for j in range(sum(shape[:k+1]), sum(shape[:k+2]))]\n",
    "print(len(connections))\n",
    "\n",
    "graph = NeuralGraph(sum(shape), shape[0], shape[-1], connections, ch_n=4, ch_e=1, clamp_mode=\"none\", value_init=\"zeros\", aggregation=\"sum\", use_label=True, device=\"cuda\",\n",
    "                     message_generator=Message, update_generator=Update, inp_int_generator=Inp_Enc, label_int_generator=Label_Enc, out_int_generator=Out_Dec)"
   ]
  },
  {
   "cell_type": "code",
   "execution_count": 290,
   "metadata": {},
   "outputs": [],
   "source": [
    "class MLP(nn.Module):\n",
    "    def __init__(self, shape):\n",
    "        super().__init__()\n",
    "\n",
    "        modules = []\n",
    "        for i in range(len(shape)-1):\n",
    "            modules.append(nn.Linear(shape[i], shape[i+1]))\n",
    "            modules.append(nn.ReLU())\n",
    "\n",
    "        self.main = nn.Sequential(*modules)\n",
    "    \n",
    "    def forward(self, x):\n",
    "        return self.main(x)"
   ]
  },
  {
   "cell_type": "code",
   "execution_count": 291,
   "metadata": {},
   "outputs": [],
   "source": [
    "copycat = MLP(shape).to(\"cuda\")\n",
    "\n",
    "edge_states = []\n",
    "bias_states = []\n",
    "\n",
    "for layer in copycat.main[::2]:\n",
    "    # split_bias = torch.repeat_interleave(layer.bias.clone().unsqueeze(-1), layer.weight.shape[1], axis=-1) / layer.weight.shape[1]\n",
    "    \n",
    "    edge_states.append(layer.weight.clone().T.reshape(-1, 1))\n",
    "    bias_states.append(layer.bias.clone())\n",
    "\n",
    "edge_states = torch.cat(edge_states, axis=0)\n",
    "bias_states = torch.cat([torch.zeros(shape[0]).to(\"cuda\"), *bias_states], axis=0)"
   ]
  },
  {
   "cell_type": "code",
   "execution_count": 292,
   "metadata": {},
   "outputs": [
    {
     "name": "stdout",
     "output_type": "stream",
     "text": [
      "torch.Size([816, 1]) torch.Size([67])\n"
     ]
    }
   ],
   "source": [
    "print(edge_states.shape, bias_states.shape)"
   ]
  },
  {
   "cell_type": "code",
   "execution_count": 293,
   "metadata": {},
   "outputs": [],
   "source": [
    "graph.edges = edge_states.clone().unsqueeze(0)\n",
    "graph.nodes[:, :, 1] = bias_states"
   ]
  },
  {
   "cell_type": "code",
   "execution_count": 294,
   "metadata": {},
   "outputs": [
    {
     "name": "stdout",
     "output_type": "stream",
     "text": [
      "tensor(0., device='cuda:0', grad_fn=<MeanBackward0>)\n",
      "tensor(0., device='cuda:0', grad_fn=<MeanBackward0>)\n"
     ]
    }
   ],
   "source": [
    "print((graph.edges - edge_states.clone().unsqueeze(0)).mean())\n",
    "print((graph.nodes[:, :, 1] - bias_states).mean())"
   ]
  },
  {
   "cell_type": "code",
   "execution_count": 295,
   "metadata": {},
   "outputs": [
    {
     "name": "stdout",
     "output_type": "stream",
     "text": [
      "tensor([[0.0529, 0.0000]], device='cuda:0', grad_fn=<ReluBackward0>)\n",
      "tensor([[0.0529, 0.0000]], device='cuda:0', grad_fn=<SqueezeBackward1>)\n"
     ]
    }
   ],
   "source": [
    "dummy_inp = torch.randn(1, 49).to(\"cuda\")\n",
    "dummy_label = torch.randn(1, 2).to(\"cuda\")\n",
    "\n",
    "print(copycat(dummy_inp))\n",
    "print(graph.forward(dummy_inp))"
   ]
  },
  {
   "cell_type": "code",
   "execution_count": 297,
   "metadata": {},
   "outputs": [
    {
     "name": "stdout",
     "output_type": "stream",
     "text": [
      "tensor([[0.0529, 0.0000]], device='cuda:0', grad_fn=<SqueezeBackward1>)\n",
      "tensor([[ 0.0000,  0.0000,  0.0000,  0.0000,  0.0000,  0.0000,  0.0000,  0.0000,\n",
      "          0.0000,  0.0000,  0.0000,  0.0000,  0.0000,  0.0000,  0.0000,  0.0000,\n",
      "          0.0000,  0.0000,  0.0000,  0.0000,  0.0000,  0.0000,  0.0000,  0.0000,\n",
      "          0.0000,  0.0000,  0.0000,  0.0000,  0.0000,  0.0000,  0.0000,  0.0000,\n",
      "          0.0000,  0.0000,  0.0000,  0.0000,  0.0000,  0.0000,  0.0000,  0.0000,\n",
      "          0.0000,  0.0000,  0.0000,  0.0000,  0.0000,  0.0000,  0.0000,  0.0000,\n",
      "          0.0000,  0.0000,  0.0000,  0.0000,  0.0000,  0.0000,  0.0000,  0.0000,\n",
      "          0.0000,  0.0000,  0.0000,  0.0000,  0.0000,  0.0000,  0.0000,  0.0000,\n",
      "          0.0000, -0.6252,  0.0000]], device='cuda:0',\n",
      "       grad_fn=<SelectBackward0>)\n",
      "tensor([[[ 1.0000, -0.6252,  1.0000, -0.6252, -0.6252,  1.0000, -0.6252,\n",
      "          -0.6252,  0.3909, -0.6252],\n",
      "         [ 1.0000,  1.1370,  0.0000,  0.0000,  1.1370,  0.0000,  0.0000,\n",
      "           0.0000,  0.0000,  0.0000]]], device='cuda:0',\n",
      "       grad_fn=<CatBackward0>)\n",
      "tensor([[ 0.0000,  0.0000,  0.0000,  0.0000,  0.0000,  0.0000,  0.0000,  0.0000,\n",
      "          0.0000,  0.0000,  0.0000,  0.0000,  0.0000,  0.0000,  0.0000,  0.0000,\n",
      "          0.0000,  0.0000,  0.0000,  0.0000,  0.0000,  0.0000,  0.0000,  0.0000,\n",
      "          0.0000,  0.0000,  0.0000,  0.0000,  0.0000,  0.0000,  0.0000,  0.0000,\n",
      "          0.0000,  0.0000,  0.0000,  0.0000,  0.0000,  0.0000,  0.0000,  0.0000,\n",
      "          0.0000,  0.0000,  0.0000,  0.0000,  0.0000,  0.0000,  0.0000,  0.0000,\n",
      "          0.0000,  0.0000,  0.0000,  0.0000,  0.0000,  0.0000,  0.0000,  0.0000,\n",
      "          0.0000,  0.0000,  0.0000,  0.0000,  0.0000,  0.0000,  0.0000,  0.0000,\n",
      "          0.0000, -0.6252,  0.0000]], device='cuda:0',\n",
      "       grad_fn=<SelectBackward0>)\n",
      "tensor([[[ 1.0000, -0.6252,  1.0000, -0.6252, -0.6252,  1.0000, -0.6252,\n",
      "          -0.6252,  0.3909, -0.6252],\n",
      "         [ 1.0000,  1.1370,  0.0000,  0.0000,  1.1370,  0.0000,  0.0000,\n",
      "           0.0000,  0.0000,  0.0000]]], device='cuda:0',\n",
      "       grad_fn=<CatBackward0>)\n",
      "tensor([[ 0.0000,  0.0000,  0.0000,  0.0000,  0.0000,  0.0000,  0.0000,  0.0000,\n",
      "          0.0000,  0.0000,  0.0000,  0.0000,  0.0000,  0.0000,  0.0000,  0.0000,\n",
      "          0.0000,  0.0000,  0.0000,  0.0000,  0.0000,  0.0000,  0.0000,  0.0000,\n",
      "          0.0000,  0.0000,  0.0000,  0.0000,  0.0000,  0.0000,  0.0000,  0.0000,\n",
      "          0.0000,  0.0000,  0.0000,  0.0000,  0.0000,  0.0000,  0.0000,  0.0000,\n",
      "          0.0000,  0.0000,  0.0000,  0.0000,  0.0000,  0.0000,  0.0000,  0.0000,\n",
      "          0.0000,  0.0000,  0.0000,  0.0000,  0.0000,  0.0000,  0.0000,  0.0000,\n",
      "          0.0000,  0.0000,  0.0000,  0.0000,  0.0000,  0.0000,  0.0000,  0.0000,\n",
      "          0.0000, -0.6252,  0.0000]], device='cuda:0',\n",
      "       grad_fn=<SelectBackward0>)\n",
      "tensor([[[ 1.0000, -0.6252,  1.0000, -0.6252, -0.6252,  1.0000, -0.6252,\n",
      "          -0.6252,  0.3909, -0.6252],\n",
      "         [ 1.0000,  1.1370,  0.0000,  0.0000,  1.1370,  0.0000,  0.0000,\n",
      "           0.0000,  0.0000,  0.0000]]], device='cuda:0',\n",
      "       grad_fn=<CatBackward0>)\n",
      "tensor([[ 0.0000,  0.0000,  0.0000,  0.0000,  0.0000,  0.0000,  0.0000,  0.0000,\n",
      "          0.0000,  0.0000,  0.0000,  0.0000,  0.0000,  0.0000,  0.0000,  0.0000,\n",
      "          0.0000,  0.0000,  0.0000,  0.0000,  0.0000,  0.0000,  0.0000,  0.0000,\n",
      "          0.0000,  0.0000,  0.0000,  0.0000,  0.0000,  0.0000,  0.0000,  0.0000,\n",
      "          0.0000,  0.0000,  0.0000,  0.0000,  0.0000,  0.0000,  0.0000,  0.0000,\n",
      "          0.0000,  0.0000,  0.0000,  0.0000,  0.0000,  0.0000,  0.0000,  0.0000,\n",
      "          0.0000,  0.0000,  0.0000,  0.0000,  0.0000,  0.0000,  0.0000,  0.0000,\n",
      "          0.0000,  0.0000,  0.0000,  0.0000,  0.0000,  0.0000,  0.0000,  0.0000,\n",
      "          0.0000, -0.6252,  0.0000]], device='cuda:0',\n",
      "       grad_fn=<SelectBackward0>)\n"
     ]
    }
   ],
   "source": [
    "graph.edges = edge_states.clone().unsqueeze(0)\n",
    "\n",
    "ch = 2\n",
    "\n",
    "# graph.init_vals(nodes=True, edges=False)\n",
    "# graph.nodes = torch.zeros_like(graph.nodes).to(\"cuda\")\n",
    "out = graph.forward(dummy_inp)\n",
    "\n",
    "print(out)\n",
    "\n",
    "print(graph.nodes[:, :, ch])\n",
    "graph.apply_vals(dummy_inp, dummy_label)\n",
    "print(graph.nodes[:, :, ch])\n",
    "graph.timestep()\n",
    "graph.apply_vals(dummy_inp, dummy_label)\n",
    "print(graph.nodes[:, :, ch])\n",
    "graph.timestep()\n",
    "graph.apply_vals(dummy_inp, dummy_label)\n",
    "print(graph.nodes[:, :, ch])"
   ]
  },
  {
   "cell_type": "code",
   "execution_count": 298,
   "metadata": {},
   "outputs": [
    {
     "name": "stdout",
     "output_type": "stream",
     "text": [
      "tensor([[0.0529, 0.0000]], device='cuda:0', grad_fn=<ReluBackward0>) tensor([[ 0.3655, -0.5685]], device='cuda:0') tensor(0.2105, device='cuda:0', grad_fn=<MeanBackward0>)\n",
      "tensor([[-0.6252,  1.1370]], device='cuda:0', grad_fn=<MulBackward0>)\n"
     ]
    }
   ],
   "source": [
    "out = copycat(dummy_inp)\n",
    "loss = torch.square(dummy_label - out).mean()\n",
    "\n",
    "print(out, dummy_label, loss)\n",
    "print(2 * (out - dummy_label))\n",
    "\n",
    "loss.backward()"
   ]
  },
  {
   "cell_type": "code",
   "execution_count": 145,
   "metadata": {},
   "outputs": [
    {
     "name": "stdout",
     "output_type": "stream",
     "text": [
      "tensor([[0.2154, 0.1931]], device='cuda:0', grad_fn=<SqueezeBackward1>)\n"
     ]
    }
   ],
   "source": [
    "print(graph.forward(dummy_inp))"
   ]
  },
  {
   "cell_type": "code",
   "execution_count": 83,
   "metadata": {},
   "outputs": [
    {
     "name": "stdout",
     "output_type": "stream",
     "text": [
      "tensor([[0.0000, 0.0000, 0.0000, 0.0000, 0.0000, 0.0000, 0.0000, 0.0000, 0.0000,\n",
      "         0.0000, 0.0000, 0.0000, 0.0000, 0.0000, 0.0000, 0.0000],\n",
      "        [0.0000, 0.4512, 0.0000, 0.0000, 0.0000, 0.8136, 0.0000, 0.7468, 1.4357,\n",
      "         1.5699, 0.0000, 0.0000, 0.0000, 0.1187, 0.1351, 0.0000]],\n",
      "       device='cuda:0')\n"
     ]
    }
   ],
   "source": [
    "# print(copycat.main[2].weight.grad)"
   ]
  },
  {
   "cell_type": "code",
   "execution_count": null,
   "metadata": {},
   "outputs": [],
   "source": []
  },
  {
   "cell_type": "code",
   "execution_count": 119,
   "metadata": {},
   "outputs": [
    {
     "data": {
      "text/plain": [
       "2.9374"
      ]
     },
     "execution_count": 119,
     "metadata": {},
     "output_type": "execute_result"
    }
   ],
   "source": [
    "2*(1.8658 - 0.3971)"
   ]
  },
  {
   "cell_type": "code",
   "execution_count": null,
   "metadata": {},
   "outputs": [],
   "source": []
  },
  {
   "cell_type": "markdown",
   "metadata": {},
   "source": [
    "## THIS SHIT SO HARD + TEDIOUS\n",
    "\n",
    "## MAYBE TRAINING WOULD BE EASIER??\n",
    "\n",
    "## LEMME WRITE THIS SHIT DOWN\n",
    "\n",
    "m_a, m_b, m_e = Message(n_a, n_b, e)\n",
    "\n",
    "u = Update(agg_m_a, agg_m_b, n)\n",
    "\n",
    "i = Inp_Enc(inp, n)\n",
    "\n",
    "l = Label_Enc(lbl, n)\n",
    "\n",
    "o = Output_Dec(n)\n",
    "\n",
    "\n",
    "# Forward Prop\n",
    "m_b[0] = n_a[0] * e[0]\n",
    "u[0] = ReLU(agg_m_b[0] + n[1]) - n[0]\n",
    "o[0] = n[0]\n",
    "i[0] = inp[0] - n[0]\n",
    "\n",
    "# Backward Prop\n",
    "\n",
    "# Haslbl\n",
    "l[3] = 1 - n[3]\n",
    "m_a[3] = n_b[3]\n",
    "u[3] = (1 if agg_m_a[3] > 0 else 0) - n[3]\n",
    "\n",
    "# Update dL/dz\n",
    "l[2] = 2 * (n[0] - lbl) * (0 if n[0] <= 0 else 1) - n[2]\n",
    "m_a[2] = e[0] * n_b[2]\n",
    "u[2] = agg_m_a[2] * (0 if n[0] <= 0 else 1) - n[2]\n",
    "\n",
    "# Update e on leading edge\n",
    "m_e[0] = -lr*n_a[0] * n_b[2] * (1-n_a[3]) * n_b[3]\n",
    "\n",
    "# Update b on leading edge (message just says if you are on leading edge)\n",
    "m_b[1] = (1-n_a[3]) * n_b[3]\n",
    "u[1] = (-lr*n_b[2] if agg_m_b[1] > 0 else 0)"
   ]
  },
  {
   "cell_type": "code",
   "execution_count": 425,
   "metadata": {},
   "outputs": [],
   "source": [
    "class MLP(nn.Module):\n",
    "    def __init__(self, inp, out, n_layers=1):\n",
    "        super().__init__()\n",
    "        self.inp = inp\n",
    "        self.out = out\n",
    "\n",
    "        if n_layers == 1:\n",
    "            self.main = nn.Sequential(nn.Linear(inp, out))\n",
    "\n",
    "        else:\n",
    "            layers = [nn.Linear(inp, 64), nn.ReLU()]\n",
    "            for _ in range(n_layers-2):\n",
    "                layers.append(nn.Linear(64, 64))\n",
    "                layers.append(nn.ReLU())\n",
    "\n",
    "            layers.append(nn.Linear(64, out))\n",
    "\n",
    "            self.main = nn.Sequential(\n",
    "                *layers\n",
    "            )\n",
    "\n",
    "    def forward(self, x):\n",
    "        return self.main(x)\n",
    "    \n",
    "class MultMLP(nn.Module):\n",
    "    def __init__(self, inp, out, n_layers=1, degs=2):\n",
    "        super().__init__()\n",
    "        self.inp, self.degs = inp, degs\n",
    "        self.out = out\n",
    "\n",
    "        real_inp = sum(np.math.comb(inp, i) for i in range(1, degs+1))\n",
    "        \n",
    "        if n_layers == 1:\n",
    "            self.main = nn.Sequential(nn.Linear(real_inp, out))\n",
    "\n",
    "        else:\n",
    "            layers = [nn.Linear(real_inp, 64), nn.ReLU()]\n",
    "            for _ in range(n_layers-2):\n",
    "                layers.append(nn.Linear(64, 64))\n",
    "                layers.append(nn.ReLU())\n",
    "\n",
    "            layers.append(nn.Linear(64, out))\n",
    "\n",
    "            self.main = nn.Sequential(\n",
    "                *layers\n",
    "            )\n",
    "\n",
    "    def forward(self, x):\n",
    "        # Cant figure out how to do this generally\n",
    "        if self.degs == 2:\n",
    "            real_x = torch.cat([\n",
    "                x, \n",
    "                *[x[..., i:i+1] * x[..., j:j+1] for i in range(x.shape[-1]) for j in range(i+1, x.shape[-1])]], axis=-1)\n",
    "        elif self.degs == 4:\n",
    "            real_x = torch.cat([\n",
    "                x,\n",
    "                *[x[..., i:i+1] * x[..., j:j+1] for i in range(x.shape[-1]) for j in range(i+1, x.shape[-1])],\n",
    "                *[x[..., i:i+1] * x[..., j:j+1] * x[..., k:k+1] for i in range(x.shape[-1]) for j in range(i+1, x.shape[-1]) for k in range(j+1, x.shape[-1])],\n",
    "                *[x[..., i:i+1] * x[..., j:j+1] * x[..., k:k+1] * x[..., l:l+1] for i in range(x.shape[-1]) for j in range(i+1, x.shape[-1]) for k in range(j+1, x.shape[-1]) for l in range(k+1, x.shape[-1])],\n",
    "                ], axis=-1)\n",
    "\n",
    "        # print(real_x.shape)\n",
    "\n",
    "        return self.main(real_x)"
   ]
  },
  {
   "cell_type": "code",
   "execution_count": 426,
   "metadata": {},
   "outputs": [],
   "source": [
    "# [x[..., i] * x[..., j] for i in range(len(x)) for j in range(i+1, len(x))]\n",
    "# for deg in range(degs):"
   ]
  },
  {
   "cell_type": "markdown",
   "metadata": {},
   "source": [
    "### THESE DESIRED FUNCTIONS HAVE BEEN CONFIRMED TO REPLICATE GRAD DESC."
   ]
  },
  {
   "cell_type": "code",
   "execution_count": 708,
   "metadata": {},
   "outputs": [],
   "source": [
    "# Ordered shit\n",
    "\n",
    "# o[0] = n[0]\n",
    "\n",
    "# i[0] = inp[0] - n[0]\n",
    "\n",
    "# l[2] = 2 * (n[0] - lbl) * (0 if n[0] <= 0 else 1) - n[2]\n",
    "# l[3] = 1 - n[3]\n",
    "\n",
    "# m_a[2] = e[0] * n_b[2]\n",
    "# m_a[3] = n_b[3]\n",
    "# m_b[0] = n_a[0] * e[0]\n",
    "# m_b[1] = (1-n_a[3]) * n_b[3]\n",
    "# m_e[0] = -lr * n_a[0] * n_b[2] * (1-n_a[3]) * n_b[3]\n",
    "\n",
    "# u[0] = ReLU(agg_m_b[0] + n[1]) - n[0]\n",
    "# u[1] = (-lr*n[2] if agg_m_b[1] > 0 else 0)\n",
    "# u[2] = agg_m_a[2] * (0 if n[0] <= 0 else 1) - n[2]\n",
    "# u[3] = (1 if agg_m_a[3] > 0 else 0) - n[3]\n",
    "\n",
    "lr=.01\n",
    "ch_n = 4\n",
    "ch_e = 1\n",
    "\n",
    "def desired_inp(x):\n",
    "    i = torch.zeros(*x.shape[:-1], ch_n).to(\"cuda\")\n",
    "    i[..., 0] = x[..., 0] - x[..., 1]\n",
    "    return i\n",
    "\n",
    "def desired_out(x):\n",
    "    return x[..., :1]\n",
    "\n",
    "def desired_lbl(x):\n",
    "    lbl, n = torch.tensor_split(x, [1], -1)\n",
    "    l = torch.zeros(*x.shape[:-1], ch_n).to(\"cuda\")\n",
    "    l[..., 2] = (n[..., 0] - lbl[..., 0]) * torch.where(n[..., 0] <= 0, 0, 1) - n[..., 2]\n",
    "    l[..., 3] = 1 - n[..., 3]\n",
    "    return l\n",
    "\n",
    "def desired_message(x):\n",
    "    n_a, n_b, e = torch.tensor_split(x, [ch_n, ch_n*2], -1)\n",
    "    m_a, m_b, m_e = torch.zeros(*x.shape[:-1], ch_n).to(\"cuda\"), torch.zeros(*x.shape[:-1], ch_n).to(\"cuda\"), torch.zeros(*x.shape[:-1], ch_e).to(\"cuda\")\n",
    "\n",
    "    m_a[..., 2] = e[..., 0] * n_b[..., 2]\n",
    "    m_a[..., 3] = n_b[..., 3]\n",
    "    m_b[..., 0] = n_a[..., 0] * e[..., 0]\n",
    "    m_b[..., 1] = (1-n_a[..., 3]) * n_b[..., 3]\n",
    "    m_e[..., 0] = -lr * n_a[..., 0] * n_b[..., 2] * (1-n_a[..., 3]) * n_b[..., 3] # Could I do this in 2 timesteps w/ two additional channels????\n",
    "\n",
    "    # print(m_a.shape, m_b.shape, m_e.shape)\n",
    "\n",
    "    return torch.cat([m_a, m_b, m_e], axis=-1)\n",
    "\n",
    "def ReLU(x):\n",
    "    return torch.where(x > 0, x, 0)\n",
    "\n",
    "def desired_update(x):\n",
    "    agg_m_a, agg_m_b, n = torch.tensor_split(x, [ch_n, ch_n*2], -1)\n",
    "    u = torch.zeros(*x.shape[:-1], ch_n).to(\"cuda\")\n",
    "\n",
    "    u[..., 0] = ReLU(agg_m_b[..., 0] + n[..., 1]) - n[..., 0]\n",
    "    u[..., 1] = torch.where(agg_m_b[..., 1] > 0, -lr*n[..., 2], 0)\n",
    "    u[..., 2] = agg_m_a[..., 2] * torch.where(n[..., 0] <= 0, 0, 1) - n[..., 2]\n",
    "    u[..., 3] = torch.where(agg_m_a[..., 3] > 0, 1, 0) - n[..., 3]\n",
    "\n",
    "    return u"
   ]
  },
  {
   "cell_type": "code",
   "execution_count": 709,
   "metadata": {},
   "outputs": [],
   "source": [
    "inp_enc = MLP(1+ch_n, ch_n).to(\"cuda\")\n",
    "out_enc = MLP(ch_n, 1).to(\"cuda\")\n",
    "label_enc = MultMLP(1+ch_n, ch_n, n_layers=2, degs=2).to(\"cuda\")\n",
    "message = MultMLP(2*ch_n+ch_e, 2*ch_n+ch_e, n_layers=2, degs=2).to(\"cuda\")\n",
    "update = MultMLP(3*ch_n, ch_n, n_layers=2, degs=2).to(\"cuda\")\n",
    "\n",
    "models = [\n",
    "    inp_enc,\n",
    "    out_enc,\n",
    "    label_enc,\n",
    "    message,\n",
    "    update,\n",
    "]\n",
    "\n",
    "desired = [\n",
    "    desired_inp,\n",
    "    desired_out,\n",
    "    desired_lbl,\n",
    "    desired_message,\n",
    "    desired_update,\n",
    "]\n",
    "\n",
    "names = [\n",
    "    \"Input\",\n",
    "    \"Output\",\n",
    "    \"Label\",\n",
    "    \"Message\",\n",
    "    \"Update\",\n",
    "]\n",
    "\n",
    "criterion = nn.MSELoss()\n",
    "optimizers = [torch.optim.Adam(model.parameters(), lr=1e-2) for model in models]\n",
    "logs = [[] for _ in range(len(models))]"
   ]
  },
  {
   "cell_type": "code",
   "execution_count": 710,
   "metadata": {},
   "outputs": [
    {
     "name": "stdout",
     "output_type": "stream",
     "text": [
      "Input\n"
     ]
    },
    {
     "name": "stderr",
     "output_type": "stream",
     "text": [
      "100%|██████████| 1000/1000 [00:02<00:00, 347.19it/s, loss=1.97e-13]\n"
     ]
    },
    {
     "name": "stdout",
     "output_type": "stream",
     "text": [
      "Output\n"
     ]
    },
    {
     "name": "stderr",
     "output_type": "stream",
     "text": [
      "  2%|▏         | 23/1000 [00:00<00:02, 333.26it/s, loss=6.71]\n"
     ]
    },
    {
     "ename": "KeyboardInterrupt",
     "evalue": "",
     "output_type": "error",
     "traceback": [
      "\u001b[1;31m---------------------------------------------------------------------------\u001b[0m",
      "\u001b[1;31mKeyboardInterrupt\u001b[0m                         Traceback (most recent call last)",
      "\u001b[1;32mc:\\Users\\bunna\\Documents\\GitHub\\NeuralGraphPaper\\backprop_mimic.ipynb Cell 24\u001b[0m line \u001b[0;36m2\n\u001b[0;32m     <a href='vscode-notebook-cell:/c%3A/Users/bunna/Documents/GitHub/NeuralGraphPaper/backprop_mimic.ipynb#X34sZmlsZQ%3D%3D?line=19'>20</a>\u001b[0m loss\u001b[39m.\u001b[39mbackward()\n\u001b[0;32m     <a href='vscode-notebook-cell:/c%3A/Users/bunna/Documents/GitHub/NeuralGraphPaper/backprop_mimic.ipynb#X34sZmlsZQ%3D%3D?line=21'>22</a>\u001b[0m opt\u001b[39m.\u001b[39mstep()\n\u001b[1;32m---> <a href='vscode-notebook-cell:/c%3A/Users/bunna/Documents/GitHub/NeuralGraphPaper/backprop_mimic.ipynb#X34sZmlsZQ%3D%3D?line=23'>24</a>\u001b[0m bar\u001b[39m.\u001b[39;49mset_postfix({\u001b[39m\"\u001b[39;49m\u001b[39mloss\u001b[39;49m\u001b[39m\"\u001b[39;49m:loss\u001b[39m.\u001b[39;49mitem()})\n\u001b[0;32m     <a href='vscode-notebook-cell:/c%3A/Users/bunna/Documents/GitHub/NeuralGraphPaper/backprop_mimic.ipynb#X34sZmlsZQ%3D%3D?line=24'>25</a>\u001b[0m log\u001b[39m.\u001b[39mappend(loss\u001b[39m.\u001b[39mitem())\n",
      "File \u001b[1;32mc:\\Users\\bunna\\AppData\\Local\\Programs\\Python\\Python39\\lib\\site-packages\\tqdm\\std.py:1445\u001b[0m, in \u001b[0;36mtqdm.set_postfix\u001b[1;34m(self, ordered_dict, refresh, **kwargs)\u001b[0m\n\u001b[0;32m   1442\u001b[0m \u001b[39mself\u001b[39m\u001b[39m.\u001b[39mpostfix \u001b[39m=\u001b[39m \u001b[39m'\u001b[39m\u001b[39m, \u001b[39m\u001b[39m'\u001b[39m\u001b[39m.\u001b[39mjoin(key \u001b[39m+\u001b[39m \u001b[39m'\u001b[39m\u001b[39m=\u001b[39m\u001b[39m'\u001b[39m \u001b[39m+\u001b[39m postfix[key]\u001b[39m.\u001b[39mstrip()\n\u001b[0;32m   1443\u001b[0m                          \u001b[39mfor\u001b[39;00m key \u001b[39min\u001b[39;00m postfix\u001b[39m.\u001b[39mkeys())\n\u001b[0;32m   1444\u001b[0m \u001b[39mif\u001b[39;00m refresh:\n\u001b[1;32m-> 1445\u001b[0m     \u001b[39mself\u001b[39;49m\u001b[39m.\u001b[39;49mrefresh()\n",
      "File \u001b[1;32mc:\\Users\\bunna\\AppData\\Local\\Programs\\Python\\Python39\\lib\\site-packages\\tqdm\\std.py:1361\u001b[0m, in \u001b[0;36mtqdm.refresh\u001b[1;34m(self, nolock, lock_args)\u001b[0m\n\u001b[0;32m   1359\u001b[0m     \u001b[39melse\u001b[39;00m:\n\u001b[0;32m   1360\u001b[0m         \u001b[39mself\u001b[39m\u001b[39m.\u001b[39m_lock\u001b[39m.\u001b[39macquire()\n\u001b[1;32m-> 1361\u001b[0m \u001b[39mself\u001b[39;49m\u001b[39m.\u001b[39;49mdisplay()\n\u001b[0;32m   1362\u001b[0m \u001b[39mif\u001b[39;00m \u001b[39mnot\u001b[39;00m nolock:\n\u001b[0;32m   1363\u001b[0m     \u001b[39mself\u001b[39m\u001b[39m.\u001b[39m_lock\u001b[39m.\u001b[39mrelease()\n",
      "File \u001b[1;32mc:\\Users\\bunna\\AppData\\Local\\Programs\\Python\\Python39\\lib\\site-packages\\tqdm\\std.py:1509\u001b[0m, in \u001b[0;36mtqdm.display\u001b[1;34m(self, msg, pos)\u001b[0m\n\u001b[0;32m   1507\u001b[0m \u001b[39mif\u001b[39;00m pos:\n\u001b[0;32m   1508\u001b[0m     \u001b[39mself\u001b[39m\u001b[39m.\u001b[39mmoveto(pos)\n\u001b[1;32m-> 1509\u001b[0m \u001b[39mself\u001b[39;49m\u001b[39m.\u001b[39;49msp(\u001b[39mself\u001b[39;49m\u001b[39m.\u001b[39;49m\u001b[39m__str__\u001b[39;49m() \u001b[39mif\u001b[39;49;00m msg \u001b[39mis\u001b[39;49;00m \u001b[39mNone\u001b[39;49;00m \u001b[39melse\u001b[39;49;00m msg)\n\u001b[0;32m   1510\u001b[0m \u001b[39mif\u001b[39;00m pos:\n\u001b[0;32m   1511\u001b[0m     \u001b[39mself\u001b[39m\u001b[39m.\u001b[39mmoveto(\u001b[39m-\u001b[39mpos)\n",
      "File \u001b[1;32mc:\\Users\\bunna\\AppData\\Local\\Programs\\Python\\Python39\\lib\\site-packages\\tqdm\\std.py:350\u001b[0m, in \u001b[0;36mtqdm.status_printer.<locals>.print_status\u001b[1;34m(s)\u001b[0m\n\u001b[0;32m    348\u001b[0m \u001b[39mdef\u001b[39;00m \u001b[39mprint_status\u001b[39m(s):\n\u001b[0;32m    349\u001b[0m     len_s \u001b[39m=\u001b[39m disp_len(s)\n\u001b[1;32m--> 350\u001b[0m     fp_write(\u001b[39m'\u001b[39;49m\u001b[39m\\r\u001b[39;49;00m\u001b[39m'\u001b[39;49m \u001b[39m+\u001b[39;49m s \u001b[39m+\u001b[39;49m (\u001b[39m'\u001b[39;49m\u001b[39m \u001b[39;49m\u001b[39m'\u001b[39;49m \u001b[39m*\u001b[39;49m \u001b[39mmax\u001b[39;49m(last_len[\u001b[39m0\u001b[39;49m] \u001b[39m-\u001b[39;49m len_s, \u001b[39m0\u001b[39;49m)))\n\u001b[0;32m    351\u001b[0m     last_len[\u001b[39m0\u001b[39m] \u001b[39m=\u001b[39m len_s\n",
      "File \u001b[1;32mc:\\Users\\bunna\\AppData\\Local\\Programs\\Python\\Python39\\lib\\site-packages\\tqdm\\std.py:344\u001b[0m, in \u001b[0;36mtqdm.status_printer.<locals>.fp_write\u001b[1;34m(s)\u001b[0m\n\u001b[0;32m    342\u001b[0m \u001b[39mdef\u001b[39;00m \u001b[39mfp_write\u001b[39m(s):\n\u001b[0;32m    343\u001b[0m     fp\u001b[39m.\u001b[39mwrite(_unicode(s))\n\u001b[1;32m--> 344\u001b[0m     fp_flush()\n",
      "File \u001b[1;32mc:\\Users\\bunna\\AppData\\Local\\Programs\\Python\\Python39\\lib\\site-packages\\tqdm\\utils.py:145\u001b[0m, in \u001b[0;36mDisableOnWriteError.disable_on_exception.<locals>.inner\u001b[1;34m(*args, **kwargs)\u001b[0m\n\u001b[0;32m    143\u001b[0m \u001b[39mdef\u001b[39;00m \u001b[39minner\u001b[39m(\u001b[39m*\u001b[39margs, \u001b[39m*\u001b[39m\u001b[39m*\u001b[39mkwargs):\n\u001b[0;32m    144\u001b[0m     \u001b[39mtry\u001b[39;00m:\n\u001b[1;32m--> 145\u001b[0m         \u001b[39mreturn\u001b[39;00m func(\u001b[39m*\u001b[39margs, \u001b[39m*\u001b[39m\u001b[39m*\u001b[39mkwargs)\n\u001b[0;32m    146\u001b[0m     \u001b[39mexcept\u001b[39;00m \u001b[39mOSError\u001b[39;00m \u001b[39mas\u001b[39;00m e:\n\u001b[0;32m    147\u001b[0m         \u001b[39mif\u001b[39;00m e\u001b[39m.\u001b[39merrno \u001b[39m!=\u001b[39m \u001b[39m5\u001b[39m:\n",
      "File \u001b[1;32m~\\AppData\\Roaming\\Python\\Python39\\site-packages\\ipykernel\\iostream.py:562\u001b[0m, in \u001b[0;36mOutStream.flush\u001b[1;34m(self)\u001b[0m\n\u001b[0;32m    560\u001b[0m     \u001b[39mself\u001b[39m\u001b[39m.\u001b[39mpub_thread\u001b[39m.\u001b[39mschedule(evt\u001b[39m.\u001b[39mset)\n\u001b[0;32m    561\u001b[0m     \u001b[39m# and give a timeout to avoid\u001b[39;00m\n\u001b[1;32m--> 562\u001b[0m     \u001b[39mif\u001b[39;00m \u001b[39mnot\u001b[39;00m evt\u001b[39m.\u001b[39;49mwait(\u001b[39mself\u001b[39;49m\u001b[39m.\u001b[39;49mflush_timeout):\n\u001b[0;32m    563\u001b[0m         \u001b[39m# write directly to __stderr__ instead of warning because\u001b[39;00m\n\u001b[0;32m    564\u001b[0m         \u001b[39m# if this is happening sys.stderr may be the problem.\u001b[39;00m\n\u001b[0;32m    565\u001b[0m         \u001b[39mprint\u001b[39m(\u001b[39m\"\u001b[39m\u001b[39mIOStream.flush timed out\u001b[39m\u001b[39m\"\u001b[39m, file\u001b[39m=\u001b[39msys\u001b[39m.\u001b[39m__stderr__)\n\u001b[0;32m    566\u001b[0m \u001b[39melse\u001b[39;00m:\n",
      "File \u001b[1;32mc:\\Users\\bunna\\AppData\\Local\\Programs\\Python\\Python39\\lib\\threading.py:574\u001b[0m, in \u001b[0;36mEvent.wait\u001b[1;34m(self, timeout)\u001b[0m\n\u001b[0;32m    572\u001b[0m signaled \u001b[39m=\u001b[39m \u001b[39mself\u001b[39m\u001b[39m.\u001b[39m_flag\n\u001b[0;32m    573\u001b[0m \u001b[39mif\u001b[39;00m \u001b[39mnot\u001b[39;00m signaled:\n\u001b[1;32m--> 574\u001b[0m     signaled \u001b[39m=\u001b[39m \u001b[39mself\u001b[39;49m\u001b[39m.\u001b[39;49m_cond\u001b[39m.\u001b[39;49mwait(timeout)\n\u001b[0;32m    575\u001b[0m \u001b[39mreturn\u001b[39;00m signaled\n",
      "File \u001b[1;32mc:\\Users\\bunna\\AppData\\Local\\Programs\\Python\\Python39\\lib\\threading.py:316\u001b[0m, in \u001b[0;36mCondition.wait\u001b[1;34m(self, timeout)\u001b[0m\n\u001b[0;32m    314\u001b[0m \u001b[39melse\u001b[39;00m:\n\u001b[0;32m    315\u001b[0m     \u001b[39mif\u001b[39;00m timeout \u001b[39m>\u001b[39m \u001b[39m0\u001b[39m:\n\u001b[1;32m--> 316\u001b[0m         gotit \u001b[39m=\u001b[39m waiter\u001b[39m.\u001b[39;49macquire(\u001b[39mTrue\u001b[39;49;00m, timeout)\n\u001b[0;32m    317\u001b[0m     \u001b[39melse\u001b[39;00m:\n\u001b[0;32m    318\u001b[0m         gotit \u001b[39m=\u001b[39m waiter\u001b[39m.\u001b[39macquire(\u001b[39mFalse\u001b[39;00m)\n",
      "\u001b[1;31mKeyboardInterrupt\u001b[0m: "
     ]
    }
   ],
   "source": [
    "batch_size = 64\n",
    "\n",
    "steps = 1_000\n",
    "\n",
    "\n",
    "for model, name, func, opt, log in zip(models, names, desired, optimizers, logs):\n",
    "    print(name)\n",
    "    n_inp = model.inp\n",
    "    n_outs = model.out\n",
    "\n",
    "    bar = tqdm(range(steps))\n",
    "    for step in bar:\n",
    "        opt.zero_grad()\n",
    "        inps = torch.Tensor(np.random.normal(0, 3, size=(batch_size, n_inp))).to(\"cuda\")\n",
    "\n",
    "        y_true = func(inps)\n",
    "        y_pred = model(inps)\n",
    "        loss = criterion(y_pred, y_true)\n",
    "\n",
    "        loss.backward()\n",
    "\n",
    "        opt.step()\n",
    "\n",
    "        bar.set_postfix({\"loss\":loss.item()})\n",
    "        log.append(loss.item())"
   ]
  },
  {
   "cell_type": "markdown",
   "metadata": {},
   "source": [
    "## Manually stepping down LR lol"
   ]
  },
  {
   "cell_type": "code",
   "execution_count": null,
   "metadata": {},
   "outputs": [
    {
     "name": "stdout",
     "output_type": "stream",
     "text": [
      "Input\n"
     ]
    },
    {
     "name": "stderr",
     "output_type": "stream",
     "text": [
      "100%|██████████| 1000/1000 [00:03<00:00, 320.25it/s, loss=1.55e-6]\n"
     ]
    },
    {
     "name": "stdout",
     "output_type": "stream",
     "text": [
      "Output\n"
     ]
    },
    {
     "name": "stderr",
     "output_type": "stream",
     "text": [
      "100%|██████████| 1000/1000 [00:02<00:00, 348.31it/s, loss=0]      \n"
     ]
    },
    {
     "name": "stdout",
     "output_type": "stream",
     "text": [
      "Label\n"
     ]
    },
    {
     "name": "stderr",
     "output_type": "stream",
     "text": [
      "100%|██████████| 1000/1000 [00:03<00:00, 265.12it/s, loss=6.48e-6]\n"
     ]
    },
    {
     "name": "stdout",
     "output_type": "stream",
     "text": [
      "Message\n"
     ]
    },
    {
     "name": "stderr",
     "output_type": "stream",
     "text": [
      "100%|██████████| 1000/1000 [00:04<00:00, 207.25it/s, loss=0.000523]\n"
     ]
    },
    {
     "name": "stdout",
     "output_type": "stream",
     "text": [
      "Update\n"
     ]
    },
    {
     "name": "stderr",
     "output_type": "stream",
     "text": [
      "100%|██████████| 1000/1000 [00:05<00:00, 172.30it/s, loss=0.0121]\n"
     ]
    }
   ],
   "source": [
    "optimizers = [torch.optim.Adam(model.parameters(), lr=1e-3) for model in models]\n",
    "for model, name, func, opt, log in zip(models, names, desired, optimizers, logs):\n",
    "    print(name)\n",
    "    n_inp = model.inp\n",
    "    n_outs = model.out\n",
    "\n",
    "    bar = tqdm(range(steps))\n",
    "    for step in bar:\n",
    "        opt.zero_grad()\n",
    "        inps = torch.Tensor(np.random.uniform(-5, 5, size=(batch_size, n_inp))).to(\"cuda\")\n",
    "\n",
    "        y_true = func(inps)\n",
    "        y_pred = model(inps)\n",
    "        loss = criterion(y_pred, y_true)\n",
    "\n",
    "        loss.backward()\n",
    "\n",
    "        opt.step()\n",
    "\n",
    "        bar.set_postfix({\"loss\":loss.item()})\n",
    "        log.append(loss.item())"
   ]
  },
  {
   "cell_type": "code",
   "execution_count": null,
   "metadata": {},
   "outputs": [
    {
     "data": {
      "image/png": "[encoded data removed]",
      "text/plain": [
       "<Figure size 640x480 with 1 Axes>"
      ]
     },
     "metadata": {},
     "output_type": "display_data"
    },
    {
     "data": {
      "image/png": "[encoded data removed]",
      "text/plain": [
       "<Figure size 640x480 with 1 Axes>"
      ]
     },
     "metadata": {},
     "output_type": "display_data"
    },
    {
     "data": {
      "image/png": "[encoded data removed]",
      "text/plain": [
       "<Figure size 640x480 with 1 Axes>"
      ]
     },
     "metadata": {},
     "output_type": "display_data"
    },
    {
     "data": {
      "image/png": "[encoded data removed]",
      "text/plain": [
       "<Figure size 640x480 with 1 Axes>"
      ]
     },
     "metadata": {},
     "output_type": "display_data"
    },
    {
     "data": {
      "image/png": "[encoded data removed]",
      "text/plain": [
       "<Figure size 640x480 with 1 Axes>"
      ]
     },
     "metadata": {},
     "output_type": "display_data"
    }
   ],
   "source": [
    "for log in logs:\n",
    "    plt.plot(log)\n",
    "    plt.show()"
   ]
  },
  {
   "cell_type": "code",
   "execution_count": null,
   "metadata": {},
   "outputs": [],
   "source": []
  },
  {
   "cell_type": "code",
   "execution_count": 711,
   "metadata": {},
   "outputs": [],
   "source": [
    "class Hard_Func(nn.Module):\n",
    "    def __init__(self, func):\n",
    "        super().__init__()\n",
    "        self.func = func\n",
    "    def forward(self, x):\n",
    "        return self.func(x)"
   ]
  },
  {
   "cell_type": "code",
   "execution_count": 712,
   "metadata": {},
   "outputs": [
    {
     "name": "stdout",
     "output_type": "stream",
     "text": [
      "816\n"
     ]
    }
   ],
   "source": [
    "size = 7\n",
    "\n",
    "shape = [size**2, 16, 2]\n",
    "\n",
    "connections = [(i, j) for k in range(len(shape)-1) for i in range(sum(shape[:k]), sum(shape[:k+1])) for j in range(sum(shape[:k+1]), sum(shape[:k+2]))]\n",
    "print(len(connections))\n",
    "\n",
    "graph = NeuralGraph(sum(shape), shape[0], shape[-1], connections, ch_n=4, ch_e=1, clamp_mode=\"none\", value_init=\"zeros\", aggregation=\"sum\", use_label=True, device=\"cuda\")\n",
    "\n",
    "graph.inp_int = Hard_Func(desired_inp)# inp_enc.to(\"cuda\")\n",
    "graph.out_int = Hard_Func(desired_out)# out_enc.to(\"cuda\")\n",
    "graph.label_int = Hard_Func(desired_lbl)# label_enc.to(\"cuda\")\n",
    "graph.messages = nn.ModuleList([Hard_Func(desired_message)])# nn.ModuleList([message.to(\"cuda\")])\n",
    "graph.updates = nn.ModuleList([Hard_Func(desired_update)])# nn.ModuleList([update.to(\"cuda\")])"
   ]
  },
  {
   "cell_type": "code",
   "execution_count": 713,
   "metadata": {},
   "outputs": [],
   "source": [
    "class Test_MLP(nn.Module):\n",
    "    def __init__(self, shape):\n",
    "        super().__init__()\n",
    "\n",
    "        modules = []\n",
    "        for i in range(len(shape)-1):\n",
    "            modules.append(nn.Linear(shape[i], shape[i+1]))\n",
    "            modules.append(nn.ReLU())\n",
    "\n",
    "        self.main = nn.Sequential(*modules)\n",
    "    \n",
    "    def forward(self, x):\n",
    "        return self.main(x)"
   ]
  },
  {
   "cell_type": "code",
   "execution_count": 714,
   "metadata": {},
   "outputs": [],
   "source": [
    "copycat = Test_MLP(shape).to(\"cuda\")\n",
    "\n",
    "edge_states = []\n",
    "bias_states = []\n",
    "\n",
    "for layer in copycat.main[::2]:\n",
    "    # split_bias = torch.repeat_interleave(layer.bias.clone().unsqueeze(-1), layer.weight.shape[1], axis=-1) / layer.weight.shape[1]\n",
    "    \n",
    "    edge_states.append(layer.weight.clone().T.reshape(-1, 1))\n",
    "    bias_states.append(layer.bias.clone())\n",
    "\n",
    "edge_states = torch.cat(edge_states, axis=0)\n",
    "bias_states = torch.cat([torch.zeros(shape[0]).to(\"cuda\"), *bias_states], axis=0)"
   ]
  },
  {
   "cell_type": "code",
   "execution_count": 715,
   "metadata": {},
   "outputs": [],
   "source": [
    "def init_vals(batch_size=1):\n",
    "    graph.init_vals(batch_size=batch_size)\n",
    "    graph.edges = edge_states.clone().unsqueeze(0)\n",
    "    graph.nodes[:, :, 1] = bias_states\n",
    "\n",
    "init_vals()"
   ]
  },
  {
   "cell_type": "code",
   "execution_count": 739,
   "metadata": {},
   "outputs": [
    {
     "name": "stdout",
     "output_type": "stream",
     "text": [
      "tensor([[0.0430, 0.0000]], device='cuda:0', grad_fn=<ReluBackward0>)\n",
      "tensor([[0.0430, 0.0000]], device='cuda:0', grad_fn=<SqueezeBackward1>)\n"
     ]
    }
   ],
   "source": [
    "init_vals()\n",
    "\n",
    "dummy_inp = torch.randn(1, 49).to(\"cuda\")\n",
    "dummy_label = torch.randn(1, 2).to(\"cuda\")\n",
    "\n",
    "print(copycat(dummy_inp))\n",
    "print(graph.forward(dummy_inp))"
   ]
  },
  {
   "cell_type": "code",
   "execution_count": 740,
   "metadata": {},
   "outputs": [
    {
     "name": "stdout",
     "output_type": "stream",
     "text": [
      "tensor([[0.0430, 0.0000]], device='cuda:0', grad_fn=<ReluBackward0>) tensor([[ 0.1167, -0.6039]], device='cuda:0') tensor(0.1850, device='cuda:0', grad_fn=<MeanBackward0>)\n",
      "tensor([[-0.1473,  1.2077]], device='cuda:0', grad_fn=<MulBackward0>)\n",
      "tensor([-0.0315,  0.0000, -0.0324,  0.0000, -0.0232,  0.0000, -0.0000,  0.0000,\n",
      "        -0.0000,  0.0000, -0.0000,  0.0000, -0.0025,  0.0000, -0.0541,  0.0000,\n",
      "        -0.0388,  0.0000, -0.0000,  0.0000, -0.0473,  0.0000, -0.0000,  0.0000,\n",
      "        -0.0000,  0.0000, -0.0000,  0.0000, -0.0041,  0.0000, -0.0000,  0.0000],\n",
      "       device='cuda:0')\n"
     ]
    }
   ],
   "source": [
    "copycat.zero_grad()\n",
    "\n",
    "out = copycat(dummy_inp)\n",
    "loss = torch.square(dummy_label - out).mean()\n",
    "\n",
    "print(out, dummy_label, loss)\n",
    "print(2 * (out - dummy_label))\n",
    "\n",
    "loss.backward()\n",
    "\n",
    "print(copycat.main[-2].weight.grad.T.reshape(-1, 1).flatten())\n",
    "# print(copycat.main[0].weight.grad.T.reshape(-1, 1).flatten()[:32])\n",
    "real_grads = copycat.main[-2].weight.grad.T.reshape(-1, 1).flatten()"
   ]
  },
  {
   "cell_type": "code",
   "execution_count": 741,
   "metadata": {},
   "outputs": [
    {
     "name": "stdout",
     "output_type": "stream",
     "text": [
      "tensor([1.0000,    nan, 1.0000,    nan, 1.0000,    nan,    nan,    nan,    nan,\n",
      "           nan,    nan,    nan, 1.0000,    nan, 1.0000,    nan, 1.0000,    nan,\n",
      "           nan,    nan, 1.0000,    nan,    nan,    nan,    nan,    nan,    nan,\n",
      "           nan, 0.9999,    nan,    nan,    nan], device='cuda:0',\n",
      "       grad_fn=<DivBackward0>)\n"
     ]
    }
   ],
   "source": [
    "init_vals()\n",
    "\n",
    "pre_w = graph.edges.clone()\n",
    "# print(graph.edges.flatten()[-32:])\n",
    "\n",
    "graph.forward(dummy_inp)\n",
    "graph.backward(dummy_inp, dummy_label, edges=True, edges_at_end=False)\n",
    "# print(graph.edges.flatten()[-32:])\n",
    "\n",
    "# print(real_grads / (graph.edges - pre_w).flatten()[-32:])\n",
    "\n",
    "print(real_grads / ((graph.edges - pre_w).flatten()[-32:] / -lr))\n",
    "# print(3*(graph.edges - pre_w).flatten()[-32:] / -lr)\n",
    "\n",
    "# print(4*(graph.edges - pre_w).flatten()[:32] / -lr)\n",
    "# print(4*(graph.edges - pre_w).flatten()[:32] / -lr)"
   ]
  },
  {
   "cell_type": "code",
   "execution_count": 742,
   "metadata": {},
   "outputs": [
    {
     "name": "stdout",
     "output_type": "stream",
     "text": [
      "tensor([[0.0430, 0.0000]], device='cuda:0', grad_fn=<SqueezeBackward1>)\n"
     ]
    }
   ],
   "source": [
    "init_vals()\n",
    "print(graph.forward(dummy_inp, edges=True))"
   ]
  },
  {
   "cell_type": "code",
   "execution_count": 663,
   "metadata": {},
   "outputs": [
    {
     "name": "stdout",
     "output_type": "stream",
     "text": [
      "\n",
      "-0.01\n",
      "tensor([0.0000, 0.0000, 0.0000, 0.2931, 0.0000, 0.0000, 0.3150, 0.0000, 0.0000,\n",
      "        0.8445, 0.6160, 0.5097, 0.3784, 0.1470, 0.6932, 0.0000],\n",
      "       device='cuda:0', grad_fn=<SelectBackward0>)\n",
      "tensor([-1.3117,  1.7588], device='cuda:0', grad_fn=<SelectBackward0>)\n",
      "tensor([1., 1., 1., 1., 1., 1., 1., 1., 1., 1., 1., 1., 1., 1., 1., 1.],\n",
      "       device='cuda:0', grad_fn=<RsubBackward1>)\n",
      "tensor([1., 1.], device='cuda:0', grad_fn=<SelectBackward0>)\n",
      "\n",
      "tensor([ 0.0000,  0.0000,  0.0000,  0.0000,  0.0000,  0.0000,  0.0040, -0.0050,\n",
      "         0.0000,  0.0000,  0.0000,  0.0000,  0.0040, -0.0060,  0.0000,  0.0000,\n",
      "         0.0000,  0.0000,  0.0110, -0.0150,  0.0080, -0.0110,  0.0070, -0.0090,\n",
      "         0.0050, -0.0070,  0.0020, -0.0030,  0.0090, -0.0120,  0.0000,  0.0000],\n",
      "       device='cuda:0', grad_fn=<RoundBackward1>)\n",
      "\n",
      "-0.01\n",
      "tensor([0.0000, 0.0000, 0.0000, 0.2931, 0.0000, 0.0000, 0.3150, 0.0000, 0.0000,\n",
      "        0.8445, 0.6160, 0.5097, 0.3784, 0.1470, 0.6932, 0.0000],\n",
      "       device='cuda:0', grad_fn=<SelectBackward0>)\n",
      "tensor([-1.3117,  1.7588], device='cuda:0', grad_fn=<SelectBackward0>)\n",
      "tensor([0., 0., 0., 0., 0., 0., 0., 0., 0., 0., 0., 0., 0., 0., 0., 0.],\n",
      "       device='cuda:0', grad_fn=<RsubBackward1>)\n",
      "tensor([1., 1.], device='cuda:0', grad_fn=<SelectBackward0>)\n",
      "\n",
      "tensor([ 0.0000,  0.0000,  0.0000,  0.0000,  0.0000,  0.0000,  0.0040, -0.0050,\n",
      "         0.0000,  0.0000,  0.0000,  0.0000,  0.0040, -0.0060,  0.0000,  0.0000,\n",
      "         0.0000,  0.0000,  0.0110, -0.0150,  0.0080, -0.0110,  0.0070, -0.0090,\n",
      "         0.0050, -0.0070,  0.0020, -0.0030,  0.0090, -0.0120,  0.0000,  0.0000],\n",
      "       device='cuda:0', grad_fn=<RoundBackward1>)\n",
      "tensor([ 0.0000,  0.0000,  0.0000,  0.0000,  0.0000,  0.0000,  0.0040, -0.0050,\n",
      "         0.0000,  0.0000,  0.0000,  0.0000,  0.0040, -0.0060,  0.0000,  0.0000,\n",
      "         0.0000,  0.0000,  0.0110, -0.0150,  0.0080, -0.0110,  0.0070, -0.0090,\n",
      "         0.0050, -0.0070,  0.0020, -0.0030,  0.0090, -0.0120,  0.0000,  0.0000],\n",
      "       device='cuda:0', grad_fn=<RoundBackward1>)\n",
      "tensor([ 0.0000,  0.0000,  0.0000,  0.0000,  0.0000,  0.0000,  0.0040, -0.0050,\n",
      "         0.0000,  0.0000,  0.0000,  0.0000,  0.0040, -0.0060,  0.0000,  0.0000,\n",
      "         0.0000,  0.0000,  0.0110, -0.0150,  0.0080, -0.0110,  0.0070, -0.0090,\n",
      "         0.0050, -0.0070,  0.0020, -0.0030,  0.0090, -0.0120,  0.0000,  0.0000],\n",
      "       device='cuda:0', grad_fn=<RoundBackward1>)\n"
     ]
    }
   ],
   "source": [
    "ch = 1\n",
    "\n",
    "init_vals()\n",
    "\n",
    "graph.apply_vals(dummy_inp)\n",
    "graph.timestep()\n",
    "# print(graph.nodes[..., ch])\n",
    "graph.apply_vals(dummy_inp)\n",
    "graph.timestep()\n",
    "# print(graph.nodes[..., ch])\n",
    "graph.apply_vals(dummy_inp)\n",
    "graph.timestep()\n",
    "# print(graph.nodes[..., ch])\n",
    "\n",
    "pre_w = graph.edges.clone()\n",
    "\n",
    "\n",
    "# m_e[0] = -lr * n_a[0] * n_b[2] * (1-n_a[3]) * n_b[3]\n",
    "\n",
    "\n",
    "graph.apply_vals(dummy_inp, dummy_label)\n",
    "# print(graph.nodes[..., ch])\n",
    "# print(torch.round(graph.edges[0, -32:, 0], decimals=3))\n",
    "\n",
    "\n",
    "\n",
    "# print(torch.round(graph.edges[0, -32:, 0] - pre_w[0, -32:, 0], decimals=3))\n",
    "\n",
    "\n",
    "print()\n",
    "print(-lr)\n",
    "print(graph.nodes[0, -18:-2, 0])\n",
    "print(graph.nodes[0, -2:, 2])\n",
    "print(1-graph.nodes[0, -18:-2, 3])\n",
    "print(graph.nodes[0, -2:, 3])\n",
    "print()\n",
    "\n",
    "\n",
    "graph.timestep()\n",
    "# print(graph.nodes[..., ch])\n",
    "# print(torch.round(graph.edges[0, -32:, 0], decimals=3))\n",
    "\n",
    "print(torch.round(graph.edges[0, -32:, 0] - pre_w[0, -32:, 0], decimals=3))\n",
    "graph.apply_vals(dummy_inp, dummy_label)\n",
    "# print(graph.nodes[..., ch])\n",
    "# print(torch.round(graph.edges[0, -32:, 0], decimals=3))\n",
    "\n",
    "print()\n",
    "print(-lr)\n",
    "print(graph.nodes[0, -18:-2, 0])\n",
    "print(graph.nodes[0, -2:, 2])\n",
    "print(1-graph.nodes[0, -18:-2, 3])\n",
    "print(graph.nodes[0, -2:, 3])\n",
    "print()\n",
    "\n",
    "# print(torch.round(graph.edges[0, -32:, 0] - pre_w[0, -32:, 0], decimals=3))\n",
    "graph.timestep()\n",
    "# print(graph.nodes[..., ch])\n",
    "# print(torch.round(graph.edges[0, -32:, 0], decimals=3))\n",
    "print(torch.round(graph.edges[0, -32:, 0] - pre_w[0, -32:, 0], decimals=3))\n",
    "graph.apply_vals(dummy_inp, dummy_label)\n",
    "# print(graph.nodes[..., ch])\n",
    "# print(torch.round(graph.edges[0, -32:, 0], decimals=3))\n",
    "print(torch.round(graph.edges[0, -32:, 0] - pre_w[0, -32:, 0], decimals=3))\n",
    "graph.timestep()\n",
    "# print(graph.nodes[..., ch])\n",
    "# print(torch.round(graph.edges[0, -32:, 0], decimals=3))\n",
    "print(torch.round(graph.edges[0, -32:, 0] - pre_w[0, -32:, 0], decimals=3))"
   ]
  },
  {
   "cell_type": "code",
   "execution_count": 506,
   "metadata": {},
   "outputs": [
    {
     "name": "stdout",
     "output_type": "stream",
     "text": [
      "tensor([[-7.5434e-09,  3.7796e-08, -7.1157e-09, -5.2946e-07,  1.5004e-02,\n",
      "          1.2837e-07,  9.2424e-06, -6.4779e-05, -2.1625e-09]], device='cuda:0',\n",
      "       grad_fn=<AddmmBackward0>)\n",
      "tensor([[ 6.9681e-01,  4.6013e-06, -2.0028e-06,  1.1431e-06]], device='cuda:0',\n",
      "       grad_fn=<AddmmBackward0>)\n"
     ]
    }
   ],
   "source": [
    "print(message(torch.zeros(1, 2*ch_n+ch_e).to(\"cuda\")))\n",
    "print(update(torch.zeros(1, 3*ch_n).to(\"cuda\")))"
   ]
  },
  {
   "cell_type": "code",
   "execution_count": null,
   "metadata": {},
   "outputs": [],
   "source": []
  },
  {
   "cell_type": "code",
   "execution_count": null,
   "metadata": {},
   "outputs": [],
   "source": []
  }
 ],
 "metadata": {
  "kernelspec": {
   "display_name": "Python 3",
   "language": "python",
   "name": "python3"
  },
  "language_info": {
   "codemirror_mode": {
    "name": "ipython",
    "version": 3
   },
   "file_extension": ".py",
   "mimetype": "text/x-python",
   "name": "python",
   "nbconvert_exporter": "python",
   "pygments_lexer": "ipython3",
   "version": "3.9.6"
  }
 },
 "nbformat": 4,
 "nbformat_minor": 2
}
