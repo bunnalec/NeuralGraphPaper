{
 "cells": [
  {
   "cell_type": "code",
   "execution_count": 1,
   "metadata": {},
   "outputs": [
    {
     "name": "stderr",
     "output_type": "stream",
     "text": [
      "c:\\Users\\bunna\\AppData\\Local\\Programs\\Python\\Python39\\lib\\site-packages\\requests\\__init__.py:102: RequestsDependencyWarning: urllib3 (1.26.16) or chardet (5.1.0)/charset_normalizer (2.0.4) doesn't match a supported version!\n",
      "  warnings.warn(\"urllib3 ({}) or chardet ({})/charset_normalizer ({}) doesn't match a supported \"\n"
     ]
    }
   ],
   "source": [
    "import importlib\n",
    "import torch\n",
    "import torch.nn as nn\n",
    "\n",
    "import tensorflow as tf\n",
    "\n",
    "import matplotlib.pyplot as plt\n",
    "from tqdm.autonotebook import tqdm\n",
    "import numpy as np\n",
    "import cv2\n",
    "import pandas as pd\n",
    "\n",
    "import random"
   ]
  },
  {
   "cell_type": "code",
   "execution_count": 2,
   "metadata": {},
   "outputs": [
    {
     "data": {
      "text/plain": [
       "<torch._C.Generator at 0x2ae0d0e8230>"
      ]
     },
     "execution_count": 2,
     "metadata": {},
     "output_type": "execute_result"
    }
   ],
   "source": [
    "np.random.seed(42)\n",
    "random.seed(42)\n",
    "torch.manual_seed(42)"
   ]
  },
  {
   "cell_type": "code",
   "execution_count": 3,
   "metadata": {},
   "outputs": [],
   "source": [
    "def split_dataset(x, y, valid_split=.2, test_split=.2):\n",
    "    classes = np.unique(y)\n",
    "    train_valid_split = round(len(classes)*(1-(valid_split+test_split)))\n",
    "    valid_test_split = round(len(classes)*(1-test_split))\n",
    "\n",
    "    train_classes = set(classes[:train_valid_split])\n",
    "    valid_classes = set(classes[train_valid_split:valid_test_split])\n",
    "    test_classes = set(classes[valid_test_split:])\n",
    "\n",
    "    train = {i:[] for i in train_classes}\n",
    "    valid = {i:[] for i in valid_classes}\n",
    "    test = {i:[] for i in test_classes}\n",
    "\n",
    "    for data, class_ in zip(x, y):\n",
    "        if class_ in train_classes:\n",
    "            train[class_].append(data)\n",
    "        \n",
    "        elif class_ in valid_classes:\n",
    "            valid[class_].append(data)\n",
    "\n",
    "        else:\n",
    "            test[class_].append(data)\n",
    "\n",
    "    for class_ in train_classes:\n",
    "        train[class_] = np.stack(train[class_])\n",
    "\n",
    "    for class_ in valid_classes:\n",
    "        valid[class_] = np.stack(valid[class_])\n",
    "\n",
    "    for class_ in test_classes:\n",
    "        test[class_] = np.stack(test[class_])\n",
    "\n",
    "    return train, valid, test"
   ]
  },
  {
   "cell_type": "code",
   "execution_count": 4,
   "metadata": {},
   "outputs": [],
   "source": [
    "SIZE = 7\n",
    "\n",
    "(x, y), (_, _) = tf.keras.datasets.mnist.load_data()\n",
    "x = np.stack([cv2.resize(img/255.0, dsize=[SIZE, SIZE]) for img in x]).reshape(-1, SIZE**2)\n",
    "\n",
    "_, mnist_valid, mnist_test = split_dataset(x, y, valid_split=.5, test_split=.5)\n",
    "\n",
    "(x, y), (_, _) = tf.keras.datasets.fashion_mnist.load_data()\n",
    "x = np.stack([cv2.resize(img/255.0, dsize=[SIZE, SIZE]) for img in x]).reshape(-1, SIZE**2)\n",
    "\n",
    "_, fashion_valid, fashion_test = split_dataset(x, y, valid_split=.5, test_split=.5)\n",
    "\n",
    "emnist = pd.read_csv(\"emnist-letters-train.csv\").values\n",
    "x, y = emnist[:, 1:], emnist[:, 0]\n",
    "x = np.stack([cv2.resize(cv2.flip(cv2.rotate(img.reshape(28, 28)/255.0, cv2.ROTATE_90_CLOCKWISE), 1), dsize=[SIZE, SIZE]) for img in x]).reshape(-1, SIZE**2)\n",
    "\n",
    "emnist_train, emnist_valid, emnist_test = split_dataset(x, y)"
   ]
  },
  {
   "cell_type": "code",
   "execution_count": 5,
   "metadata": {},
   "outputs": [],
   "source": [
    "train = [emnist_train]\n",
    "valid = [mnist_valid, fashion_valid, emnist_valid]"
   ]
  },
  {
   "cell_type": "code",
   "execution_count": 6,
   "metadata": {},
   "outputs": [
    {
     "data": {
      "text/plain": [
       "<module 'ES.ES_NeuralGraph' from 'c:\\\\Users\\\\bunna\\\\Documents\\\\GitHub\\\\NeuralGraphPaper\\\\ES\\\\ES_NeuralGraph.py'>"
      ]
     },
     "execution_count": 6,
     "metadata": {},
     "output_type": "execute_result"
    }
   ],
   "source": [
    "import ES.ES_classes\n",
    "import ES.ES_NeuralGraph\n",
    "importlib.reload(ES.ES_classes)\n",
    "importlib.reload(ES.ES_NeuralGraph)"
   ]
  },
  {
   "cell_type": "code",
   "execution_count": 7,
   "metadata": {},
   "outputs": [],
   "source": [
    "# Multiplication message fn\n",
    "\n",
    "ch_n = 4\n",
    "ch_e = 4\n",
    "\n",
    "# class Message(ES.ES_classes.ES_MLP):\n",
    "#     def __init__(self, sequential):\n",
    "#         super().__init__(sequential)\n",
    "\n",
    "#     def forward(self, x):\n",
    "#         with torch.no_grad():\n",
    "#             a = ES.ES_classes.expand_repeat(x, x.shape[-1], -1)\n",
    "#             b = ES.ES_classes.expand_repeat(x, x.shape[-1], -2)\n",
    "#             ab = (a * b).reshape(*x.shape[:-1], x.shape[-1]**2)\n",
    "#             return self.sequential(ab)\n",
    "\n",
    "# messages = nn.ModuleList([Message(nn.Sequential(\n",
    "#     ES.ES_classes.ES_Linear((ch_n*2+ch_e)**2, 16),\n",
    "#     nn.Tanh(),\n",
    "#     ES.ES_classes.ES_Linear(16, 2*(ch_n)+(ch_e)),\n",
    "# ))])"
   ]
  },
  {
   "cell_type": "code",
   "execution_count": 8,
   "metadata": {},
   "outputs": [
    {
     "name": "stdout",
     "output_type": "stream",
     "text": [
      "408\n"
     ]
    }
   ],
   "source": [
    "BATCH_SIZE = 512\n",
    "# BATCH_SIZE = 32\n",
    "TIME = 1\n",
    "DT = .25\n",
    "\n",
    "n_classes = 2\n",
    "device = \"cuda\" if torch.cuda.is_available() else \"cpu\"\n",
    "# device = \"cpu\"\n",
    "\n",
    "shape = [SIZE**2, 8, n_classes]\n",
    "n_nodes = sum(shape)\n",
    "connections = torch.Tensor([[sum(shape[:i])+x, sum(shape[:i+1])+y] for i in range(len(shape)-1) for x in range(shape[i]) for y in range(shape[i+1])])\n",
    "\n",
    "print(len(connections))\n",
    "\n",
    "graph = ES.ES_NeuralGraph.NeuralGraph(n_nodes, SIZE**2, n_classes, connections,\n",
    "    ch_n=ch_n, ch_e=ch_e, init_mode=\"trainable\", init_std=.05, set_nodes=True,\n",
    "    aggregation=\"mean\", use_label=True, clamp_mode=\"hard\", max_value=5).to(device)\n",
    "\n",
    "log = []"
   ]
  },
  {
   "cell_type": "code",
   "execution_count": 139,
   "metadata": {},
   "outputs": [],
   "source": [
    "EXAMPLES = 10\n",
    "\n",
    "# Reset optimizer\n",
    "optimizer = torch.optim.Adam(graph.parameters(), lr=0.01)\n",
    "# optimizer = torch.optim.SGD(graph.parameters(), lr=0.025)\n",
    "criterion = nn.MSELoss()\n",
    "\n",
    "STEPS = 10_000\n",
    "\n",
    "log = []"
   ]
  },
  {
   "cell_type": "code",
   "execution_count": 141,
   "metadata": {},
   "outputs": [],
   "source": [
    "# graph.load_state_dict(torch.load(\"models/graph.pt\"))"
   ]
  },
  {
   "cell_type": "code",
   "execution_count": 1,
   "metadata": {},
   "outputs": [
    {
     "ename": "NameError",
     "evalue": "name 'torch' is not defined",
     "output_type": "error",
     "traceback": [
      "\u001b[1;31m---------------------------------------------------------------------------\u001b[0m",
      "\u001b[1;31mNameError\u001b[0m                                 Traceback (most recent call last)",
      "\u001b[1;32mc:\\Users\\bunna\\Documents\\GitHub\\NeuralGraphPaper\\ES_mnist_generalizer.ipynb Cell 11\u001b[0m line \u001b[0;36m3\n\u001b[0;32m      <a href='vscode-notebook-cell:/c%3A/Users/bunna/Documents/GitHub/NeuralGraphPaper/ES_mnist_generalizer.ipynb#X13sZmlsZQ%3D%3D?line=0'>1</a>\u001b[0m sigma \u001b[39m=\u001b[39m \u001b[39m.025\u001b[39m\n\u001b[1;32m----> <a href='vscode-notebook-cell:/c%3A/Users/bunna/Documents/GitHub/NeuralGraphPaper/ES_mnist_generalizer.ipynb#X13sZmlsZQ%3D%3D?line=2'>3</a>\u001b[0m \u001b[39mwith\u001b[39;00m torch\u001b[39m.\u001b[39mno_grad():\n\u001b[0;32m      <a href='vscode-notebook-cell:/c%3A/Users/bunna/Documents/GitHub/NeuralGraphPaper/ES_mnist_generalizer.ipynb#X13sZmlsZQ%3D%3D?line=3'>4</a>\u001b[0m     bar \u001b[39m=\u001b[39m tqdm(\u001b[39mrange\u001b[39m(\u001b[39m1\u001b[39m, STEPS\u001b[39m+\u001b[39m\u001b[39m1\u001b[39m))\n\u001b[0;32m      <a href='vscode-notebook-cell:/c%3A/Users/bunna/Documents/GitHub/NeuralGraphPaper/ES_mnist_generalizer.ipynb#X13sZmlsZQ%3D%3D?line=4'>5</a>\u001b[0m     \u001b[39mfor\u001b[39;00m step \u001b[39min\u001b[39;00m bar:\n\u001b[0;32m      <a href='vscode-notebook-cell:/c%3A/Users/bunna/Documents/GitHub/NeuralGraphPaper/ES_mnist_generalizer.ipynb#X13sZmlsZQ%3D%3D?line=5'>6</a>\u001b[0m \n\u001b[0;32m      <a href='vscode-notebook-cell:/c%3A/Users/bunna/Documents/GitHub/NeuralGraphPaper/ES_mnist_generalizer.ipynb#X13sZmlsZQ%3D%3D?line=6'>7</a>\u001b[0m         \u001b[39m# Train step\u001b[39;00m\n",
      "\u001b[1;31mNameError\u001b[0m: name 'torch' is not defined"
     ]
    }
   ],
   "source": [
    "sigma = .025\n",
    "\n",
    "with torch.no_grad():\n",
    "    bar = tqdm(range(1, STEPS+1))\n",
    "    for step in bar:\n",
    "\n",
    "        # Train step\n",
    "        x_train, y_train = torch.randn(BATCH_SIZE, EXAMPLES, 49).to(device), torch.randint(n_classes, (BATCH_SIZE, EXAMPLES)).to(device)\n",
    "\n",
    "        # Memorization training:\n",
    "        shuffle = torch.permute(torch.arange(BATCH_SIZE), (0,))\n",
    "        x_test, y_test = x_train[shuffle], y_train[shuffle]\n",
    "\n",
    "        y_input = nn.functional.one_hot(y_train, n_classes).float()\n",
    "        y_label = nn.functional.one_hot(y_test, n_classes).float()\n",
    "\n",
    "        graph.generate_epsilons(BATCH_SIZE, sigma=sigma)\n",
    "        graph.init_vals(nodes=True, edges=True, batch_size=BATCH_SIZE)\n",
    "\n",
    "        graph.learn(x_train, y_input, time=TIME, dt=DT, apply_once=True, reset_nodes=True, edges=False, edges_at_end=True)\n",
    "        pred = graph.predict(x_test, time=TIME, dt=DT, apply_once=True, reset_nodes=True, edges=False)\n",
    "\n",
    "        accs = (pred.argmax(2) == y_test).float().mean(-1)\n",
    "        acc = accs.mean()\n",
    "\n",
    "        task_losses = torch.square(pred - y_label).mean(-1).mean(-1)\n",
    "        graph.estimate_grads(task_losses - accs, sigma=sigma)\n",
    "\n",
    "\n",
    "        task_loss = task_losses.mean()\n",
    "        overflow = graph.overflow()\n",
    "        \n",
    "        loss = task_loss + overflow\n",
    "        optimizer.step()\n",
    "\n",
    "        # Valid step (currently just validating with perturbations but could change to do not train_mode)\n",
    "        x_train, y_train, x_test, y_test, classes = get_batch_data(dataset=valid)\n",
    "        y_input = nn.functional.one_hot(y_train, n_classes).float()\n",
    "        y_label = nn.functional.one_hot(y_test, n_classes).float()\n",
    "\n",
    "        graph.init_vals(nodes=True, edges=True, batch_size=BATCH_SIZE)\n",
    "\n",
    "        graph.learn(x_train, y_input, time=TIME, dt=DT, apply_once=True, reset_nodes=True, edges=False, edges_at_end=True)\n",
    "        pred = graph.predict(x_test, time=TIME, dt=DT, apply_once=True, reset_nodes=True, edges=False)\n",
    "\n",
    "        valid_acc = (pred.argmax(2) == y_test).float().mean()\n",
    "        valid_loss = criterion(pred, y_label)\n",
    "\n",
    "        entry = {'valid_loss':valid_loss.item(), 'valid_acc':valid_acc.item(), 'loss': task_loss.item(), 'acc': acc.item(), \"overflow\": overflow.item()}\n",
    "        log.append(entry)\n",
    "        bar.set_postfix({\"valid_loss\":np.mean([e[\"valid_loss\"] for e in log[-10:]]), \"valid_acc\":np.mean([e[\"valid_acc\"] for e in log[-10:]]), \"loss\":np.mean([e[\"loss\"] for e in log[-10:]]), \"acc\":np.mean([e[\"acc\"] for e in log[-10:]]), \"overflow\":entry[\"overflow\"]})"
   ]
  },
  {
   "cell_type": "code",
   "execution_count": 138,
   "metadata": {},
   "outputs": [
    {
     "data": {
      "text/plain": [
       "<matplotlib.legend.Legend at 0x1d915b82cd0>"
      ]
     },
     "execution_count": 138,
     "metadata": {},
     "output_type": "execute_result"
    },
    {
     "data": {
      "image/png": "[encoded data removed]",
      "text/plain": [
       "<Figure size 640x480 with 1 Axes>"
      ]
     },
     "metadata": {},
     "output_type": "display_data"
    }
   ],
   "source": [
    "plt.plot([e[\"loss\"] for e in log], label=\"loss\")\n",
    "plt.plot([e[\"acc\"] for e in log], label=\"acc\")\n",
    "plt.legend()"
   ]
  },
  {
   "cell_type": "code",
   "execution_count": 12,
   "metadata": {},
   "outputs": [],
   "source": [
    "EXAMPLES = 10\n",
    "\n",
    "# Reset optimizer\n",
    "optimizer = torch.optim.Adam(graph.parameters(), lr=0.01)\n",
    "# optimizer = torch.optim.SGD(graph.parameters(), lr=0.025)\n",
    "criterion = nn.MSELoss()\n",
    "\n",
    "STEPS = 10_000\n",
    "\n",
    "log = []"
   ]
  },
  {
   "cell_type": "code",
   "execution_count": 13,
   "metadata": {},
   "outputs": [],
   "source": [
    "def shuffle_along_axis(a, axis):\n",
    "    idx = np.random.rand(*a.shape).argsort(axis=axis)\n",
    "    return np.take_along_axis(a,idx,axis=axis)\n",
    "\n",
    "def get_batch_data(dataset=train, batch_size=BATCH_SIZE, train_examples=10, test_examples=10):\n",
    "    if type(dataset) != list:\n",
    "        dataset = [dataset]\n",
    "    set_ = np.random.randint(len(dataset), size=(batch_size))\n",
    "\n",
    "    classes = np.stack([np.random.choice(list(dataset[i].keys()), size=(n_classes), replace=False) for i in set_])\n",
    "    \n",
    "    # This gets completely random examples\n",
    "    # y_train = np.random.randint(n_classes, size=(batch_size, train_examples))\n",
    "    # y_test = np.random.randint(n_classes, size=(batch_size, TEST_EXAMPLES))\n",
    "\n",
    "    # This gets balanced random examples\n",
    "    \n",
    "    y_train = np.repeat(np.expand_dims(np.round(np.linspace(0, n_classes-1, train_examples)), axis=0), batch_size, axis=0).astype(np.int32)\n",
    "    y_test = np.repeat(np.expand_dims(np.round(np.linspace(0, n_classes-1, test_examples)), axis=0), batch_size, axis=0).astype(np.int32)\n",
    "\n",
    "    y_train = shuffle_along_axis(y_train, axis=1)\n",
    "    y_test = shuffle_along_axis(y_test, axis=1)\n",
    "\n",
    "    x_train = []\n",
    "    for batch_classes, y, i in zip(classes, y_train, set_):\n",
    "        x_train.append([])\n",
    "        for class_ in batch_classes[y]:\n",
    "            x_train[-1].append(random.choice(dataset[i][class_]))\n",
    "        x_train[-1] = np.stack(x_train[-1])\n",
    "    x_train = np.stack(x_train)\n",
    "\n",
    "    x_test = []\n",
    "    for batch_classes, y, i in zip(classes, y_test, set_):\n",
    "        x_test.append([])\n",
    "        for class_ in batch_classes[y]:\n",
    "            x_test[-1].append(random.choice(dataset[i][class_]))\n",
    "        x_test[-1] = np.stack(x_test[-1])\n",
    "    x_test = np.stack(x_test)\n",
    "    \n",
    "    return torch.Tensor(x_train).to(device), torch.Tensor(y_train).long().to(device), torch.Tensor(x_test).to(device), torch.Tensor(y_test).long().to(device), classes"
   ]
  },
  {
   "cell_type": "code",
   "execution_count": 14,
   "metadata": {},
   "outputs": [
    {
     "name": "stderr",
     "output_type": "stream",
     "text": [
      "  0%|          | 0/10000 [00:00<?, ?it/s]"
     ]
    },
    {
     "name": "stderr",
     "output_type": "stream",
     "text": [
      "100%|██████████| 10000/10000 [1:26:23<00:00,  1.93it/s, valid_loss=0.238, valid_acc=0.654, loss=0.238, acc=0.651, overflow=0]\n"
     ]
    }
   ],
   "source": [
    "sigma = .025\n",
    "\n",
    "with torch.no_grad():\n",
    "    bar = tqdm(range(1, STEPS+1))\n",
    "    for step in bar:\n",
    "\n",
    "        # Train step\n",
    "        x, y, _, _, classes = get_batch_data(dataset=train, train_examples=EXAMPLES, test_examples=1)\n",
    "\n",
    "        y_oh = nn.functional.one_hot(y, n_classes).float()\n",
    "\n",
    "        graph.generate_epsilons(BATCH_SIZE, sigma=sigma)\n",
    "        graph.init_vals(nodes=True, edges=True, batch_size=BATCH_SIZE)\n",
    "\n",
    "        # Rolling evaluation: sorta like LM\n",
    "        pred = []\n",
    "        for i in range(EXAMPLES):\n",
    "            pred.append(graph.forward(x[:, i], time=TIME, dt=DT, apply_once=True, edges=False))\n",
    "            graph.backward(x[:, i], y_oh[:, i], time=TIME, dt=DT, apply_once=True, edges=False, edges_at_end=True)\n",
    "            graph.init_vals(nodes=True, edges=False, batch_size=BATCH_SIZE)\n",
    "        pred = torch.stack(pred, axis=1)\n",
    "\n",
    "        accs = (pred.argmax(2) == y).float().mean(-1)\n",
    "        acc = accs.mean()\n",
    "\n",
    "        task_losses = torch.square(pred - y_oh).mean(-1).mean(-1)\n",
    "        graph.estimate_grads(task_losses - accs, sigma=sigma)\n",
    "        \n",
    "\n",
    "        task_loss = task_losses.mean()\n",
    "        overflow = graph.overflow()\n",
    "        \n",
    "        loss = task_loss + overflow\n",
    "        optimizer.step()\n",
    "\n",
    "\n",
    "\n",
    "        # Valid step (currently just validating with perturbations but could change to do not train_mode)\n",
    "        x, y, _, _, classes = get_batch_data(dataset=valid, train_examples=EXAMPLES, test_examples=1)\n",
    "        y_oh = nn.functional.one_hot(y, n_classes).float()\n",
    "\n",
    "        graph.init_vals(nodes=True, edges=True, batch_size=BATCH_SIZE)\n",
    "\n",
    "        pred = []\n",
    "        for i in range(EXAMPLES):\n",
    "            pred.append(graph.forward(x[:, i], time=TIME, dt=DT, apply_once=True, edges=False))\n",
    "            graph.backward(x[:, i], y_oh[:, i], time=TIME, dt=DT, apply_once=True, edges=False, edges_at_end=True)\n",
    "            graph.init_vals(nodes=True, edges=False, batch_size=BATCH_SIZE)\n",
    "        pred = torch.stack(pred, axis=1)\n",
    "\n",
    "        valid_acc = (pred.argmax(2) == y).float().mean()\n",
    "        valid_loss = criterion(pred, y_oh)\n",
    "\n",
    "\n",
    "        entry = {'valid_loss':valid_loss.item(), 'valid_acc':valid_acc.item(), 'loss': task_loss.item(), 'acc': acc.item(), \"overflow\": overflow.item()}\n",
    "        log.append(entry)\n",
    "        bar.set_postfix({\"valid_loss\":np.mean([e[\"valid_loss\"] for e in log[-10:]]), \"valid_acc\":np.mean([e[\"valid_acc\"] for e in log[-10:]]), \"loss\":np.mean([e[\"loss\"] for e in log[-10:]]), \"acc\":np.mean([e[\"acc\"] for e in log[-10:]]), \"overflow\":entry[\"overflow\"]})"
   ]
  },
  {
   "cell_type": "code",
   "execution_count": 162,
   "metadata": {},
   "outputs": [],
   "source": [
    "torch.save(graph.state_dict(), \"models/ES_graph.pt\")"
   ]
  },
  {
   "cell_type": "code",
   "execution_count": 163,
   "metadata": {},
   "outputs": [
    {
     "data": {
      "text/plain": [
       "<matplotlib.legend.Legend at 0x1d86380ddc0>"
      ]
     },
     "execution_count": 163,
     "metadata": {},
     "output_type": "execute_result"
    },
    {
     "data": {
      "image/png": "[encoded data removed]",
      "text/plain": [
       "<Figure size 640x480 with 1 Axes>"
      ]
     },
     "metadata": {},
     "output_type": "display_data"
    }
   ],
   "source": [
    "plt.plot([e[\"loss\"] for e in log], label=\"loss\")\n",
    "plt.plot([e[\"acc\"] for e in log], label=\"acc\")\n",
    "plt.legend()"
   ]
  },
  {
   "cell_type": "code",
   "execution_count": 167,
   "metadata": {},
   "outputs": [],
   "source": [
    "with torch.no_grad():\n",
    "    x, y, _, _, classes = get_batch_data(dataset=train, train_examples=EXAMPLES, test_examples=1)\n",
    "\n",
    "    y_oh = nn.functional.one_hot(y, n_classes).float()\n",
    "\n",
    "    graph.generate_epsilons(BATCH_SIZE, sigma=sigma)\n",
    "    graph.init_vals(nodes=True, edges=True, batch_size=BATCH_SIZE)\n",
    "\n",
    "    # Rolling evaluation: sorta like LM\n",
    "    pred = []\n",
    "    for i in range(EXAMPLES):\n",
    "        pred.append(graph.forward(x[:, i], time=TIME, dt=DT, apply_once=True, edges=False))\n",
    "        graph.backward(x[:, i], y_oh[:, i], time=TIME, dt=DT, apply_once=True, edges=False, edges_at_end=True)\n",
    "        graph.init_vals(nodes=True, edges=False, batch_size=BATCH_SIZE)\n",
    "    pred = torch.stack(pred, axis=1)"
   ]
  },
  {
   "cell_type": "code",
   "execution_count": 174,
   "metadata": {},
   "outputs": [
    {
     "name": "stdout",
     "output_type": "stream",
     "text": [
      "torch.Size([512, 1000])\n",
      "torch.Size([512, 1000])\n"
     ]
    },
    {
     "data": {
      "text/plain": [
       "[<matplotlib.lines.Line2D at 0x1d957b2ebe0>]"
      ]
     },
     "execution_count": 174,
     "metadata": {},
     "output_type": "execute_result"
    },
    {
     "data": {
      "image/png": "[encoded data removed]",
      "text/plain": [
       "<Figure size 640x480 with 1 Axes>"
      ]
     },
     "metadata": {},
     "output_type": "display_data"
    }
   ],
   "source": [
    "print(pred.argmax(-1).shape)\n",
    "print(y.shape)\n",
    "\n",
    "avg_acc = (pred.argmax(-1) == y).float().mean(0).cpu()\n",
    "\n",
    "plt.plot(avg_acc)"
   ]
  },
  {
   "cell_type": "code",
   "execution_count": 185,
   "metadata": {},
   "outputs": [
    {
     "name": "stdout",
     "output_type": "stream",
     "text": [
      "tensor(5.)\n",
      "tensor(-5.)\n"
     ]
    },
    {
     "data": {
      "image/png": "[encoded data removed]",
      "text/plain": [
       "<Figure size 640x480 with 1 Axes>"
      ]
     },
     "metadata": {},
     "output_type": "display_data"
    },
    {
     "data": {
      "image/png": "[encoded data removed]",
      "text/plain": [
       "<Figure size 640x480 with 1 Axes>"
      ]
     },
     "metadata": {},
     "output_type": "display_data"
    }
   ],
   "source": [
    "print(graph.edges[0].reshape(2, 7, 7, 4)[0, :, :, :3].cpu().max())\n",
    "print(graph.edges[0].reshape(2, 7, 7, 4)[0, :, :, :3].cpu().min())\n",
    "\n",
    "plt.imshow(graph.edges[0].reshape(2, 7, 7, 4)[0, :, :, :3].cpu() / 10 + .5)\n",
    "plt.show()\n",
    "plt.imshow(graph.edges[0].reshape(2, 7, 7, 4)[1, :, :, :3].cpu() / 10 + .5)\n",
    "plt.show()"
   ]
  },
  {
   "cell_type": "code",
   "execution_count": 186,
   "metadata": {},
   "outputs": [
    {
     "name": "stdout",
     "output_type": "stream",
     "text": [
      "[3 6]\n"
     ]
    }
   ],
   "source": [
    "print(classes[0])"
   ]
  },
  {
   "cell_type": "code",
   "execution_count": null,
   "metadata": {},
   "outputs": [],
   "source": []
  }
 ],
 "metadata": {
  "kernelspec": {
   "display_name": "Python 3",
   "language": "python",
   "name": "python3"
  },
  "language_info": {
   "codemirror_mode": {
    "name": "ipython",
    "version": 3
   },
   "file_extension": ".py",
   "mimetype": "text/x-python",
   "name": "python",
   "nbconvert_exporter": "python",
   "pygments_lexer": "ipython3",
   "version": "3.9.6"
  }
 },
 "nbformat": 4,
 "nbformat_minor": 2
}
