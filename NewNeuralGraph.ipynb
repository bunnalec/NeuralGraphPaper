{
 "cells": [
  {
   "cell_type": "code",
   "execution_count": 1,
   "metadata": {},
   "outputs": [],
   "source": [
    "import torch\n",
    "import torch.nn as nn\n",
    "import numpy as np\n",
    "from torch.nn import Linear\n",
    "from torch_geometric.nn import MessagePassing\n",
    "from torch_geometric.data import Data\n",
    "from torch_geometric.utils import add_self_loops, degree"
   ]
  },
  {
   "cell_type": "code",
   "execution_count": null,
   "metadata": {},
   "outputs": [],
   "source": []
  },
  {
   "cell_type": "code",
   "execution_count": 36,
   "metadata": {},
   "outputs": [],
   "source": [
    "from typing import Union\n",
    "\n",
    "\n",
    "from torch import Tensor\n",
    "from torch_geometric.typing import SparseTensor\n",
    "\n",
    "\n",
    "class CustomGNNLayer(MessagePassing):\n",
    "    def __init__(self, in_channels, out_channels):\n",
    "        super(CustomGNNLayer, self).__init__(aggr='add')\n",
    "        self.edge_encoder = nn.Linear(in_channels, out_channels)\n",
    "        self.node_encoder = nn.Linear(in_channels, out_channels)\n",
    "\n",
    "    def forward(self, x, edge_index, edge_attr):\n",
    "        # edge_attr = self.edge_encoder(edge_attr)\n",
    "        out = self.propagate(edge_index, x=x, edge_attr=edge_attr, forward=True)\n",
    "        edge_out = self.edge_updater(edge_index, x=x, edge_attr=edge_attr)\n",
    "\n",
    "        return out, edge_out\n",
    "\n",
    "    def message(self, x_i, x_j, edge_attr, forward=True):\n",
    "        # if forward:\n",
    "            # \n",
    "        return x_i + x_j + edge_attr\n",
    "\n",
    "    def update(self, aggr_out):\n",
    "        return torch.ones_like(aggr_out)\n",
    "        # return aggr_out\n",
    "\n",
    "    def edge_update(self, x_i, x_j, edge_attr):\n",
    "        # Custom function to update edge attributes\n",
    "        # You can specify how you want to update edge attributes here\n",
    "        updated_edge_attr = edge_attr + x_i + x_j\n",
    "        return updated_edge_attr\n",
    "\n"
   ]
  },
  {
   "cell_type": "code",
   "execution_count": null,
   "metadata": {},
   "outputs": [],
   "source": []
  },
  {
   "cell_type": "code",
   "execution_count": 37,
   "metadata": {},
   "outputs": [
    {
     "name": "stdout",
     "output_type": "stream",
     "text": [
      "tensor([[0.1000],\n",
      "        [0.2000],\n",
      "        [0.3000],\n",
      "        [0.4000]])\n",
      "Output after GNN layer:\n",
      " (tensor([[1.],\n",
      "        [1.],\n",
      "        [1.]]), tensor([[3.1000],\n",
      "        [3.2000],\n",
      "        [5.3000],\n",
      "        [5.4000]]))\n"
     ]
    }
   ],
   "source": [
    "# Create a toy graph with 3 nodes and 2 edges\n",
    "edge_index = torch.tensor([[0, 1, 1, 2], [1, 0, 2, 1]], dtype=torch.long)\n",
    "x = torch.tensor([[1.0], [2.0], [3.0]], dtype=torch.float)\n",
    "edge_attr = torch.tensor([[0.1], [0.2], [0.3], [0.4]], dtype=torch.float)\n",
    "\n",
    "# Create a data object\n",
    "data = Data(x=x, edge_index=edge_index, edge_attr=edge_attr)\n",
    "\n",
    "# Instantiate the custom GNN layer\n",
    "gnn_layer = CustomGNNLayer(in_channels=1, out_channels=1)\n",
    "\n",
    "# Forward pass through the GNN layer\n",
    "output = gnn_layer(data.x, data.edge_index, data.edge_attr)\n",
    "\n",
    "print(edge_attr)\n",
    "\n",
    "print(\"Output after GNN layer:\\n\", output)"
   ]
  },
  {
   "cell_type": "code",
   "execution_count": null,
   "metadata": {},
   "outputs": [],
   "source": []
  },
  {
   "cell_type": "code",
   "execution_count": null,
   "metadata": {},
   "outputs": [],
   "source": []
  }
 ],
 "metadata": {
  "kernelspec": {
   "display_name": "base",
   "language": "python",
   "name": "python3"
  },
  "language_info": {
   "codemirror_mode": {
    "name": "ipython",
    "version": 3
   },
   "file_extension": ".py",
   "mimetype": "text/x-python",
   "name": "python",
   "nbconvert_exporter": "python",
   "pygments_lexer": "ipython3",
   "version": "3.11.3"
  }
 },
 "nbformat": 4,
 "nbformat_minor": 2
}
